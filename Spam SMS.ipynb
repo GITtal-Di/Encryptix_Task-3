{
  "nbformat": 4,
  "nbformat_minor": 0,
  "metadata": {
    "colab": {
      "provenance": []
    },
    "kernelspec": {
      "name": "python3",
      "display_name": "Python 3"
    },
    "language_info": {
      "name": "python"
    }
  },
  "cells": [
    {
      "cell_type": "markdown",
      "source": [
        "#Spam SMS Classifier"
      ],
      "metadata": {
        "id": "FqtkL0jeQpts"
      }
    },
    {
      "cell_type": "markdown",
      "source": [
        "**Setting a random seed for Reproducibility**"
      ],
      "metadata": {
        "id": "c2f4eUdEZIqx"
      }
    },
    {
      "cell_type": "code",
      "execution_count": null,
      "metadata": {
        "id": "h7Tv-2BK4AoT"
      },
      "outputs": [],
      "source": [
        "seed = 42"
      ]
    },
    {
      "cell_type": "markdown",
      "source": [
        "**Importing required libraries and methods**"
      ],
      "metadata": {
        "id": "9mZXmFl-ZoMN"
      }
    },
    {
      "cell_type": "code",
      "source": [
        "import numpy as np\n",
        "import pandas as pd\n",
        "import matplotlib.pyplot as plt\n",
        "import seaborn as sns\n",
        "from sklearn.metrics import accuracy_score, confusion_matrix\n",
        "from sklearn.feature_extraction.text import TfidfVectorizer\n",
        "from sklearn.naive_bayes import MultinomialNB\n",
        "from sklearn.linear_model import LogisticRegression\n",
        "from sklearn.svm import SVC\n",
        "from sklearn.model_selection import GridSearchCV"
      ],
      "metadata": {
        "id": "se5ulH1l4xJA"
      },
      "execution_count": null,
      "outputs": []
    },
    {
      "cell_type": "markdown",
      "source": [
        "**Reading the `.csv` file**"
      ],
      "metadata": {
        "id": "n3NoWWKyZz60"
      }
    },
    {
      "cell_type": "code",
      "source": [
        "sms = '/content/Data/spam.csv'\n",
        "df = pd.read_csv(sms, encoding = 'latin-1')\n",
        "df.head()"
      ],
      "metadata": {
        "colab": {
          "base_uri": "https://localhost:8080/",
          "height": 206
        },
        "id": "-BKnm4hJ47mN",
        "outputId": "8141f702-5c85-4192-e5cd-25ac05ae1ff7"
      },
      "execution_count": null,
      "outputs": [
        {
          "output_type": "execute_result",
          "data": {
            "text/plain": [
              "     v1                                                 v2 Unnamed: 2  \\\n",
              "0   ham  Go until jurong point, crazy.. Available only ...        NaN   \n",
              "1   ham                      Ok lar... Joking wif u oni...        NaN   \n",
              "2  spam  Free entry in 2 a wkly comp to win FA Cup fina...        NaN   \n",
              "3   ham  U dun say so early hor... U c already then say...        NaN   \n",
              "4   ham  Nah I don't think he goes to usf, he lives aro...        NaN   \n",
              "\n",
              "  Unnamed: 3 Unnamed: 4  \n",
              "0        NaN        NaN  \n",
              "1        NaN        NaN  \n",
              "2        NaN        NaN  \n",
              "3        NaN        NaN  \n",
              "4        NaN        NaN  "
            ],
            "text/html": [
              "\n",
              "  <div id=\"df-d5958dc2-dad2-48e3-b612-a9e50a2faaaa\" class=\"colab-df-container\">\n",
              "    <div>\n",
              "<style scoped>\n",
              "    .dataframe tbody tr th:only-of-type {\n",
              "        vertical-align: middle;\n",
              "    }\n",
              "\n",
              "    .dataframe tbody tr th {\n",
              "        vertical-align: top;\n",
              "    }\n",
              "\n",
              "    .dataframe thead th {\n",
              "        text-align: right;\n",
              "    }\n",
              "</style>\n",
              "<table border=\"1\" class=\"dataframe\">\n",
              "  <thead>\n",
              "    <tr style=\"text-align: right;\">\n",
              "      <th></th>\n",
              "      <th>v1</th>\n",
              "      <th>v2</th>\n",
              "      <th>Unnamed: 2</th>\n",
              "      <th>Unnamed: 3</th>\n",
              "      <th>Unnamed: 4</th>\n",
              "    </tr>\n",
              "  </thead>\n",
              "  <tbody>\n",
              "    <tr>\n",
              "      <th>0</th>\n",
              "      <td>ham</td>\n",
              "      <td>Go until jurong point, crazy.. Available only ...</td>\n",
              "      <td>NaN</td>\n",
              "      <td>NaN</td>\n",
              "      <td>NaN</td>\n",
              "    </tr>\n",
              "    <tr>\n",
              "      <th>1</th>\n",
              "      <td>ham</td>\n",
              "      <td>Ok lar... Joking wif u oni...</td>\n",
              "      <td>NaN</td>\n",
              "      <td>NaN</td>\n",
              "      <td>NaN</td>\n",
              "    </tr>\n",
              "    <tr>\n",
              "      <th>2</th>\n",
              "      <td>spam</td>\n",
              "      <td>Free entry in 2 a wkly comp to win FA Cup fina...</td>\n",
              "      <td>NaN</td>\n",
              "      <td>NaN</td>\n",
              "      <td>NaN</td>\n",
              "    </tr>\n",
              "    <tr>\n",
              "      <th>3</th>\n",
              "      <td>ham</td>\n",
              "      <td>U dun say so early hor... U c already then say...</td>\n",
              "      <td>NaN</td>\n",
              "      <td>NaN</td>\n",
              "      <td>NaN</td>\n",
              "    </tr>\n",
              "    <tr>\n",
              "      <th>4</th>\n",
              "      <td>ham</td>\n",
              "      <td>Nah I don't think he goes to usf, he lives aro...</td>\n",
              "      <td>NaN</td>\n",
              "      <td>NaN</td>\n",
              "      <td>NaN</td>\n",
              "    </tr>\n",
              "  </tbody>\n",
              "</table>\n",
              "</div>\n",
              "    <div class=\"colab-df-buttons\">\n",
              "\n",
              "  <div class=\"colab-df-container\">\n",
              "    <button class=\"colab-df-convert\" onclick=\"convertToInteractive('df-d5958dc2-dad2-48e3-b612-a9e50a2faaaa')\"\n",
              "            title=\"Convert this dataframe to an interactive table.\"\n",
              "            style=\"display:none;\">\n",
              "\n",
              "  <svg xmlns=\"http://www.w3.org/2000/svg\" height=\"24px\" viewBox=\"0 -960 960 960\">\n",
              "    <path d=\"M120-120v-720h720v720H120Zm60-500h600v-160H180v160Zm220 220h160v-160H400v160Zm0 220h160v-160H400v160ZM180-400h160v-160H180v160Zm440 0h160v-160H620v160ZM180-180h160v-160H180v160Zm440 0h160v-160H620v160Z\"/>\n",
              "  </svg>\n",
              "    </button>\n",
              "\n",
              "  <style>\n",
              "    .colab-df-container {\n",
              "      display:flex;\n",
              "      gap: 12px;\n",
              "    }\n",
              "\n",
              "    .colab-df-convert {\n",
              "      background-color: #E8F0FE;\n",
              "      border: none;\n",
              "      border-radius: 50%;\n",
              "      cursor: pointer;\n",
              "      display: none;\n",
              "      fill: #1967D2;\n",
              "      height: 32px;\n",
              "      padding: 0 0 0 0;\n",
              "      width: 32px;\n",
              "    }\n",
              "\n",
              "    .colab-df-convert:hover {\n",
              "      background-color: #E2EBFA;\n",
              "      box-shadow: 0px 1px 2px rgba(60, 64, 67, 0.3), 0px 1px 3px 1px rgba(60, 64, 67, 0.15);\n",
              "      fill: #174EA6;\n",
              "    }\n",
              "\n",
              "    .colab-df-buttons div {\n",
              "      margin-bottom: 4px;\n",
              "    }\n",
              "\n",
              "    [theme=dark] .colab-df-convert {\n",
              "      background-color: #3B4455;\n",
              "      fill: #D2E3FC;\n",
              "    }\n",
              "\n",
              "    [theme=dark] .colab-df-convert:hover {\n",
              "      background-color: #434B5C;\n",
              "      box-shadow: 0px 1px 3px 1px rgba(0, 0, 0, 0.15);\n",
              "      filter: drop-shadow(0px 1px 2px rgba(0, 0, 0, 0.3));\n",
              "      fill: #FFFFFF;\n",
              "    }\n",
              "  </style>\n",
              "\n",
              "    <script>\n",
              "      const buttonEl =\n",
              "        document.querySelector('#df-d5958dc2-dad2-48e3-b612-a9e50a2faaaa button.colab-df-convert');\n",
              "      buttonEl.style.display =\n",
              "        google.colab.kernel.accessAllowed ? 'block' : 'none';\n",
              "\n",
              "      async function convertToInteractive(key) {\n",
              "        const element = document.querySelector('#df-d5958dc2-dad2-48e3-b612-a9e50a2faaaa');\n",
              "        const dataTable =\n",
              "          await google.colab.kernel.invokeFunction('convertToInteractive',\n",
              "                                                    [key], {});\n",
              "        if (!dataTable) return;\n",
              "\n",
              "        const docLinkHtml = 'Like what you see? Visit the ' +\n",
              "          '<a target=\"_blank\" href=https://colab.research.google.com/notebooks/data_table.ipynb>data table notebook</a>'\n",
              "          + ' to learn more about interactive tables.';\n",
              "        element.innerHTML = '';\n",
              "        dataTable['output_type'] = 'display_data';\n",
              "        await google.colab.output.renderOutput(dataTable, element);\n",
              "        const docLink = document.createElement('div');\n",
              "        docLink.innerHTML = docLinkHtml;\n",
              "        element.appendChild(docLink);\n",
              "      }\n",
              "    </script>\n",
              "  </div>\n",
              "\n",
              "\n",
              "<div id=\"df-d46b9e1c-fc94-4011-9b73-0f905a88ce44\">\n",
              "  <button class=\"colab-df-quickchart\" onclick=\"quickchart('df-d46b9e1c-fc94-4011-9b73-0f905a88ce44')\"\n",
              "            title=\"Suggest charts\"\n",
              "            style=\"display:none;\">\n",
              "\n",
              "<svg xmlns=\"http://www.w3.org/2000/svg\" height=\"24px\"viewBox=\"0 0 24 24\"\n",
              "     width=\"24px\">\n",
              "    <g>\n",
              "        <path d=\"M19 3H5c-1.1 0-2 .9-2 2v14c0 1.1.9 2 2 2h14c1.1 0 2-.9 2-2V5c0-1.1-.9-2-2-2zM9 17H7v-7h2v7zm4 0h-2V7h2v10zm4 0h-2v-4h2v4z\"/>\n",
              "    </g>\n",
              "</svg>\n",
              "  </button>\n",
              "\n",
              "<style>\n",
              "  .colab-df-quickchart {\n",
              "      --bg-color: #E8F0FE;\n",
              "      --fill-color: #1967D2;\n",
              "      --hover-bg-color: #E2EBFA;\n",
              "      --hover-fill-color: #174EA6;\n",
              "      --disabled-fill-color: #AAA;\n",
              "      --disabled-bg-color: #DDD;\n",
              "  }\n",
              "\n",
              "  [theme=dark] .colab-df-quickchart {\n",
              "      --bg-color: #3B4455;\n",
              "      --fill-color: #D2E3FC;\n",
              "      --hover-bg-color: #434B5C;\n",
              "      --hover-fill-color: #FFFFFF;\n",
              "      --disabled-bg-color: #3B4455;\n",
              "      --disabled-fill-color: #666;\n",
              "  }\n",
              "\n",
              "  .colab-df-quickchart {\n",
              "    background-color: var(--bg-color);\n",
              "    border: none;\n",
              "    border-radius: 50%;\n",
              "    cursor: pointer;\n",
              "    display: none;\n",
              "    fill: var(--fill-color);\n",
              "    height: 32px;\n",
              "    padding: 0;\n",
              "    width: 32px;\n",
              "  }\n",
              "\n",
              "  .colab-df-quickchart:hover {\n",
              "    background-color: var(--hover-bg-color);\n",
              "    box-shadow: 0 1px 2px rgba(60, 64, 67, 0.3), 0 1px 3px 1px rgba(60, 64, 67, 0.15);\n",
              "    fill: var(--button-hover-fill-color);\n",
              "  }\n",
              "\n",
              "  .colab-df-quickchart-complete:disabled,\n",
              "  .colab-df-quickchart-complete:disabled:hover {\n",
              "    background-color: var(--disabled-bg-color);\n",
              "    fill: var(--disabled-fill-color);\n",
              "    box-shadow: none;\n",
              "  }\n",
              "\n",
              "  .colab-df-spinner {\n",
              "    border: 2px solid var(--fill-color);\n",
              "    border-color: transparent;\n",
              "    border-bottom-color: var(--fill-color);\n",
              "    animation:\n",
              "      spin 1s steps(1) infinite;\n",
              "  }\n",
              "\n",
              "  @keyframes spin {\n",
              "    0% {\n",
              "      border-color: transparent;\n",
              "      border-bottom-color: var(--fill-color);\n",
              "      border-left-color: var(--fill-color);\n",
              "    }\n",
              "    20% {\n",
              "      border-color: transparent;\n",
              "      border-left-color: var(--fill-color);\n",
              "      border-top-color: var(--fill-color);\n",
              "    }\n",
              "    30% {\n",
              "      border-color: transparent;\n",
              "      border-left-color: var(--fill-color);\n",
              "      border-top-color: var(--fill-color);\n",
              "      border-right-color: var(--fill-color);\n",
              "    }\n",
              "    40% {\n",
              "      border-color: transparent;\n",
              "      border-right-color: var(--fill-color);\n",
              "      border-top-color: var(--fill-color);\n",
              "    }\n",
              "    60% {\n",
              "      border-color: transparent;\n",
              "      border-right-color: var(--fill-color);\n",
              "    }\n",
              "    80% {\n",
              "      border-color: transparent;\n",
              "      border-right-color: var(--fill-color);\n",
              "      border-bottom-color: var(--fill-color);\n",
              "    }\n",
              "    90% {\n",
              "      border-color: transparent;\n",
              "      border-bottom-color: var(--fill-color);\n",
              "    }\n",
              "  }\n",
              "</style>\n",
              "\n",
              "  <script>\n",
              "    async function quickchart(key) {\n",
              "      const quickchartButtonEl =\n",
              "        document.querySelector('#' + key + ' button');\n",
              "      quickchartButtonEl.disabled = true;  // To prevent multiple clicks.\n",
              "      quickchartButtonEl.classList.add('colab-df-spinner');\n",
              "      try {\n",
              "        const charts = await google.colab.kernel.invokeFunction(\n",
              "            'suggestCharts', [key], {});\n",
              "      } catch (error) {\n",
              "        console.error('Error during call to suggestCharts:', error);\n",
              "      }\n",
              "      quickchartButtonEl.classList.remove('colab-df-spinner');\n",
              "      quickchartButtonEl.classList.add('colab-df-quickchart-complete');\n",
              "    }\n",
              "    (() => {\n",
              "      let quickchartButtonEl =\n",
              "        document.querySelector('#df-d46b9e1c-fc94-4011-9b73-0f905a88ce44 button');\n",
              "      quickchartButtonEl.style.display =\n",
              "        google.colab.kernel.accessAllowed ? 'block' : 'none';\n",
              "    })();\n",
              "  </script>\n",
              "</div>\n",
              "\n",
              "    </div>\n",
              "  </div>\n"
            ],
            "application/vnd.google.colaboratory.intrinsic+json": {
              "type": "dataframe",
              "variable_name": "df",
              "summary": "{\n  \"name\": \"df\",\n  \"rows\": 5572,\n  \"fields\": [\n    {\n      \"column\": \"v1\",\n      \"properties\": {\n        \"dtype\": \"category\",\n        \"num_unique_values\": 2,\n        \"samples\": [\n          \"spam\",\n          \"ham\"\n        ],\n        \"semantic_type\": \"\",\n        \"description\": \"\"\n      }\n    },\n    {\n      \"column\": \"v2\",\n      \"properties\": {\n        \"dtype\": \"string\",\n        \"num_unique_values\": 5169,\n        \"samples\": [\n          \"Did u download the fring app?\",\n          \"Pass dis to all ur contacts n see wat u get! Red;i'm in luv wid u. Blue;u put a smile on my face. Purple;u r realy hot. Pink;u r so swt. Orange;i thnk i lyk u. Green;i realy wana go out wid u. Yelow;i wnt u bck. Black;i'm jealous of u. Brown;i miss you Nw plz giv me one color\"\n        ],\n        \"semantic_type\": \"\",\n        \"description\": \"\"\n      }\n    },\n    {\n      \"column\": \"Unnamed: 2\",\n      \"properties\": {\n        \"dtype\": \"category\",\n        \"num_unique_values\": 43,\n        \"samples\": [\n          \" GOD said\",\n          \" SHE SHUDVETOLD U. DID URGRAN KNOW?NEWAY\"\n        ],\n        \"semantic_type\": \"\",\n        \"description\": \"\"\n      }\n    },\n    {\n      \"column\": \"Unnamed: 3\",\n      \"properties\": {\n        \"dtype\": \"category\",\n        \"num_unique_values\": 10,\n        \"samples\": [\n          \" \\\\\\\"OH No! COMPETITION\\\\\\\". Who knew\",\n          \" why to miss them\"\n        ],\n        \"semantic_type\": \"\",\n        \"description\": \"\"\n      }\n    },\n    {\n      \"column\": \"Unnamed: 4\",\n      \"properties\": {\n        \"dtype\": \"category\",\n        \"num_unique_values\": 5,\n        \"samples\": [\n          \"GNT:-)\\\"\",\n          \" one day these two will become FREINDS FOREVER!\\\"\"\n        ],\n        \"semantic_type\": \"\",\n        \"description\": \"\"\n      }\n    }\n  ]\n}"
            }
          },
          "metadata": {},
          "execution_count": 185
        }
      ]
    },
    {
      "cell_type": "markdown",
      "source": [
        "###Exploratory data analysis and data Pre-*processing*"
      ],
      "metadata": {
        "id": "AYAzoT5aZ9e4"
      }
    },
    {
      "cell_type": "code",
      "source": [
        "df.shape"
      ],
      "metadata": {
        "colab": {
          "base_uri": "https://localhost:8080/"
        },
        "id": "SLgkLeju5sk2",
        "outputId": "68be4b9e-216e-440b-eb68-a27f2c73479d"
      },
      "execution_count": null,
      "outputs": [
        {
          "output_type": "execute_result",
          "data": {
            "text/plain": [
              "(5572, 5)"
            ]
          },
          "metadata": {},
          "execution_count": 186
        }
      ]
    },
    {
      "cell_type": "markdown",
      "source": [
        "**Checking for null fields**"
      ],
      "metadata": {
        "id": "YxRJityWaabA"
      }
    },
    {
      "cell_type": "code",
      "source": [
        "df.info()"
      ],
      "metadata": {
        "colab": {
          "base_uri": "https://localhost:8080/"
        },
        "id": "WR6-cFkv5WUo",
        "outputId": "2481853c-b1ee-4755-bf78-1e00a68a8e93"
      },
      "execution_count": null,
      "outputs": [
        {
          "output_type": "stream",
          "name": "stdout",
          "text": [
            "<class 'pandas.core.frame.DataFrame'>\n",
            "RangeIndex: 5572 entries, 0 to 5571\n",
            "Data columns (total 5 columns):\n",
            " #   Column      Non-Null Count  Dtype \n",
            "---  ------      --------------  ----- \n",
            " 0   v1          5572 non-null   object\n",
            " 1   v2          5572 non-null   object\n",
            " 2   Unnamed: 2  50 non-null     object\n",
            " 3   Unnamed: 3  12 non-null     object\n",
            " 4   Unnamed: 4  6 non-null      object\n",
            "dtypes: object(5)\n",
            "memory usage: 217.8+ KB\n"
          ]
        }
      ]
    },
    {
      "cell_type": "markdown",
      "source": [
        "**Dropping the unwanted coulmns**"
      ],
      "metadata": {
        "id": "8n9dnZsvajS9"
      }
    },
    {
      "cell_type": "code",
      "source": [
        "df = df.drop(['Unnamed: 2', 'Unnamed: 3', 'Unnamed: 4'], axis = 1)\n",
        "df.head()"
      ],
      "metadata": {
        "colab": {
          "base_uri": "https://localhost:8080/",
          "height": 206
        },
        "id": "WvKiEyUA5qiw",
        "outputId": "fbdd17d4-3ce4-4e13-f107-d8fe80375760"
      },
      "execution_count": null,
      "outputs": [
        {
          "output_type": "execute_result",
          "data": {
            "text/plain": [
              "     v1                                                 v2\n",
              "0   ham  Go until jurong point, crazy.. Available only ...\n",
              "1   ham                      Ok lar... Joking wif u oni...\n",
              "2  spam  Free entry in 2 a wkly comp to win FA Cup fina...\n",
              "3   ham  U dun say so early hor... U c already then say...\n",
              "4   ham  Nah I don't think he goes to usf, he lives aro..."
            ],
            "text/html": [
              "\n",
              "  <div id=\"df-aecbfbb5-96d9-4a59-aece-b24a38f2750d\" class=\"colab-df-container\">\n",
              "    <div>\n",
              "<style scoped>\n",
              "    .dataframe tbody tr th:only-of-type {\n",
              "        vertical-align: middle;\n",
              "    }\n",
              "\n",
              "    .dataframe tbody tr th {\n",
              "        vertical-align: top;\n",
              "    }\n",
              "\n",
              "    .dataframe thead th {\n",
              "        text-align: right;\n",
              "    }\n",
              "</style>\n",
              "<table border=\"1\" class=\"dataframe\">\n",
              "  <thead>\n",
              "    <tr style=\"text-align: right;\">\n",
              "      <th></th>\n",
              "      <th>v1</th>\n",
              "      <th>v2</th>\n",
              "    </tr>\n",
              "  </thead>\n",
              "  <tbody>\n",
              "    <tr>\n",
              "      <th>0</th>\n",
              "      <td>ham</td>\n",
              "      <td>Go until jurong point, crazy.. Available only ...</td>\n",
              "    </tr>\n",
              "    <tr>\n",
              "      <th>1</th>\n",
              "      <td>ham</td>\n",
              "      <td>Ok lar... Joking wif u oni...</td>\n",
              "    </tr>\n",
              "    <tr>\n",
              "      <th>2</th>\n",
              "      <td>spam</td>\n",
              "      <td>Free entry in 2 a wkly comp to win FA Cup fina...</td>\n",
              "    </tr>\n",
              "    <tr>\n",
              "      <th>3</th>\n",
              "      <td>ham</td>\n",
              "      <td>U dun say so early hor... U c already then say...</td>\n",
              "    </tr>\n",
              "    <tr>\n",
              "      <th>4</th>\n",
              "      <td>ham</td>\n",
              "      <td>Nah I don't think he goes to usf, he lives aro...</td>\n",
              "    </tr>\n",
              "  </tbody>\n",
              "</table>\n",
              "</div>\n",
              "    <div class=\"colab-df-buttons\">\n",
              "\n",
              "  <div class=\"colab-df-container\">\n",
              "    <button class=\"colab-df-convert\" onclick=\"convertToInteractive('df-aecbfbb5-96d9-4a59-aece-b24a38f2750d')\"\n",
              "            title=\"Convert this dataframe to an interactive table.\"\n",
              "            style=\"display:none;\">\n",
              "\n",
              "  <svg xmlns=\"http://www.w3.org/2000/svg\" height=\"24px\" viewBox=\"0 -960 960 960\">\n",
              "    <path d=\"M120-120v-720h720v720H120Zm60-500h600v-160H180v160Zm220 220h160v-160H400v160Zm0 220h160v-160H400v160ZM180-400h160v-160H180v160Zm440 0h160v-160H620v160ZM180-180h160v-160H180v160Zm440 0h160v-160H620v160Z\"/>\n",
              "  </svg>\n",
              "    </button>\n",
              "\n",
              "  <style>\n",
              "    .colab-df-container {\n",
              "      display:flex;\n",
              "      gap: 12px;\n",
              "    }\n",
              "\n",
              "    .colab-df-convert {\n",
              "      background-color: #E8F0FE;\n",
              "      border: none;\n",
              "      border-radius: 50%;\n",
              "      cursor: pointer;\n",
              "      display: none;\n",
              "      fill: #1967D2;\n",
              "      height: 32px;\n",
              "      padding: 0 0 0 0;\n",
              "      width: 32px;\n",
              "    }\n",
              "\n",
              "    .colab-df-convert:hover {\n",
              "      background-color: #E2EBFA;\n",
              "      box-shadow: 0px 1px 2px rgba(60, 64, 67, 0.3), 0px 1px 3px 1px rgba(60, 64, 67, 0.15);\n",
              "      fill: #174EA6;\n",
              "    }\n",
              "\n",
              "    .colab-df-buttons div {\n",
              "      margin-bottom: 4px;\n",
              "    }\n",
              "\n",
              "    [theme=dark] .colab-df-convert {\n",
              "      background-color: #3B4455;\n",
              "      fill: #D2E3FC;\n",
              "    }\n",
              "\n",
              "    [theme=dark] .colab-df-convert:hover {\n",
              "      background-color: #434B5C;\n",
              "      box-shadow: 0px 1px 3px 1px rgba(0, 0, 0, 0.15);\n",
              "      filter: drop-shadow(0px 1px 2px rgba(0, 0, 0, 0.3));\n",
              "      fill: #FFFFFF;\n",
              "    }\n",
              "  </style>\n",
              "\n",
              "    <script>\n",
              "      const buttonEl =\n",
              "        document.querySelector('#df-aecbfbb5-96d9-4a59-aece-b24a38f2750d button.colab-df-convert');\n",
              "      buttonEl.style.display =\n",
              "        google.colab.kernel.accessAllowed ? 'block' : 'none';\n",
              "\n",
              "      async function convertToInteractive(key) {\n",
              "        const element = document.querySelector('#df-aecbfbb5-96d9-4a59-aece-b24a38f2750d');\n",
              "        const dataTable =\n",
              "          await google.colab.kernel.invokeFunction('convertToInteractive',\n",
              "                                                    [key], {});\n",
              "        if (!dataTable) return;\n",
              "\n",
              "        const docLinkHtml = 'Like what you see? Visit the ' +\n",
              "          '<a target=\"_blank\" href=https://colab.research.google.com/notebooks/data_table.ipynb>data table notebook</a>'\n",
              "          + ' to learn more about interactive tables.';\n",
              "        element.innerHTML = '';\n",
              "        dataTable['output_type'] = 'display_data';\n",
              "        await google.colab.output.renderOutput(dataTable, element);\n",
              "        const docLink = document.createElement('div');\n",
              "        docLink.innerHTML = docLinkHtml;\n",
              "        element.appendChild(docLink);\n",
              "      }\n",
              "    </script>\n",
              "  </div>\n",
              "\n",
              "\n",
              "<div id=\"df-0449470b-edc5-4bac-8ba4-7e798b85e587\">\n",
              "  <button class=\"colab-df-quickchart\" onclick=\"quickchart('df-0449470b-edc5-4bac-8ba4-7e798b85e587')\"\n",
              "            title=\"Suggest charts\"\n",
              "            style=\"display:none;\">\n",
              "\n",
              "<svg xmlns=\"http://www.w3.org/2000/svg\" height=\"24px\"viewBox=\"0 0 24 24\"\n",
              "     width=\"24px\">\n",
              "    <g>\n",
              "        <path d=\"M19 3H5c-1.1 0-2 .9-2 2v14c0 1.1.9 2 2 2h14c1.1 0 2-.9 2-2V5c0-1.1-.9-2-2-2zM9 17H7v-7h2v7zm4 0h-2V7h2v10zm4 0h-2v-4h2v4z\"/>\n",
              "    </g>\n",
              "</svg>\n",
              "  </button>\n",
              "\n",
              "<style>\n",
              "  .colab-df-quickchart {\n",
              "      --bg-color: #E8F0FE;\n",
              "      --fill-color: #1967D2;\n",
              "      --hover-bg-color: #E2EBFA;\n",
              "      --hover-fill-color: #174EA6;\n",
              "      --disabled-fill-color: #AAA;\n",
              "      --disabled-bg-color: #DDD;\n",
              "  }\n",
              "\n",
              "  [theme=dark] .colab-df-quickchart {\n",
              "      --bg-color: #3B4455;\n",
              "      --fill-color: #D2E3FC;\n",
              "      --hover-bg-color: #434B5C;\n",
              "      --hover-fill-color: #FFFFFF;\n",
              "      --disabled-bg-color: #3B4455;\n",
              "      --disabled-fill-color: #666;\n",
              "  }\n",
              "\n",
              "  .colab-df-quickchart {\n",
              "    background-color: var(--bg-color);\n",
              "    border: none;\n",
              "    border-radius: 50%;\n",
              "    cursor: pointer;\n",
              "    display: none;\n",
              "    fill: var(--fill-color);\n",
              "    height: 32px;\n",
              "    padding: 0;\n",
              "    width: 32px;\n",
              "  }\n",
              "\n",
              "  .colab-df-quickchart:hover {\n",
              "    background-color: var(--hover-bg-color);\n",
              "    box-shadow: 0 1px 2px rgba(60, 64, 67, 0.3), 0 1px 3px 1px rgba(60, 64, 67, 0.15);\n",
              "    fill: var(--button-hover-fill-color);\n",
              "  }\n",
              "\n",
              "  .colab-df-quickchart-complete:disabled,\n",
              "  .colab-df-quickchart-complete:disabled:hover {\n",
              "    background-color: var(--disabled-bg-color);\n",
              "    fill: var(--disabled-fill-color);\n",
              "    box-shadow: none;\n",
              "  }\n",
              "\n",
              "  .colab-df-spinner {\n",
              "    border: 2px solid var(--fill-color);\n",
              "    border-color: transparent;\n",
              "    border-bottom-color: var(--fill-color);\n",
              "    animation:\n",
              "      spin 1s steps(1) infinite;\n",
              "  }\n",
              "\n",
              "  @keyframes spin {\n",
              "    0% {\n",
              "      border-color: transparent;\n",
              "      border-bottom-color: var(--fill-color);\n",
              "      border-left-color: var(--fill-color);\n",
              "    }\n",
              "    20% {\n",
              "      border-color: transparent;\n",
              "      border-left-color: var(--fill-color);\n",
              "      border-top-color: var(--fill-color);\n",
              "    }\n",
              "    30% {\n",
              "      border-color: transparent;\n",
              "      border-left-color: var(--fill-color);\n",
              "      border-top-color: var(--fill-color);\n",
              "      border-right-color: var(--fill-color);\n",
              "    }\n",
              "    40% {\n",
              "      border-color: transparent;\n",
              "      border-right-color: var(--fill-color);\n",
              "      border-top-color: var(--fill-color);\n",
              "    }\n",
              "    60% {\n",
              "      border-color: transparent;\n",
              "      border-right-color: var(--fill-color);\n",
              "    }\n",
              "    80% {\n",
              "      border-color: transparent;\n",
              "      border-right-color: var(--fill-color);\n",
              "      border-bottom-color: var(--fill-color);\n",
              "    }\n",
              "    90% {\n",
              "      border-color: transparent;\n",
              "      border-bottom-color: var(--fill-color);\n",
              "    }\n",
              "  }\n",
              "</style>\n",
              "\n",
              "  <script>\n",
              "    async function quickchart(key) {\n",
              "      const quickchartButtonEl =\n",
              "        document.querySelector('#' + key + ' button');\n",
              "      quickchartButtonEl.disabled = true;  // To prevent multiple clicks.\n",
              "      quickchartButtonEl.classList.add('colab-df-spinner');\n",
              "      try {\n",
              "        const charts = await google.colab.kernel.invokeFunction(\n",
              "            'suggestCharts', [key], {});\n",
              "      } catch (error) {\n",
              "        console.error('Error during call to suggestCharts:', error);\n",
              "      }\n",
              "      quickchartButtonEl.classList.remove('colab-df-spinner');\n",
              "      quickchartButtonEl.classList.add('colab-df-quickchart-complete');\n",
              "    }\n",
              "    (() => {\n",
              "      let quickchartButtonEl =\n",
              "        document.querySelector('#df-0449470b-edc5-4bac-8ba4-7e798b85e587 button');\n",
              "      quickchartButtonEl.style.display =\n",
              "        google.colab.kernel.accessAllowed ? 'block' : 'none';\n",
              "    })();\n",
              "  </script>\n",
              "</div>\n",
              "\n",
              "    </div>\n",
              "  </div>\n"
            ],
            "application/vnd.google.colaboratory.intrinsic+json": {
              "type": "dataframe",
              "variable_name": "df",
              "summary": "{\n  \"name\": \"df\",\n  \"rows\": 5572,\n  \"fields\": [\n    {\n      \"column\": \"v1\",\n      \"properties\": {\n        \"dtype\": \"category\",\n        \"num_unique_values\": 2,\n        \"samples\": [\n          \"spam\",\n          \"ham\"\n        ],\n        \"semantic_type\": \"\",\n        \"description\": \"\"\n      }\n    },\n    {\n      \"column\": \"v2\",\n      \"properties\": {\n        \"dtype\": \"string\",\n        \"num_unique_values\": 5169,\n        \"samples\": [\n          \"Did u download the fring app?\",\n          \"Pass dis to all ur contacts n see wat u get! Red;i'm in luv wid u. Blue;u put a smile on my face. Purple;u r realy hot. Pink;u r so swt. Orange;i thnk i lyk u. Green;i realy wana go out wid u. Yelow;i wnt u bck. Black;i'm jealous of u. Brown;i miss you Nw plz giv me one color\"\n        ],\n        \"semantic_type\": \"\",\n        \"description\": \"\"\n      }\n    }\n  ]\n}"
            }
          },
          "metadata": {},
          "execution_count": 188
        }
      ]
    },
    {
      "cell_type": "markdown",
      "source": [
        "**Label encoding the target v1 coulmn: 0 is non spam and 1 is spam**"
      ],
      "metadata": {
        "id": "3C-VyGfXaqKo"
      }
    },
    {
      "cell_type": "code",
      "source": [
        "from sklearn.preprocessing import LabelEncoder\n",
        "\n",
        "le = LabelEncoder()\n",
        "df['v1'] = le.fit_transform(df['v1'])\n",
        "df.head()"
      ],
      "metadata": {
        "colab": {
          "base_uri": "https://localhost:8080/",
          "height": 206
        },
        "id": "SN-jPISn6CuA",
        "outputId": "64a01e9f-f1b6-424b-be15-ed596ecd8df9"
      },
      "execution_count": null,
      "outputs": [
        {
          "output_type": "execute_result",
          "data": {
            "text/plain": [
              "   v1                                                 v2\n",
              "0   0  Go until jurong point, crazy.. Available only ...\n",
              "1   0                      Ok lar... Joking wif u oni...\n",
              "2   1  Free entry in 2 a wkly comp to win FA Cup fina...\n",
              "3   0  U dun say so early hor... U c already then say...\n",
              "4   0  Nah I don't think he goes to usf, he lives aro..."
            ],
            "text/html": [
              "\n",
              "  <div id=\"df-29643354-a0b9-4d66-90ef-4bd0f5671113\" class=\"colab-df-container\">\n",
              "    <div>\n",
              "<style scoped>\n",
              "    .dataframe tbody tr th:only-of-type {\n",
              "        vertical-align: middle;\n",
              "    }\n",
              "\n",
              "    .dataframe tbody tr th {\n",
              "        vertical-align: top;\n",
              "    }\n",
              "\n",
              "    .dataframe thead th {\n",
              "        text-align: right;\n",
              "    }\n",
              "</style>\n",
              "<table border=\"1\" class=\"dataframe\">\n",
              "  <thead>\n",
              "    <tr style=\"text-align: right;\">\n",
              "      <th></th>\n",
              "      <th>v1</th>\n",
              "      <th>v2</th>\n",
              "    </tr>\n",
              "  </thead>\n",
              "  <tbody>\n",
              "    <tr>\n",
              "      <th>0</th>\n",
              "      <td>0</td>\n",
              "      <td>Go until jurong point, crazy.. Available only ...</td>\n",
              "    </tr>\n",
              "    <tr>\n",
              "      <th>1</th>\n",
              "      <td>0</td>\n",
              "      <td>Ok lar... Joking wif u oni...</td>\n",
              "    </tr>\n",
              "    <tr>\n",
              "      <th>2</th>\n",
              "      <td>1</td>\n",
              "      <td>Free entry in 2 a wkly comp to win FA Cup fina...</td>\n",
              "    </tr>\n",
              "    <tr>\n",
              "      <th>3</th>\n",
              "      <td>0</td>\n",
              "      <td>U dun say so early hor... U c already then say...</td>\n",
              "    </tr>\n",
              "    <tr>\n",
              "      <th>4</th>\n",
              "      <td>0</td>\n",
              "      <td>Nah I don't think he goes to usf, he lives aro...</td>\n",
              "    </tr>\n",
              "  </tbody>\n",
              "</table>\n",
              "</div>\n",
              "    <div class=\"colab-df-buttons\">\n",
              "\n",
              "  <div class=\"colab-df-container\">\n",
              "    <button class=\"colab-df-convert\" onclick=\"convertToInteractive('df-29643354-a0b9-4d66-90ef-4bd0f5671113')\"\n",
              "            title=\"Convert this dataframe to an interactive table.\"\n",
              "            style=\"display:none;\">\n",
              "\n",
              "  <svg xmlns=\"http://www.w3.org/2000/svg\" height=\"24px\" viewBox=\"0 -960 960 960\">\n",
              "    <path d=\"M120-120v-720h720v720H120Zm60-500h600v-160H180v160Zm220 220h160v-160H400v160Zm0 220h160v-160H400v160ZM180-400h160v-160H180v160Zm440 0h160v-160H620v160ZM180-180h160v-160H180v160Zm440 0h160v-160H620v160Z\"/>\n",
              "  </svg>\n",
              "    </button>\n",
              "\n",
              "  <style>\n",
              "    .colab-df-container {\n",
              "      display:flex;\n",
              "      gap: 12px;\n",
              "    }\n",
              "\n",
              "    .colab-df-convert {\n",
              "      background-color: #E8F0FE;\n",
              "      border: none;\n",
              "      border-radius: 50%;\n",
              "      cursor: pointer;\n",
              "      display: none;\n",
              "      fill: #1967D2;\n",
              "      height: 32px;\n",
              "      padding: 0 0 0 0;\n",
              "      width: 32px;\n",
              "    }\n",
              "\n",
              "    .colab-df-convert:hover {\n",
              "      background-color: #E2EBFA;\n",
              "      box-shadow: 0px 1px 2px rgba(60, 64, 67, 0.3), 0px 1px 3px 1px rgba(60, 64, 67, 0.15);\n",
              "      fill: #174EA6;\n",
              "    }\n",
              "\n",
              "    .colab-df-buttons div {\n",
              "      margin-bottom: 4px;\n",
              "    }\n",
              "\n",
              "    [theme=dark] .colab-df-convert {\n",
              "      background-color: #3B4455;\n",
              "      fill: #D2E3FC;\n",
              "    }\n",
              "\n",
              "    [theme=dark] .colab-df-convert:hover {\n",
              "      background-color: #434B5C;\n",
              "      box-shadow: 0px 1px 3px 1px rgba(0, 0, 0, 0.15);\n",
              "      filter: drop-shadow(0px 1px 2px rgba(0, 0, 0, 0.3));\n",
              "      fill: #FFFFFF;\n",
              "    }\n",
              "  </style>\n",
              "\n",
              "    <script>\n",
              "      const buttonEl =\n",
              "        document.querySelector('#df-29643354-a0b9-4d66-90ef-4bd0f5671113 button.colab-df-convert');\n",
              "      buttonEl.style.display =\n",
              "        google.colab.kernel.accessAllowed ? 'block' : 'none';\n",
              "\n",
              "      async function convertToInteractive(key) {\n",
              "        const element = document.querySelector('#df-29643354-a0b9-4d66-90ef-4bd0f5671113');\n",
              "        const dataTable =\n",
              "          await google.colab.kernel.invokeFunction('convertToInteractive',\n",
              "                                                    [key], {});\n",
              "        if (!dataTable) return;\n",
              "\n",
              "        const docLinkHtml = 'Like what you see? Visit the ' +\n",
              "          '<a target=\"_blank\" href=https://colab.research.google.com/notebooks/data_table.ipynb>data table notebook</a>'\n",
              "          + ' to learn more about interactive tables.';\n",
              "        element.innerHTML = '';\n",
              "        dataTable['output_type'] = 'display_data';\n",
              "        await google.colab.output.renderOutput(dataTable, element);\n",
              "        const docLink = document.createElement('div');\n",
              "        docLink.innerHTML = docLinkHtml;\n",
              "        element.appendChild(docLink);\n",
              "      }\n",
              "    </script>\n",
              "  </div>\n",
              "\n",
              "\n",
              "<div id=\"df-875bdad7-f742-49b9-a5ee-e78f89d25308\">\n",
              "  <button class=\"colab-df-quickchart\" onclick=\"quickchart('df-875bdad7-f742-49b9-a5ee-e78f89d25308')\"\n",
              "            title=\"Suggest charts\"\n",
              "            style=\"display:none;\">\n",
              "\n",
              "<svg xmlns=\"http://www.w3.org/2000/svg\" height=\"24px\"viewBox=\"0 0 24 24\"\n",
              "     width=\"24px\">\n",
              "    <g>\n",
              "        <path d=\"M19 3H5c-1.1 0-2 .9-2 2v14c0 1.1.9 2 2 2h14c1.1 0 2-.9 2-2V5c0-1.1-.9-2-2-2zM9 17H7v-7h2v7zm4 0h-2V7h2v10zm4 0h-2v-4h2v4z\"/>\n",
              "    </g>\n",
              "</svg>\n",
              "  </button>\n",
              "\n",
              "<style>\n",
              "  .colab-df-quickchart {\n",
              "      --bg-color: #E8F0FE;\n",
              "      --fill-color: #1967D2;\n",
              "      --hover-bg-color: #E2EBFA;\n",
              "      --hover-fill-color: #174EA6;\n",
              "      --disabled-fill-color: #AAA;\n",
              "      --disabled-bg-color: #DDD;\n",
              "  }\n",
              "\n",
              "  [theme=dark] .colab-df-quickchart {\n",
              "      --bg-color: #3B4455;\n",
              "      --fill-color: #D2E3FC;\n",
              "      --hover-bg-color: #434B5C;\n",
              "      --hover-fill-color: #FFFFFF;\n",
              "      --disabled-bg-color: #3B4455;\n",
              "      --disabled-fill-color: #666;\n",
              "  }\n",
              "\n",
              "  .colab-df-quickchart {\n",
              "    background-color: var(--bg-color);\n",
              "    border: none;\n",
              "    border-radius: 50%;\n",
              "    cursor: pointer;\n",
              "    display: none;\n",
              "    fill: var(--fill-color);\n",
              "    height: 32px;\n",
              "    padding: 0;\n",
              "    width: 32px;\n",
              "  }\n",
              "\n",
              "  .colab-df-quickchart:hover {\n",
              "    background-color: var(--hover-bg-color);\n",
              "    box-shadow: 0 1px 2px rgba(60, 64, 67, 0.3), 0 1px 3px 1px rgba(60, 64, 67, 0.15);\n",
              "    fill: var(--button-hover-fill-color);\n",
              "  }\n",
              "\n",
              "  .colab-df-quickchart-complete:disabled,\n",
              "  .colab-df-quickchart-complete:disabled:hover {\n",
              "    background-color: var(--disabled-bg-color);\n",
              "    fill: var(--disabled-fill-color);\n",
              "    box-shadow: none;\n",
              "  }\n",
              "\n",
              "  .colab-df-spinner {\n",
              "    border: 2px solid var(--fill-color);\n",
              "    border-color: transparent;\n",
              "    border-bottom-color: var(--fill-color);\n",
              "    animation:\n",
              "      spin 1s steps(1) infinite;\n",
              "  }\n",
              "\n",
              "  @keyframes spin {\n",
              "    0% {\n",
              "      border-color: transparent;\n",
              "      border-bottom-color: var(--fill-color);\n",
              "      border-left-color: var(--fill-color);\n",
              "    }\n",
              "    20% {\n",
              "      border-color: transparent;\n",
              "      border-left-color: var(--fill-color);\n",
              "      border-top-color: var(--fill-color);\n",
              "    }\n",
              "    30% {\n",
              "      border-color: transparent;\n",
              "      border-left-color: var(--fill-color);\n",
              "      border-top-color: var(--fill-color);\n",
              "      border-right-color: var(--fill-color);\n",
              "    }\n",
              "    40% {\n",
              "      border-color: transparent;\n",
              "      border-right-color: var(--fill-color);\n",
              "      border-top-color: var(--fill-color);\n",
              "    }\n",
              "    60% {\n",
              "      border-color: transparent;\n",
              "      border-right-color: var(--fill-color);\n",
              "    }\n",
              "    80% {\n",
              "      border-color: transparent;\n",
              "      border-right-color: var(--fill-color);\n",
              "      border-bottom-color: var(--fill-color);\n",
              "    }\n",
              "    90% {\n",
              "      border-color: transparent;\n",
              "      border-bottom-color: var(--fill-color);\n",
              "    }\n",
              "  }\n",
              "</style>\n",
              "\n",
              "  <script>\n",
              "    async function quickchart(key) {\n",
              "      const quickchartButtonEl =\n",
              "        document.querySelector('#' + key + ' button');\n",
              "      quickchartButtonEl.disabled = true;  // To prevent multiple clicks.\n",
              "      quickchartButtonEl.classList.add('colab-df-spinner');\n",
              "      try {\n",
              "        const charts = await google.colab.kernel.invokeFunction(\n",
              "            'suggestCharts', [key], {});\n",
              "      } catch (error) {\n",
              "        console.error('Error during call to suggestCharts:', error);\n",
              "      }\n",
              "      quickchartButtonEl.classList.remove('colab-df-spinner');\n",
              "      quickchartButtonEl.classList.add('colab-df-quickchart-complete');\n",
              "    }\n",
              "    (() => {\n",
              "      let quickchartButtonEl =\n",
              "        document.querySelector('#df-875bdad7-f742-49b9-a5ee-e78f89d25308 button');\n",
              "      quickchartButtonEl.style.display =\n",
              "        google.colab.kernel.accessAllowed ? 'block' : 'none';\n",
              "    })();\n",
              "  </script>\n",
              "</div>\n",
              "\n",
              "    </div>\n",
              "  </div>\n"
            ],
            "application/vnd.google.colaboratory.intrinsic+json": {
              "type": "dataframe",
              "variable_name": "df",
              "summary": "{\n  \"name\": \"df\",\n  \"rows\": 5572,\n  \"fields\": [\n    {\n      \"column\": \"v1\",\n      \"properties\": {\n        \"dtype\": \"number\",\n        \"std\": 0,\n        \"min\": 0,\n        \"max\": 1,\n        \"num_unique_values\": 2,\n        \"samples\": [\n          1,\n          0\n        ],\n        \"semantic_type\": \"\",\n        \"description\": \"\"\n      }\n    },\n    {\n      \"column\": \"v2\",\n      \"properties\": {\n        \"dtype\": \"string\",\n        \"num_unique_values\": 5169,\n        \"samples\": [\n          \"Did u download the fring app?\",\n          \"Pass dis to all ur contacts n see wat u get! Red;i'm in luv wid u. Blue;u put a smile on my face. Purple;u r realy hot. Pink;u r so swt. Orange;i thnk i lyk u. Green;i realy wana go out wid u. Yelow;i wnt u bck. Black;i'm jealous of u. Brown;i miss you Nw plz giv me one color\"\n        ],\n        \"semantic_type\": \"\",\n        \"description\": \"\"\n      }\n    }\n  ]\n}"
            }
          },
          "metadata": {},
          "execution_count": 189
        }
      ]
    },
    {
      "cell_type": "code",
      "source": [
        "df['v1'].value_counts()"
      ],
      "metadata": {
        "colab": {
          "base_uri": "https://localhost:8080/"
        },
        "id": "e6Vm4P037Sot",
        "outputId": "28a801e5-541b-4877-8e23-e49e1112109f"
      },
      "execution_count": null,
      "outputs": [
        {
          "output_type": "execute_result",
          "data": {
            "text/plain": [
              "v1\n",
              "0    4825\n",
              "1     747\n",
              "Name: count, dtype: int64"
            ]
          },
          "metadata": {},
          "execution_count": 190
        }
      ]
    },
    {
      "cell_type": "markdown",
      "source": [
        "**Separating features and target**"
      ],
      "metadata": {
        "id": "H8_4gosCa6Ft"
      }
    },
    {
      "cell_type": "code",
      "source": [
        "X = df['v2']\n",
        "y = df['v1']\n",
        "X"
      ],
      "metadata": {
        "colab": {
          "base_uri": "https://localhost:8080/"
        },
        "id": "MTzE8RQwEnpa",
        "outputId": "38c5c0cd-32de-4ab1-bc11-4d60820fcd25"
      },
      "execution_count": null,
      "outputs": [
        {
          "output_type": "execute_result",
          "data": {
            "text/plain": [
              "0       Go until jurong point, crazy.. Available only ...\n",
              "1                           Ok lar... Joking wif u oni...\n",
              "2       Free entry in 2 a wkly comp to win FA Cup fina...\n",
              "3       U dun say so early hor... U c already then say...\n",
              "4       Nah I don't think he goes to usf, he lives aro...\n",
              "                              ...                        \n",
              "5567    This is the 2nd time we have tried 2 contact u...\n",
              "5568                Will Ì_ b going to esplanade fr home?\n",
              "5569    Pity, * was in mood for that. So...any other s...\n",
              "5570    The guy did some bitching but I acted like i'd...\n",
              "5571                           Rofl. Its true to its name\n",
              "Name: v2, Length: 5572, dtype: object"
            ]
          },
          "metadata": {},
          "execution_count": 191
        }
      ]
    },
    {
      "cell_type": "markdown",
      "source": [
        "**Making a train, validation and test split**"
      ],
      "metadata": {
        "id": "qWMChbiWbAVk"
      }
    },
    {
      "cell_type": "code",
      "source": [
        "from sklearn.model_selection import train_test_split\n",
        "\n",
        "X_train, X_, y_train, y_ = train_test_split(X, df['v1'], test_size = 0.4, random_state = seed)\n",
        "X_cv, X_test, y_cv, y_test = train_test_split(X_, y_, test_size = 0.5, random_state = seed)\n",
        "X_train.shape, y_train.shape, X_cv.shape, y_cv.shape,  X_test.shape, y_test.shape"
      ],
      "metadata": {
        "colab": {
          "base_uri": "https://localhost:8080/"
        },
        "id": "BjmpS3AUKsGM",
        "outputId": "c1f107fc-7577-43b4-a9d5-d6f3c21d6813"
      },
      "execution_count": null,
      "outputs": [
        {
          "output_type": "execute_result",
          "data": {
            "text/plain": [
              "((3343,), (3343,), (1114,), (1114,), (1115,), (1115,))"
            ]
          },
          "metadata": {},
          "execution_count": 192
        }
      ]
    },
    {
      "cell_type": "markdown",
      "source": [
        "**Vectorizing the text column**"
      ],
      "metadata": {
        "id": "QVh2g1RSbGec"
      }
    },
    {
      "cell_type": "code",
      "source": [
        "vectorizer = TfidfVectorizer()\n",
        "vectorizer.fit(X_train)\n",
        "X_train_vector = vectorizer.transform(X_train)\n",
        "X_cv_vector = vectorizer.transform(X_cv)\n",
        "X_test_vector = vectorizer.transform(X_test)\n",
        "X_train_vector.shape, X_cv_vector.shape, X_test_vector.shape"
      ],
      "metadata": {
        "colab": {
          "base_uri": "https://localhost:8080/"
        },
        "id": "BN1Vn5Qt7ZGk",
        "outputId": "83cad943-e35c-4243-e2da-136be4345232"
      },
      "execution_count": null,
      "outputs": [
        {
          "output_type": "execute_result",
          "data": {
            "text/plain": [
              "((3343, 6663), (1114, 6663), (1115, 6663))"
            ]
          },
          "metadata": {},
          "execution_count": 115
        }
      ]
    },
    {
      "cell_type": "markdown",
      "source": [
        "**Checking the vocabulary**"
      ],
      "metadata": {
        "id": "ChI_y33JbMHq"
      }
    },
    {
      "cell_type": "code",
      "source": [
        "print(vectorizer.vocabulary_)"
      ],
      "metadata": {
        "colab": {
          "base_uri": "https://localhost:8080/"
        },
        "id": "hLz7YHCr9v_n",
        "outputId": "9773b001-be8a-4c73-9439-95cb31dba01e"
      },
      "execution_count": null,
      "outputs": [
        {
          "output_type": "stream",
          "name": "stdout",
          "text": [
            "{'need': 4062, 'you': 6618, 'to': 5938, 'be': 1088, 'in': 3134, 'my': 4008, 'strong': 5576, 'arms': 898, 'haha': 2835, 'heard': 2907, 'that': 5827, 'text': 5807, 'me': 3779, 'when': 6421, 're': 4788, 'around': 901, 'what': 6417, 'love': 3619, 'hear': 2906, 'see': 5117, 'sundayish': 5649, 'then': 5843, 'pete': 4442, 'is': 3225, 'this': 5864, 'your': 6624, 'phone': 4455, 'still': 5540, 'its': 3243, 'jenny': 3286, 'from': 2614, 'college': 1636, 'and': 810, 'leanne': 3474, 'are': 883, 'up': 6153, 'now': 4163, 'doing': 2059, 'nothing': 4153, 'not': 4150, 'having': 2894, 'dinner': 1999, 'us': 6182, 'jamster': 3267, 'get': 2689, 'free': 2583, 'wallpaper': 6317, 'heart': 2908, '88888': 592, 'apply': 861, '16': 259, 'only': 4252, 'help': 2926, 'call': 1376, '08701213186': 63, 'sure': 5666, 'yet': 6607, 'trying': 6046, 'hold': 2980, 'of': 4205, 'him': 2955, 'cheers': 1517, 'for': 2547, 'the': 5832, 'message': 3821, 'zogtorius': 6648, 'iåõve': 3258, 'been': 1108, 'staring': 5508, 'at': 945, 'an': 809, 'age': 728, 'deciding': 1895, 'whether': 6428, 'or': 4278, 've': 6223, 'sent': 5147, 'it': 3236, 'he': 2898, 'can': 1399, 'send': 5138, 'yar': 6586, 'quite': 4738, 'clever': 1586, 'but': 1345, 'aft': 720, 'many': 3724, 'guesses': 2816, 'lor': 3602, 'got': 2760, 'ask': 923, 'bring': 1292, 'thk': 5865, 'darren': 1864, 'so': 5375, 'willing': 6454, 'go': 2726, 'aiya': 749, 'they': 5851, 'leona': 3492, 'attach': 953, 'wat': 6343, 'jus': 3338, 'chillaxin': 1541, 'going': 2736, 'ikea': 3110, 'str': 5562, 'dat': 1867, 'feb': 2422, 'lt': 3641, 'gt': 2809, 'day': 1875, 'dis': 2009, 'all': 771, 'ur': 6170, 'valued': 6210, 'frnds': 2610, 'evn': 2313, 'if': 3102, 'comes': 1649, 'back': 1020, 'll': 3562, 'married': 3739, 'person': 4434, 'luv': 3653, 'ignore': 3106, 'will': 6453, 'lose': 3603, 'evr': 2317, 'whats': 6419, 'coming': 1653, 'over': 4320, 'hill': 2952, 'monster': 3929, 'hope': 3005, 'have': 2888, 'great': 2789, 'things': 5855, 'fine': 2472, 'here': 2936, 'busy': 1344, 'though': 5874, 'aight': 743, 'address': 689, 'check': 1507, 'yahoo': 6582, 'email': 2211, 'we': 6362, 'photos': 4458, 'yesterday': 6606, 'ìï': 6654, 'eat': 2164, 'tonight': 5969, 'dont': 2071, 'search': 5103, 'let': 3499, 'find': 2470, 'thats': 5829, 'why': 6440, 'called': 1383, 'falling': 2387, 'bcoz': 1083, 'force': 2548, 'yourself': 6629, 'just': 3339, 'fall': 2386, 'know': 3403, 'there': 5848, 'smeone': 5346, 'bslvyl': 1314, 'paper': 4362, 'morn': 3938, 'tmr': 5934, 'tried': 6028, 'contact': 1706, 'reply': 4895, 'our': 4306, 'offer': 4210, 'video': 6241, '750': 513, 'anytime': 846, 'any': 838, 'network': 4083, 'mins': 3857, 'half': 2843, 'price': 4640, 'line': 3534, 'rental': 4884, 'camcorder': 1394, '08000930705': 42, 'yes': 6604, 'trust': 6042, 'buy': 1348, 'new': 4088, 'stuff': 5590, 'asap': 917, 'try': 6044, 'out': 4308, 'anything': 845, 'specific': 5443, 'should': 5237, 'with': 6474, 'regards': 4855, 'jaklin': 3264, 'because': 1097, 'idk': 3098, 'fuck': 2619, 'carlos': 1429, 'down': 2085, 'pick': 4465, 'swing': 5694, 'by': 1358, 'usf': 6190, 'little': 3554, 'bit': 1176, 'white': 6432, 'fudge': 2623, 'oreos': 4288, 'stores': 5558, 'cant': 1408, 'right': 4954, 'pls': 4518, 'no': 4117, 'dear': 1885, 'was': 6337, 'sleeping': 5319, 'selected': 5127, 'stay': 5522, '250': 305, 'top': 5979, 'british': 1298, 'hotels': 3024, 'holiday': 2984, 'worth': 6524, '350': 365, 'claim': 1568, 'london': 3587, '02072069400': 8, 'bx': 1355, '526': 452, 'sw73ss': 5681, 'dun': 2139, 'haf': 2834, 'hint': 2957, 'forum': 2565, 'already': 780, 'cos': 1736, 'told': 5953, 'ron': 4978, 'tell': 5778, 'shuhui': 5253, 'good': 2744, 'morning': 3939, 'amp': 803, 'successful': 5616, 'actor': 679, 'work': 6510, 'evening': 2293, 'sleep': 5317, 'late': 3452, 'since': 5279, 'unemployed': 6125, 'moment': 3918, 'always': 789, 'every': 2298, 'saturday': 5065, 'rcv': 4784, 'more': 3936, 'msgs': 3969, 'chat': 1499, 'svc': 5679, 'hardcore': 2874, 'services': 5158, '69988': 495, 'must': 4001, 'verify': 6229, 'yr': 6635, 'again': 726, 'coffee': 1622, 'run': 5013, 'tomo': 5959, 'believe': 1124, 'time': 5911, 'week': 6382, 'about': 643, 'rhythm': 4949, 'has': 2880, 'establish': 2281, 'body': 1220, 'learn': 3475, 'use': 6186, 'want': 6327, 'am': 791, 'think': 5856, 'say': 5071, 'on': 4243, 'syllabus': 5701, 'hey': 2943, 'leave': 3478, 'big': 1159, 'deal': 1882, 'take': 5721, 'care': 1419, 'yup': 6643, 'giving': 2715, 'problems': 4660, 'mayb': 3773, 'grandmas': 2780, 'oh': 4222, 'ill': 3114, 'felt': 2434, 'shit': 5214, 'hungover': 3056, 'another': 826, 'night': 4104, 'sat': 5059, 'babe': 1015, 'thasa': 5826, 'messed': 3824, 'yeh': 6596, 'today': 5943, 'sunday': 5648, 'pic': 4464, 'please': 4510, 'weekend': 6384, 'excuse': 2333, 'do': 2037, 'too': 5973, 'much': 3980, 'decorating': 1901, 'registered': 4857, 'sinco': 5280, 'as': 915, 'payee': 4402, 'log': 3577, 'icicibank': 3086, 'com': 1641, 'enter': 2243, 'urn': 6180, 'confirm': 1689, 'beware': 1148, 'frauds': 2579, 'share': 5189, 'disclose': 2015, 'anyone': 841, 'presnts': 4629, 'bcz': 1086, 'mis': 3864, 'jeevithathile': 3284, 'irulinae': 3224, 'neekunna': 4068, 'prakasamanu': 4607, 'sneham': 5368, 'prakasam': 4606, 'ennal': 2240, 'prabha': 4600, 'mns': 3891, 'resume': 4931, 'finished': 2477, 'avatar': 983, 'nigro': 4107, 'dunno': 2141, 'lei': 3489, 'might': 3837, 'eatin': 2166, 'wif': 6444, 'frens': 2593, 'ì_': 6653, 'wan': 6322, 'wait': 6303, 'lar': 3443, 'merry': 3819, 'christmas': 1559, 'annie': 820, 'watever': 6351, 'relation': 4862, 'built': 1327, 'world': 6517, 'thing': 5854, 'which': 6429, 'remains': 4870, 'atlast': 949, 'iz': 3253, 'lonlines': 3592, 'lotz': 3612, 'lot': 3608, 'memories': 3811, 'feeling': 2429, 'nope': 4136, 'meanwhile': 3786, 'she': 5194, 'talk': 5728, 'make': 3704, 'greet': 2794, 'missing': 3874, 'plenty': 4515, 'where': 6424, 'reached': 4791, 'cool': 1725, 'gentleman': 2684, 'treat': 6022, 'dignity': 1993, 'respect': 4915, 'orange': 4280, 'customer': 1828, 'may': 3772, 'camera': 1396, 'upgrade': 6160, 'loyalty': 3636, '0207': 7, '153': 256, '9996': 619, 'ends': 2224, '14thmarch': 247, 'opt': 4274, 'availa': 980, 'problem': 4659, 'walk': 6311, 'julianaland': 3331, 'oblivious': 4195, 'same': 5043, 'constantly': 1705, 'one': 4246, 'ear': 2152, 'other': 4298, 'while': 6430, 'off': 4207, 'whatever': 6418, 'don': 2067, 'upset': 6166, 'listen': 3549, 'surprised': 5672, 'mad': 3680, 'scared': 5076, 'supposed': 5663, 'couldn': 1747, 'town': 5998, 'sorry': 5414, 'later': 3454, '8th': 605, 'campus': 1398, 'atm': 951, 'could': 1746, 'hour': 3027, 'two': 6074, 'cartons': 1435, 'very': 6233, 'pleased': 4511, 'shelves': 5199, 'how': 3031, 'noe': 4120, 'did': 1977, 'specify': 5444, 'da': 1843, 'domain': 2066, 'nusstu': 4179, 'sch': 5080, 'haven': 2889, 'left': 3483, 'probably': 4658, 'gonna': 2743, 'til': 5908, 'goes': 2731, 'miss': 3870, 'loving': 3629, 'kiss': 3395, 'everything': 2307, 'well': 6399, 'class': 1574, 'awww': 1001, 'sweet': 5688, 'something': 5397, 'nice': 4097, 'txt': 6075, 'im': 3117, 'lonely': 3589, 'xxx': 6572, 'come': 1647, 'took': 5974, 'long': 3590, 'zaher': 6645, 'words': 6509, 'ym': 6612, 'happy': 2872, 'them': 5839, 'sad': 5026, 'had': 2833, 'yavnt': 6589, 'never': 4087, 'played': 4502, 'original': 4291, 'either': 2197, 'yeah': 6592, 'able': 641, 'ready': 4798, 'meet': 3795, 'jane': 3271, 'babes': 1016, 'goin': 2734, 'wrk': 6539, 'feel': 2427, 'after': 721, 'lst': 3640, 'nite': 4113, 'foned': 2538, 'cover': 1759, 'chuck': 1560, 'also': 783, 'cbe': 1454, 'pay': 4400, 'whens': 6423, 'radio': 4747, 'show': 5243, 'consent': 1700, 'forms': 2563, 'outside': 4315, 'islands': 3230, 'head': 2899, 'towards': 5997, 'hard': 2873, 'rock': 4968, 'into': 3201, 'baby': 1018, 'alright': 781, 'job': 3300, 'smile': 5347, 'across': 672, 'sea': 5102, 'urgent': 6174, 'won': 6499, 'membership': 3809, '100': 209, '000': 1, 'prize': 4654, 'jackpot': 3261, 'word': 6508, '81010': 544, 'www': 6558, 'dbuk': 1878, 'net': 4077, 'lccltd': 3467, 'pobox': 4529, '4403ldnw1a7rw18': 405, 'oic': 4224, 'saw': 5070, 'tot': 5990, 'din': 1996, 'found': 2570, 'group': 2804, 'liao': 3504, 'both': 1244, 'wonders': 6504, '7th': 529, '6th': 503, 'style': 5595, '5th': 466, '4th': 434, 'personality': 4437, '3rd': 386, 'nature': 4043, '2nd': 332, 'sms': 5358, '1st': 272, 'lovely': 3622, 'friendship': 2605, 'returns': 4938, 'wish': 6468, 'birthday': 1174, 'hahaha': 2836, 'brain': 1268, 'hiya': 2966, 'comin': 1652, 'bristol': 1297, 'st': 5494, 'april': 873, 'les': 3494, 'rudi': 5004, 'yrs': 6636, 'eve': 2290, 'snoring': 5371, 'were': 6406, 'drunk': 2122, 'bak': 1031, 'sends': 5141, 'ink': 3172, 'bath': 1065, 'dude': 2133, 'forgot': 2557, 'even': 2292, 'dan': 1851, 'reminded': 4877, 'guys': 2825, 'fun': 2630, 'haircut': 2840, 'breezy': 1283, 'thanks': 5822, 'temales': 5785, 'wonderful': 6502, 'thank': 5821, 'weeks': 6387, 'savamob': 5067, 'member': 3807, 'offers': 4213, 'accessible': 655, '08709501522': 81, 'details': 1957, '139': 243, 'la3': 3420, '2wu': 345, '50': 441, 'mobile': 3897, 'ok': 4226, 'look': 3594, 'respond': 4918, 'imma': 3121, 'assume': 938, 'asleep': 930, 'start': 5511, 'calling': 1389, 'better': 1143, 'quickly': 4736, 'bathe': 1066, 'settle': 5163, 'noice': 4121, 'plan': 4494, 'maybe': 3774, 'credit': 1781, 'card': 1417, 'gas': 2662, 'like': 3520, 'senthil': 5149, 'hsbc': 3043, 'rules': 5008, 'earlier': 2153, 'happening': 2867, 'showing': 5246, 'responsibility': 4921, 'bend': 1134, 'rule': 5007, 'way': 6357, 'tired': 5919, 'thia': 5852, 'argument': 890, 'movie': 3955, 'doesnt': 2048, 'inlude': 3173, 'previews': 4637, 'getting': 2695, 'several': 5167, 'sir': 5289, 'ish': 3227, 'inclusive': 3144, 'credits': 1783, 'goto': 2764, 'comuk': 1678, 'login': 3578, '3qxj9': 385, 'unsubscribe': 6148, 'stop': 5551, 'extra': 2361, 'charge': 1489, '08702840625': 71, '220': 296, 'cm2': 1607, '9ae': 620, 'office': 4214, 'pm': 4526, 'hospital': 3017, 'brother': 1305, 'speak': 5437, 'aids': 742, 'patent': 4393, 'cause': 1451, 'freaky': 2582, 'lol': 3583, 'lousy': 3616, 'kept': 3369, 'waking': 6308, 'hours': 3028, 'cat': 1445, 'wanted': 6329, 'worry': 6521, 'cold': 1627, 'latest': 3455, 'version': 6231, 'project': 4671, 'hmm': 2972, 'leh': 3488, 'bag': 1025, 'goigng': 2733, 'small': 5341, 'except': 2329, 'perfume': 4426, 'smth': 5363, 'keep': 3364, 'flaked': 2501, 'last': 3449, 'seriously': 5155, 'roommate': 4981, 'pocked': 4539, 'before': 1114, 'hello': 2924, 'hun': 3055, 'ru': 5000, 'dates': 1870, 'guy': 2824, 'met': 3827, 'walkabout': 6312, 'far': 2402, 'soon': 5410, 'hows': 3035, 'everyone': 2303, 'else': 2208, 'bitch': 1177, 'hi': 2947, 'kate': 3358, 'give': 2713, 'ring': 4957, 'sis': 5290, 'bathing': 1067, 'dog': 2050, 'looks': 3598, 'rain': 4753, 'game': 2648, 'play': 4501, 'doesn': 2047, 'march': 3728, 'tomorrow': 5961, 'private': 4652, '2003': 284, 'account': 665, 'statement': 5518, 'shows': 5248, '800': 533, 'un': 6106, 'redeemed': 4841, 'points': 4545, '08715203652': 106, 'identifier': 3095, 'code': 1621, '42810': 402, 'expires': 2351, '29': 315, '10': 208, 'gotta': 2765, 'collect': 1631, 'car': 1416, 'eaten': 2165, 'anybody': 839, 'number': 4175, 'thought': 5875, 'tactful': 5714, 'alex': 765, 'greatest': 2790, 'test': 5803, 'courage': 1754, 'earth': 2157, 'bear': 1090, 'defeat': 1910, 'without': 6477, 'losing': 3605, 'gn': 2724, 'tc': 5755, 'no1': 4118, 'nokia': 4125, 'tone': 5963, 'mob': 3896, '8007': 536, 'txting': 6081, 'mates': 3756, 'getzed': 2696, 'co': 1613, 'uk': 6098, '36504': 368, 'w45wq': 6294, 'norm150p': 4142, 'raviyog': 4779, 'peripherals': 4429, 'bhayandar': 1155, 'east': 2160, 'howz': 3036, 'pain': 4347, 'kinda': 3390, 'first': 2487, 'gets': 2692, 'twelve': 6068, 'aah': 630, '86688': 573, 'each': 2150, '150p': 251, 'msg': 3964, 'rcvd': 4785, 'hg': 2945, 'suite342': 5634, '2lands': 323, 'row': 4991, 'w1j6hl': 6291, 'ldn': 3470, '18': 262, 'years': 6594, 'vote': 6279, 'wherever': 6426, 'guides': 2818, 'tall': 5733, 'princess': 4646, 'school': 5082, 'lab': 3422, 'some': 5388, 'done': 2069, 'hopefully': 3008, 'tyler': 6087, 'waiting': 6306, 'welp': 6400, 'sort': 5415, 'semiobscure': 5136, 'internet': 3199, 'didnt': 1979, 'bed': 1103, 'kisses': 3396, 'uncle': 6111, 'checking': 1511, 'rewarding': 4946, 'month': 3930, 'whom': 6436, 'waited': 6304, 'ringtone': 4958, 'service': 5157, 'changed': 1483, '25': 304, 'club4mobiles': 1602, 'choose': 1552, 'content': 1710, 'club': 1600, '87070': 577, 'wk': 6482, 'club4': 1601, 'po': 4528, 'box1146': 1252, 'mk45': 3886, '2wt': 344, 'important': 3127, 'information': 3167, 'o2': 4191, 'user': 6188, 'lucky': 3647, 'onto': 4255, 'http': 3045, 'urawinner': 6171, 'fantastic': 2400, 'surprise': 5671, 'awaiting': 994, 'area': 884, 'restaurant': 4924, 'final': 2466, 'attempt': 956, 'messages': 3822, 'claims': 1570, 'dept': 1941, '13': 240, '04': 12, '08717507382': 113, 'idea': 3091, 'anyplaces': 843, 'place': 4491, 'goodmorning': 2749, 'grandfather': 2778, 'expired': 2350, 'basically': 1059, 'next': 4094, 'away': 998, 'mom': 3917, 'theory': 5846, 'wins': 6465, 'situation': 5298, 'loses': 3604, 'argue': 889, 'friends': 2603, 'kick': 3379, 'correct': 1733, 'put': 4717, 'excellent': 2328, 'sub': 5599, 'face': 2369, 'naughty': 4045, 'bought': 1248, 'myself': 4012, 'clothes': 1597, 'shopping': 5226, 'tho': 5870, 'kind': 3389, 'wanna': 6325, 'shoot': 5223, 'loads': 3568, 'january': 3272, 'male': 3709, 'sale': 5036, 'hot': 3022, 'gay': 2667, 'cheaper': 1503, '08709222922': 80, 'national': 4039, 'rate': 4774, '5p': 464, 'min': 3843, 'cheap': 1502, '8p': 603, 'peak': 4412, 'texts': 5816, '08712460324': 98, '10p': 218, 'farm': 2403, 'tour': 5996, '9am': 621, '5pm': 465, '95': 614, 'pax': 4399, 'deposit': 1938, 'ard': 882, '530': 454, 'juz': 3340, 'mrt': 3962, 'station': 5520, 'tape': 5739, 'measure': 3787, 'fri': 2598, 'comingdown': 1654, 'forget': 2553, 'study': 5588, 'acc': 651, 'bank': 1043, 'natwest': 4044, 'bad': 1023, 'girl': 2707, 'remember': 4871, 'england': 2233, 'official': 4216, 'poly': 4551, 'colour': 1638, 'flag': 2500, 'yer': 6603, '84199': 564, 'eng': 2228, 'box39822': 1257, 'w111wx': 6288, 'book': 1229, 'return': 4935, 'immediately': 3123, 'awarded': 997, '2000': 283, 'guaranteed': 2811, '09058094454': 147, 'land': 3434, '3030': 354, 'valid': 6206, '12hrs': 238, 'wen': 6401, 'finish': 2475, 'fancy': 2397, 'meetin': 3796, 'wiv': 6480, 'tonite': 5971, 'break': 1274, 'dabooks': 1845, 'hrs': 3042, 'chikku': 1533, 'favourite': 2420, 'song': 5405, 'monday': 3922, 'home': 2989, 'block': 1200, 'house': 3029, 'drive': 2110, 'armenia': 897, 'swann': 5684, 'howard': 3032, 'terms': 5795, 'mids': 3836, 'promises': 4678, 'gotten': 2766, 'den': 1927, 'weekdays': 6383, 'special': 5439, 'haiz': 2842, 'cut': 1831, 'nails': 4022, 'oso': 4296, 'muz': 4005, 'until': 6151, 'drivin': 2112, 'lunch': 3651, 'bbq': 1076, 'mine': 3849, '6ish': 498, 'welcome': 6397, 'bloody': 1209, 'hell': 2922, 'surname': 5670, 'mr': 3960, 'clue': 1605, 'spanish': 5435, 'begins': 1119, 'jason': 3275, 'says': 5073, 'yo': 6614, 'stock': 5542, 'dubsack': 2131, 'wont': 6505, 'driving': 2113, 'clas': 1573, 'nah': 4021, 'wrks': 6541, 'wot': 6526, 'bout': 1249, 'enjoy': 2235, 'jot': 3318, 'workin': 6513, 'overtime': 4324, 'nigpun': 4106, 'afternoon': 722, 'tm': 5931, 'smart': 5342, 'move': 3952, 'slave': 5316, 'smiles': 5348, 'drink': 2105, 'await': 993, 'didn': 1978, 'decided': 1894, 'jurong': 3337, 'point': 4544, 'crazy': 1776, 'available': 981, 'bugis': 1324, 'la': 3418, 'buffet': 1323, 'cine': 1562, 'amore': 801, 'through': 5885, 'ned': 4061, 'convince': 1720, 'tht': 5892, 'possible': 4576, 'witot': 6478, 'hurting': 3065, 'his': 2960, 'main': 3701, 'months': 3932, 'delivery': 1924, 'picking': 4467, 'various': 6214, 'said': 5031, 'actually': 681, 'gr8': 2770, 'wake': 6307, 'friend': 2602, 'actual': 680, 'who': 6434, 'wants': 6331, 'tickets': 5902, 'walsall': 6320, 'tue': 6056, 'th': 5817, 'mate': 3755, 'terry': 5801, 'meeting': 3797, 'opinion': 4269, 'jada': 3262, 'kusruthi': 3414, 'lovable': 3618, 'silent': 5269, 'spl': 5463, 'character': 1488, 'matured': 3766, 'stylish': 5598, 'simple': 5275, 'lots': 3609, 'used': 6187, 'ones': 4247, 'model': 3909, 'youi': 6620, 'match': 3752, 'cash': 1438, 'balance': 1033, 'currently': 1822, '500': 442, 'pounds': 4589, 'maximize': 3770, 'cc': 1455, '08718720201': 119, 'spent': 5453, 'air': 746, 'iraq': 3217, 'afghanistan': 716, 'stable': 5496, 'honest': 2992, 'traveling': 6018, 'tat': 5741, 'yijue': 6611, 'mah': 3692, 'askin': 926, 'leaving': 3480, 'plz': 4525, 'note': 4151, 'asks': 928, 'type': 6088, 'disconnect': 2016, 'coz': 1762, 'terrorist': 5800, 'sim': 5273, 'itz': 3247, 'confirmd': 1690, 'motorola': 3948, 'verified': 6228, 'cnn': 1612, 'ibn': 3081, 'theatre': 5835, 'update_now': 6159, '12mths': 239, '400mins': 394, 'mobileupd8': 3901, '08000839402': 41, 'call2optout': 1378, 'j5q': 3259, 'spoke': 5470, 'maneesha': 3720, 'satisfied': 5062, 'experience': 2348, 'toll': 5955, 'wednesday': 6378, 'mini': 3850, 'cheetos': 1520, 'snow': 5372, 'than': 5818, 'those': 5871, 'flurries': 2522, 'usually': 6196, 'melt': 3806, 'hit': 2962, 'ground': 2803, 'eek': 2183, 'born': 1241, 'frying': 2617, 'pan': 4351, 'case': 1437, 'perhaps': 4427, 'silly': 5271, 'isn': 3231, 'likely': 3522, 'yun': 6640, 'buying': 1351, 'plus': 4523, 'ilol': 3116, 'personally': 4438, 'wuldnt': 6556, 'bother': 1245, 'mite': 3881, 'ou': 4304, '40gb': 396, 'ipod': 3215, 'mp3': 3958, 'player': 4503, '83355': 558, 'ibhltd': 3078, 'ldnw15h': 3471, 'mtmsgrcvd18': 3977, 'jay': 3277, 'fucking': 2621, 'retard': 4933, 'saying': 5072, 'simply': 5277, 'sitting': 5297, 'serious': 5154, 'proper': 4686, 'tongued': 5968, 'her': 2935, 'contract': 1714, '11': 220, 'mnths': 3893, 'etc': 2283, 'double': 2080, 'tariffs': 5740, 'callback': 1379, 'remove': 4881, 'records': 4835, 'prin': 4643, 'summers': 5643, 'finally': 2467, 'flirt': 2512, 'sexy': 5170, 'singles': 5284, 'matched': 3753, 'summer': 5642, 'join': 3306, 'optout': 4277, 'help08714742804': 2927, 'full': 2628, 'sometext': 5395, 'inside': 3184, 'park': 4372, 'change': 1482, 'yan': 6585, 'jiu': 3299, 'consider': 1702, 'walls': 6318, 'bunkers': 1332, 'peaceful': 4411, 'guess': 2815, 'high': 2951, 'enough': 2241, 'matter': 3763, 'india': 3156, 'lead': 3473, 'sos': 5421, 'amount': 802, 'prob': 4657, 'girls': 2710, 'rang': 4771, 'really': 4805, 'beautiful': 1093, 'library': 3507, 'todays': 5944, 'draw': 2097, '09050003091': 140, 'c52': 1363, 'frm': 2608, 'slowly': 5338, 'kills': 3388, 'ree': 4843, 'entry': 2251, 'weekly': 6386, 'comp': 1659, 'chance': 1480, 'win': 6456, 'pod': 4543, '80182': 540, 'std': 5527, '08452810073': 58, 'planning': 4498, 'stops': 5556, 'hella': 2923, 'weed': 6381, 'burgundy': 1336, 'captaining': 1415, 'party': 4382, 'boat': 1219, 'company': 1661, 'days': 1876, 'making': 3707, 'invited': 3206, 'studying': 5589, 'stress': 5569, 'l8r': 3416, 'annoying': 824, 'birth': 1173, '8lb': 602, '7oz': 527, 'mother': 3945, 'brilliantly': 1291, 'itself': 3244, 'however': 3034, 'suggest': 5631, 'stays': 5526, 'someone': 5392, 'ors': 4293, 'stool': 5550, 'wonder': 6501, '5000': 443, 'calls': 1390, '09050005321': 141, '123': 232, 'congratulations': 1695, 'competition': 1665, '1450': 246, '09050002311': 139, 'b4280703': 1009, 'cs': 1797, '08718727868': 123, '150ppm': 254, 'arsenal': 909, 'dartboard': 1865, 'condition': 1683, 'doubles': 2081, 'trebles': 6025, 'drunkard': 2123, 'hair': 2839, 'wats': 6353, 'ya': 6581, 'referin': 4847, 'mei': 3801, 'ex': 2323, 'ah': 736, 'waitin': 6305, 'somebody': 5390, 'shld': 5219, 'rich': 4951, 'gd': 2672, 'onwards': 4256, 'engalnd': 2231, 'telly': 5782, 'watch': 6344, 'mia': 3831, 'elliot': 2207, 'kissing': 3397, 'damn': 1850, 'tmorrow': 5933, 'accomodate': 661, 'huh': 3052, 'lesson': 3497, 'thinkin': 5858, 'parkin': 4373, 'kent': 3368, 'vale': 6203, 'er': 2260, 'mw': 4006, 'filled': 2458, 'tuth': 6065, 'hdd': 2897, 'casing': 1442, 'cost': 1738, 'mths': 3974, 'update': 6158, 'phones': 4456, 'wherre': 6427, 'boytoy': 1265, 'freemsg': 2588, '84025': 561, 'web2mobile': 6370, 'txt250': 6076, '50p': 447, 'box139': 1253, 'la32wu': 3421, 'txtx': 6086, 'sense': 5144, 'unless': 6139, 'wikipedia': 6449, 'course': 1755, 'went': 6403, 'lim': 3528, 'notice': 4154, 'looking': 3597, 'mirror': 3863, 'youre': 6625, 'turning': 6063, 'freak': 2580, 'best': 1139, 'step': 5532, 'foward': 2572, 'ruin': 5006, 'paying': 4403, 'rent': 4883, 'past': 4392, 'few': 2441, 'would': 6529, 'inconsiderate': 3146, 'nag': 4019, 'recession': 4825, 'hence': 2932, 'ahead': 738, 'end': 2221, 'honey': 2995, 'ave': 985, 'gimmi': 2705, 'de': 1880, 'goss': 2759, 'hiding': 2950, 'stranger': 5567, 'ic': 3083, 'doors': 2075, 'sometime': 5398, 'omw': 4242, 'order': 4284, 'half8th': 2844, 'baaaaaaaabe': 1013, 'crave': 1774, 'shall': 5182, '08702490080': 70, 'tells': 5781, '09066358152': 181, 'personal': 4436, 'prompts': 4683, 'careful': 1424, 'woke': 6495, 'dropped': 2116, 'cell': 1466, 'stairs': 5500, 'seems': 5123, 'phews': 4450, 'wan2': 6323, 'westlife': 6412, 'm8': 3668, 'unbreakable': 6109, 'untamed': 6150, 'unkempt': 6137, '83049': 554, 'settling': 5165, 'happenin': 2866, 'wit': 6473, 'ola': 4235, 'storming': 5560, 'lift': 3516, 'phne': 4453, 'knw': 3407, 'wt': 6548, 'real': 4799, 'meaning': 3783, 'name': 4026, 'margaret': 3730, 'girlfrnd': 2708, 'grahmbell': 2775, 'invnted': 3208, 'telphone': 5783, 'moral': 3935, '4get': 425, 'enufcredeit': 2253, 'tocall': 5941, 'ileave': 3113, 'uni': 6129, 'bus': 1341, 'yor': 6617, 'under': 6119, 'lays': 3465, 'envelope': 2255, 'working': 6514, 'eyes': 2365, 'philosophy': 4452, 'vl': 6269, 'board': 1218, 'issue': 3234, 'overheating': 4323, 'reslove': 4911, 'software': 5380, 'inst': 3185, 'pending': 4416, 'clock': 1589, 'happens': 2868, 'vegas': 6224, '2stoptxt': 340, 'pool': 4558, 'money': 3923, 'together': 5947, 'bunch': 1330, 'lotto': 3611, 'mean': 3782, 'chase': 1496, 'stated': 5517, 'movies': 3956, 'cancel': 1401, 'visit': 6264, 'grocers': 2800, 'fr': 2573, 'ndship': 4050, 'needle': 4065, 'nt': 4167, '4few': 423, 'seconds': 5109, 'bt': 1316, 'alwys': 790, 'conected': 1685, 'gud': 2813, '9t': 624, 'hungry': 3057, 'food': 2539, 'mum': 3988, 'depends': 1937, 'handset': 2855, 'networks': 4085, 'unlimited': 6140, 'living': 3560, 'laughing': 3460, 'winning': 6464, 'tooo': 5977, 'being': 1123, 'difficult': 1989, 'nte': 4168, 'thursday': 5896, 'wnt': 6493, 'bmw': 1217, 'urgently': 6175, 'vry': 6284, 'hv': 3070, 'shortage': 5230, 'lacs': 3425, 'source': 5428, 'arng': 899, 'amt': 807, 'complimentary': 1673, 'trip': 6029, 'eurodisinc': 2288, 'trav': 6016, 'aco': 671, 'entry41': 2252, '1000': 210, '87121': 579, 'morefrmmob': 3937, 'shracomorsglsuplt': 5249, 'ls1': 3637, '3aj': 374, 'wouldn': 6530, 'different': 1988, 'styles': 5596, 'mood': 3933, 'starshine': 5510, 'does': 2045, 'ache': 668, 'sips': 5288, 'cappuccino': 1412, 'teasing': 5767, 'receive': 4819, 'post': 4578, 'completely': 1670, 'accommodation': 659, 'global': 2719, 'locations': 3573, 'phb1': 4449, 'ph': 4447, '08700435505150p': 61, 'swimming': 5692, 'sheffield': 5196, 'tom': 5956, 'opinions': 4270, 'categories': 1449, 'ethnicity': 2284, 'census': 1467, 'transcribing': 6010, 'taxt': 5750, 'massage': 3746, 'tie': 5903, 'pos': 4569, 'argh': 888, 'lool': 3599, 'pleasant': 4509, 'checked': 1509, 'statements': 5519, 'discuss': 2019, 'abt': 648, 'xuhui': 6569, 'tones': 5964, 'download': 2086, 'include': 3141, 'frog': 2613, 'axel': 1002, 'akon': 756, 'black': 1183, 'eyed': 2364, 'info': 3165, 'ha': 2830, 'popped': 4563, 'loo': 3593, 'ed': 2174, 'shade': 5176, 'putting': 4720, 'business': 1343, 'pictures': 4471, 'ass': 933, 'facebook': 2370, 'most': 3943, 'open': 4262, 'people': 4419, 'ever': 2297, 'picture': 4470, 'room': 4979, 'hurt': 3064, 'violated': 6254, 'holy': 2988, 'christ': 1557, 'taking': 5726, 'detailed': 1956, 'funny': 2638, 'shd': 5193, 'shorter': 5232, 'distance': 2024, 'chocolate': 1550, 'alcohol': 762, 'daily': 1849, 'ûò': 6661, 'favour': 2419, 'fav': 2415, 'xmas': 6567, 'vill': 6251, 'hop': 3004, 'parco': 4368, 'nb': 4047, 'sun': 5646, '1030': 215, 'orc': 4282, 'hip': 2958, 'exorcism': 2342, 'emily': 2217, 'rose': 4985, 'hugs': 3051, 'snogs': 5370, 'recpt': 4837, 'ordered': 4285, 'processed': 4664, 'workout': 6515, 'fats': 2412, '09058094455': 148, 'checkmate': 1512, 'chess': 1524, 'persian': 4432, 'phrase': 4461, 'shah': 5177, 'maat': 3674, 'means': 3784, 'king': 3392, 'dead': 1881, 'wah': 6299, 'okie': 4231, '12': 227, 'cross': 1790, 'ntwk': 4170, 'txts': 6083, '08001950382': 44, '674': 485, 'chennai': 1521, 'settled': 5164, 'chile': 1539, 'decimal': 1896, 'subletting': 5600, 'audition': 966, 'season': 5105, 'ago': 734, 'sell': 5132, 'wifi': 6447, '3g': 377, 'blanked': 1190, '150': 249, 'discount': 2017, 'vouchers': 6282, '85023': 567, '08717898035': 117, '00': 0, 'fighting': 2450, 'easy': 2163, 'fightng': 2451, 'some1': 5389, 'close': 1591, 'dificult': 1990, 'mail': 3697, 'linerental': 3537, 'bluetooth': 1215, 'mobiles': 3898, 'lf56': 3503, 'sound': 5423, 'manky': 3723, 'scouse': 5091, 'boy': 1262, 'steve': 5537, 'travelling': 6020, 'inmind': 3174, 'recreation': 4838, 'december': 1891, '11mths': 225, 'entitled': 2249, '08002986906': 47, 'forwarded': 2567, '88877': 591, 'textcomp': 5810, 'wearing': 6366, 'dresser': 2104, 'china': 1543, 'cum': 1818, 'wet': 6413, 'warm': 6333, 'porn': 4565, 'recd': 4816, 'inc': 3136, 'vat': 6218, 'sura': 5665, 'tv': 6066, 'ugh': 6093, 'asus': 943, 'ppl': 4595, 'randomly': 4769, 'reformat': 4851, 'imagine': 3118, 'sink': 5285, 'paces': 4338, 'cage': 1367, 'cock': 1618, 'surrounded': 5674, 'water': 6350, 'reminding': 4879, 'owns': 4333, 'cuck': 1810, 'erm': 2264, 'û_': 6655, '45pm': 415, 'chk': 1549, 'belovd': 1131, 'ms': 3963, 'dict': 1975, 'horny': 3012, 'live': 3555, 'local': 3572, 'strt': 5577, 'per': 4421, 'netcollex': 4078, 'ltdhelpdesk': 3643, '02085076972': 10, 'inches': 3138, 'gudnite': 2814, 'practice': 4603, 'hottest': 3026, 'pics': 4469, 'straight': 5564, 'wanting': 6330, 'xx': 6570, '89555': 597, 'costs': 1741, 'textoperator': 5814, 'g696ga': 2643, 'torture': 5987, 'watching': 6348, 'old': 4238, 'dom': 2065, 'roger': 4973, 'touch': 5993, 'collection': 1634, '08718723815': 120, 'pa': 4337, 'display': 2023, 'askd': 924, 'question': 4732, 'answer': 829, 'squeezed': 5490, 'bucks': 1318, 'dad': 1846, 'necklace': 4060, 'token': 5951, 'wife': 6445, 'liking': 3525, 'till': 5909, 'exam': 2326, 'squatting': 5489, 'walking': 6314, 'spoiled': 5469, 'cry': 1795, 'pushes': 4715, 'edge': 2175, 'underdtand': 6120, 'often': 4220, 'life': 3512, 'goldviking': 2739, 'inviting': 3207, '762': 515, 'ac': 650, 'frnd': 2609, '62468': 477, 'aaooooright': 631, 'darlin': 1861, 'missin': 3873, 'jess': 3290, 'police': 4549, 'abstract': 647, 'voicemail': 6274, '08719181513': 131, 'oops': 4261, 'ge': 2673, 'friday': 2599, 'alternative': 785, 'term': 5794, 'fuckin': 2620, 'thurs': 5895, 'pre': 4615, 'booked': 1230, 'cancelled': 1402, 'needs': 4066, 'sacked': 5024, 'fucks': 2622, 'sake': 5032, 'carry': 1433, 'meh': 3800, 'heavy': 2914, 'num': 4174, '98321561': 618, 'familiar': 2391, 'ayo': 1005, 'travelled': 6019, 'forgotten': 2558, 'harder': 2875, 'nbme': 4048, 'folks': 2531, 'community': 1658, 'limping': 3532, 'followed': 2533, 'aa': 629, 'exhaust': 2338, 'hanging': 2859, 'ummmmmaah': 6105, 'splash': 5464, 'wine': 6459, 'makes': 3705, '81303': 546, 'delivered': 1922, 'sufficient': 5626, 'ni8': 4095, 'slp': 5339, 'swt': 5699, 'dreams': 2100, 'muah': 3979, 'apnt': 852, 'reminder': 4878, 'postcode': 4579, 'quick': 4735, 'history': 2961, 'comfort': 1651, 'luxury': 3656, 'sold': 5385, 'onion': 4249, 'rs': 4996, 'petrol': 4444, 'beer': 1110, 'shesil': 5201, 'mu': 3978, 'minutes': 3860, 'tampa': 5736, 'west': 6410, 'palm': 4350, 'happened': 2865, 'chinese': 1545, 'fat': 2408, 'lipo': 3546, 'mind': 3846, 'reckon': 4829, 'eightish': 2196, 'carpark': 1432, 'foot': 2543, 'penis': 4417, '200': 282, '09066361921': 183, 'riley': 4956, 'plans': 4499, 'lets': 3500, 'cheer': 1515, 'fit': 2491, 'soo': 5409, 'muchxxlove': 3982, 'locaxx': 3574, 'music': 3999, 'gift': 2700, 'starting': 5513, '87066': 576, 'tscs': 6049, 'idew': 3096, 'skillgame': 5306, '1winaweek': 277, 'age16': 729, '150ppermesssubscription': 253, 'claire': 1571, 'havin': 2893, 'borin': 1239, 'alone': 777, '2nite': 335, '09099725823': 201, 'callså': 1391, 'minmoremobsemspobox45po139wa': 3854, 'dint': 2001, 'short': 5229, 'cute': 1832, 'winner': 6462, '88600': 588, '1million': 270, 'ppt150x3': 4599, 'normal': 4143, 'box403': 1258, 'w1t1jy': 6293, 'belly': 1129, 'ahmad': 739, 'adoring': 698, 'pilates': 4477, 'yoga': 6615, 'cl': 1567, 'especially': 2277, 'missed': 3872, 'failed': 2377, 'bedroom': 1105, 'minute': 3859, 'sed': 5116, 'came': 1395, 'minuts': 3861, 'latr': 3457, 'wid': 6442, 'cake': 1368, 'asked': 925, 'blame': 1188, 'happiness': 2871, 'essential': 2280, 'gods': 2730, 'blessings': 1197, 'masters': 3750, 'coast': 1614, 'forever': 2550, 'attend': 958, 'rounds': 4989, 'reach': 4789, '83039': 553, '62735': 478, '450': 411, 'accommodationvouchers': 660, 'conditions': 1684, 'mustprovide': 4004, '15541': 257, 'evo': 2315, 'flash': 2502, 'jealous': 3282, 'basic': 1058, 'becoz': 1101, 'jan': 3269, 'whn': 6433, 'al': 757, 'ofice': 4219, 'cn': 1610, 'duffer': 2136, '15pm': 258, 'taunton': 5746, '09095350301': 200, 'erotic': 2266, 'ecstacy': 2172, '60p': 472, 'nat': 4036, 'travel': 6017, 'reverse': 4943, 'cheating': 1505, 'mathematics': 3758, 'pose': 4570, 'comb': 1644, 'dryer': 2126, 'year': 6593, 'supply': 5660, 'cds': 1459, 'store': 5557, 'choice': 1551, 'ts': 6047, 'ldew': 3469, 'subs16': 5604, '1win150ppmx3': 276, 'playng': 4507, 'racing': 4746, 'laptop': 3442, 'nor': 4137, 'mid': 3833, 'dependents': 1936, 'b4': 1007, 'glad': 2716, 'texting': 5813, 'invite': 3205, 'boye': 1263, 'guide': 2817, 'torrents': 5985, 'particularly': 4377, 'legal': 3486, 'system': 5705, 'slowing': 5337, 'started': 5512, 'online': 4250, 'moon': 3934, 'brings': 1294, 'ringtones': 4959, 'chart': 1495, 'heroes': 2938, 'wap': 6332, 'receiving': 4821, 'these': 5849, 'tips': 5918, 'xin': 6566, 'hostel': 3020, 'hurry': 3063, 'snatch': 5367, 'purse': 4713, 'height': 2918, 'throws': 5889, 'letter': 3501, 'gal': 2645, 'falls': 2388, 'brothers': 1306, 'whos': 6438, 'vava': 6220, 'playing': 4506, 'umma': 6102, 'pretty': 4635, 'worried': 6519, 'derek': 1943, 'taylor': 5751, 'assumed': 939, 'worst': 6523, 'smoothly': 5357, 'hoped': 3006, 'bills': 1165, 'challenging': 1478, 'fb': 2421, 'jaykwon': 3279, 'thuglyfe': 5894, 'falconerf': 2385, 'gettin': 2694, 'arty': 912, 'collages': 1628, 'mo': 3894, 'tryin': 6045, 'ne': 4051, 'roast': 4966, 'scream': 5094, 'moan': 3895, 'lessons': 3498, 'digital': 1991, 'snap': 5366, 'quizclub': 4741, '80122300p': 538, 'sp': 5432, 'rwm': 5019, '08704050406': 72, 'request': 4902, 'melle': 3804, 'oru': 4294, 'minnaminunginte': 3855, 'nurungu': 4177, 'vettam': 6234, 'set': 5160, 'callertune': 1386, 'callers': 1385, 'press': 4630, 'copy': 1729, 'significant': 5266, 'moby': 3906, 'pub': 4700, 'quiz': 4740, 'street': 5568, 'duchess': 2132, 'cornwall': 1730, '82277': 551, 'unsub': 6147, '008704050406': 2, 'pple': 4596, 'hee': 2916, 'infernal': 3163, 'affairs': 712, 'along': 778, 'asking': 927, 'rajini': 4759, 'valentines': 6205, 'partner': 4379, 'lifetime': 3514, '83600': 559, 'custcare': 1826, 'dollar': 2063, 'loan': 3569, 'february': 2423, 'wil': 6450, 'space': 5433, 'awake': 995, 'dnt': 2036, 'lik': 3519, 'add': 684, 'resolution': 4912, 'frank': 2575, 'tel': 5773, 'mistake': 3879, 'proof': 4685, 'page': 4344, 'rupaul': 5016, 'tool': 5976, 'mode': 3908, 'recharge': 4826, 'blimey': 1198, 'exercise': 2337, 'downloaded': 2087, 'paid': 4346, 'doit': 2060, 'mymoby': 4010, 'shower': 5245, 'parking': 4374, 'garage': 2655, 'collapsed': 1629, 'university': 6135, 'happen': 2863, 'hmmm': 2973, 'punish': 4705, 'handle': 2853, 'victoria': 6239, 'island': 3229, 'traffic': 6004, 'album': 761, 'due': 2135, 'shitload': 5217, 'diamonds': 1972, 'thanx': 5825, 'puttin': 4719, 'fone': 2537, 'lmao': 3564, 'slow': 5336, 'using': 6192, 'biola': 1169, 'fne': 2528, 'sup': 5654, 'valentine': 6204, 'answers': 832, 'loves': 3627, 'ques': 4731, 'suits': 5636, 'side': 5260, 'doctor': 2041, 'anyway': 847, 'telling': 5779, 'early': 2154, '2marrow': 324, 'soc': 5376, 'ar': 878, 'doin': 2058, 'centre': 1469, '22': 295, 'euro2004': 2287, 'date': 1868, 'news': 4092, 'results': 4930, 'removed': 4882, '83222': 556, 'whole': 6435, 'clean': 1580, 'oooh': 4258, 'sounds': 5425, 'tahan': 5717, 'anot': 825, 'interested': 3197, 'networking': 4084, 'technical': 5769, 'support': 5661, 'associate': 936, 'hooch': 3000, 'toaday': 5940, 'fell': 2433, 'splat': 5466, 'grazed': 2788, 'knees': 3400, 'stayed': 5523, 'hillsborough': 2954, 'loans': 3570, 'rats': 4778, 'themes': 5841, 'eerie': 2184, '4u': 437, 'rply': 4995, 'title': 5924, 'eg': 2187, 'dracula': 2093, 'titles': 5925, 'ghost': 2698, 'addamsfa': 685, 'munsters': 3993, 'exorcist': 2343, 'twilight': 6071, 'pobox36504w45wq': 4534, 'fingers': 2474, 'tea': 5758, 'flavour': 2505, 'within': 6476, 'brand': 1270, 'arrive': 906, 'shortly': 5233, 'install': 3186, 'browse': 1310, 'artists': 911, 'catch': 1446, 'iscoming': 3226, 'cd': 1457, 'tnc': 5936, 'com1win150ppmx3age16subscription': 1643, 'recieve': 4828, '24hrs': 302, 'channel': 1486, 'teletext': 5777, 'pg': 4446, 'mall': 3710, 'airport': 747, 'road': 4964, '630': 479, 'oredi': 4286, 'door': 2074, 'yellow': 6598, 'frndship': 2611, 'misscall': 3871, 'frndz': 2612, '6missed': 499, 'marry': 3740, 'lover': 3624, '07753741225': 24, '08715203677': 108, '42478': 401, '24': 301, 'command': 1655, 'neva': 4086, 'ceri': 1471, 'rebel': 4813, 'dreamz': 2101, 'buddy': 1320, '2moro': 325, 'blokes': 1206, 'costa': 1739, 'del': 1916, 'sol': 5383, '09050090044': 142, 'toclaim': 5942, 'sae': 5027, 'pobox334': 4533, 'stockport': 5544, 'sk38xh': 5304, 'costå': 1743, 'max10mins': 3769, 'iam': 3075, 'addicted': 687, 'msging': 3966, 'wrong': 6544, 'drama': 2094, 'family': 2392, 'struggling': 5579, 'strange': 5566, 'reason': 4808, 'ego': 2191, 'necessity': 4058, 'reppurcussions': 4899, 'truth': 6043, 'against': 727, 'gravity': 2786, 'read': 4795, 'carefully': 1425, 'feels': 2430, 'light': 3517, 'leaves': 3479, '945': 612, 'activate': 676, 'seeing': 5119, 'geeee': 2675, 'cuddling': 1814, 'hav': 2887, 'ashwini': 920, 'sit': 5293, 'na': 4016, 'fyi': 2642, 'whenever': 6422, 'hen': 2931, 'standing': 5505, 'gauge': 2664, 'patty': 4396, 'interest': 3196, 'pages': 4345, 'figures': 2454, 'generally': 2680, 'brothas': 1304, 'meg': 3798, '4goten': 428, 'scammers': 5075, 'regular': 4859, 'vodafone': 6271, 'further': 2639, 'prem': 4620, 'subscription': 5610, 'nos': 4146, 'meant': 3785, 'apology': 855, 'drugs': 2120, 'apparently': 857, 'bffs': 1151, 'carly': 1430, 'takes': 5724, 'part': 4375, 'wrc': 6533, 'rally': 4763, 'oz': 4336, 'lucozade': 3648, 'energy': 2227, 'le': 3472, '61200': 474, '25p': 308, 'packs': 4342, 'itcould': 3238, 'yummy': 6639, 'lips': 3547, 'buns': 1333, 'tncs': 5937, 'win150ppmx3age16': 6457, 'sony': 5407, 'ericson': 2262, 'der': 1942, 'luks': 3650, 'modl': 3910, 'noon': 4133, 'tap': 5738, 'spile': 5457, 'seven': 5166, 'broad': 1300, 'canal': 1400, 'uncles': 6112, 'atlanta': 948, 'semester': 5134, 'prone': 4684, 'fetch': 2438, 'atleast': 950, 'once': 4244, 'otherwise': 4300, 'shakespeare': 5181, 'va': 6201, 'quality': 4727, 'items': 3239, '7cfca1a': 525, 'aha': 737, '08712402779': 93, 'box': 1251, '114': 222, '14': 244, 'tcr': 5756, 'w1': 6287, 'donåõt': 2072, 'understand': 6121, '2morrow': 328, 'grasp': 2783, 'booty': 1235, 'alter': 784, 'keen': 3363, 'shouldn': 5238, 'ambrith': 794, 'madurai': 3685, 'arun': 914, 'dha': 1966, 'marrge': 3737, 'remembr': 4874, 'charles': 1492, 'excited': 2331, 'spend': 5451, 'lost': 3607, 'rebooting': 4814, 'coughing': 1745, 'times': 5912, 'jordan': 3315, 'abroad': 645, 'xxsp': 6571, 'visionsms': 6263, 'stopcost': 5553, '08712400603': 91, 'shop': 5224, 'drop': 2115, '10k': 217, '5k': 461, 'voucher': 6281, '09064011000': 171, 'ntt': 4169, 'cr01327bt': 1766, 'fixedline': 2497, 'vary': 6216, 'painful': 4348, 'everybody': 2300, 'nobody': 4119, 'recognises': 4831, 'mm': 3887, 'hugging': 3050, 'seem': 5121, 'bruce': 1312, 'downs': 2090, 'fletcher': 2506, '09058094507': 149, 'shut': 5254, 'omg': 4241, 'dream': 2099, 'kids': 3383, 'boys': 1264, 'pissed': 4485, 'mark': 3733, 'changing': 1485, 'diapers': 1973, 'owed': 4329, 'havent': 2890, 'aiyah': 750, 'entertain': 2245, 'cancer': 1403, 'definitely': 1912, 'restock': 4925, 'thanksgiving': 5824, 'luck': 3646, 'catches': 1447, 'get4an18th': 2690, 'fetching': 2439, 'arrow': 908, 'neither': 4073, 'sterm': 5536, 'voice': 6273, 'resolved': 4913, 'fab': 2368, 'hols': 2987, 'restrict': 4926, 'eating': 2167, 'anythin': 844, 'likes': 3523, 'write': 6537, 'dictionary': 1976, 'screen': 5097, 'hand': 2850, 'gently': 2685, 'interesting': 3198, 'konw': 3410, 'waht': 6302, 'rael': 4749, 'gving': 2827, 'yuo': 6642, 'exmpel': 2341, 'jsut': 3325, 'ese': 2274, 'tihs': 5906, 'evrey': 2318, 'splleing': 5468, 'wrnog': 6543, 'sitll': 5295, 'raed': 4748, 'wihtuot': 6448, 'ayn': 1004, 'mitsake': 3882, 'goodnight': 2750, 'ma': 3671, 'ashley': 919, 'hotel': 3023, 'invitation': 3204, 'apologise': 853, 'cali': 1373, 'english': 2234, 'bloke': 1205, 'weddin': 6375, 'thanks2': 5823, 'usual': 6195, 'vday': 6222, 'parachute': 4365, 'coins': 1625, 'netflix': 4079, 'kallis': 3349, 'bat': 1062, 'innings': 3176, 'gym': 2828, 'lazy': 3466, 'jog': 3302, 'closes': 1595, 'okay': 4227, 'cutest': 1834, 'works': 6516, 'story': 5561, 'man': 3712, 'parents': 4369, 'colleagues': 1630, 'representative': 4900, '08714712412': 104, 'between': 1145, '10am': 216, '7pm': 528, 'chief': 1531, 'bell': 1126, 'royal': 4993, 'june': 3334, 'five': 2493, '08002888812': 45, 'sending': 5140, 'agent': 731, 'goodies': 2747, 'mat': 3751, '87021': 575, 'yep': 6602, 'beauty': 1094, 'second': 5108, 'hides': 2949, 'thousands': 5877, 'secrets': 5112, 'n8': 4014, '09066350750': 180, 'landline': 3435, 'ibiza': 3079, '434': 403, 'sk3': 5303, '8wp': 606, 'ppm': 4597, 'posted': 4580, 'film': 2461, 'nxt': 4185, 'wknd': 6487, 'darling': 1862, 'sister': 5291, 'resuming': 4932, 'minimum': 3851, 'period': 4428, 'reapply': 4807, 'uworld': 6200, 'site': 5294, 'qbank': 4724, 'self': 5129, 'assessment': 934, 'bathroom': 1068, 'fifteen': 2449, 'wun': 6557, 'environment': 2256, 'terrific': 5798, 'subpoly': 5602, '81618': 547, '08718727870': 124, 'program': 4669, 'slacking': 5314, 'pound': 4587, '08712101358': 84, 'bears': 1091, 'nick': 4099, 'dick': 1974, 'fact': 2371, 'types': 6089, 'photo': 4457, 'upload': 6162, '08718730666': 126, 'rite': 4962, 'liked': 3521, 'faster': 2407, 'gals': 2646, 'attached': 954, 'wining': 6461, '946': 613, 'direct': 2004, '69200': 489, 'access': 654, 'chrgd': 1556, '2exit': 317, '07808': 30, 'xxxxxx': 6575, '08719899217': 132, '41685': 398, '07': 17, 'vijay': 6247, 'quiet': 4737, 'beth': 1142, 'aunts': 972, 'charlie': 1493, 'helen': 2920, 'famous': 2393, 'quote': 4742, 'develop': 1961, 'ability': 638, 'unconditionally': 6114, 'temper': 5787, 'confidence': 1687, 'wrking': 6540, 'ice': 3084, 'cream': 1779, 'taxi': 5748, 'ing': 3171, 'tuesday': 6058, 'cinema': 1563, 'gauti': 2665, 'sehwag': 5125, 'odi': 4204, 'series': 5153, 'ball': 1034, 'moving': 3957, 'spin': 5458, 'ecstasy': 2173, 'orchard': 4283, 'laready': 3445, 'reaching': 4792, 'outta': 4318, 'congrats': 1694, 'intro': 3202, 'covers': 1761, 'trends': 6027, 'pros': 4692, 'cons': 1699, 'brief': 1287, 'description': 1944, 'nuclear': 4171, 'fusion': 2640, 'iter': 3240, 'jet': 3292, 'perumbavoor': 4441, 'convey': 1718, 'ad': 682, 'bare': 1048, 'orh': 4290, 'tons': 5972, 'thru': 5890, 'paypal': 4407, 'voila': 6275, 'pockets': 4541, 'behave': 1120, 'freephone': 2589, '0808': 49, '145': 245, '4742': 416, '11pm': 226, 'moji': 3913, 'ref': 4844, 'r836': 4744, 'charged': 1490, '09065069154': 175, 'ooooooh': 4260, 'yoville': 6633, 'shoppin': 5225, 'vomit': 6276, 'nyc': 4187, 'audiitions': 965, 'relocate': 4867, 'career': 1422, 'flyng': 2525, 'horo': 3013, 'star': 5507, 'sign': 5264, 'aries': 892, 'dealing': 1883, '1hr': 268, 'textpod': 5815, 'vpod': 6283, '08712405020': 97, 'train': 6005, 'seat': 5106, 'lower': 3633, 'popping': 4564, 'ibuprofens': 3082, 'corporation': 1731, 'gap': 2653, 'aiyar': 751, 'ajith': 753, 'joy': 3320, 'father': 2410, 'john': 3304, '____': 627, 'ans': 827, 'ths': 5891, 'iq': 3216, 'tis': 5922, 'ias': 3076, 'thangam': 5820, 'held': 2919, 'prasad': 4609, 'engagement': 2230, 'fixd': 2495, 'shocking': 5222, 'njan': 4115, 'vilikkam': 6250, 'ws': 6547, 'sudn': 5624, 'rather': 4776, 'nyt': 4189, 'heading': 2901, '2day': 316, 'unique': 6132, 'rest': 4923, 'mylife': 4009, 'pull': 4703, 'spending': 5452, 'management': 3714, 'almost': 776, 'unable': 6107, 'connect': 1696, 'reference': 4845, 'x29': 6561, '09065989180': 179, 'text82228': 5808, 'logos': 3582, 'games': 2649, 'txt82228': 6078, 'questions': 4734, 'blankets': 1191, 'thx': 5898, '87077': 578, 'zed': 6647, 'schedule': 5081, '21': 292, 'jiayin': 3297, 'isnt': 3232, 'misplaced': 3869, 'wondering': 6503, 'mcat': 3777, 'rem': 4868, '20': 281, '3510i': 366, '8000930705': 534, 'tallahassee': 5734, 'sing': 5281, 'stars': 5509, 'karaoke': 3355, 'link': 3541, 'village': 6252, 'accordingly': 664, 'made': 3682, 'hopeing': 3009, 'wasn': 6338, 'gone': 2742, 'sisters': 5292, 'helens': 2921, 'princes': 4645, 'tb': 5753, 'malaria': 3708, 'relax': 4863, 'children': 1537, 'worse': 6522, 'gastroenteritis': 2663, 'replace': 4890, 'loss': 3606, 'temp': 5786, 'reduce': 4842, 'meds': 3793, 'limiting': 3530, 'illness': 3115, 'fantasies': 2399, '08707509020': 77, '20p': 291, 'ltd': 3642, '1327': 242, 'croydon': 1792, 'cr9': 1767, '5wb': 467, '0870': 60, 'chinatown': 1544, 'porridge': 4566, 'claypot': 1578, 'rice': 4950, 'yam': 6584, 'fishhead': 2489, 'beehoon': 1107, 'cafe': 1366, 'tok': 5950, 'nydc': 4188, 'somethin': 5396, 'tau': 5744, 'sar': 5052, 'piah': 4463, 'miles': 3841, 'impatient': 3126, 'belligerent': 1128, 'eldest': 2203, 'instead': 3189, 'team': 5762, 'budget': 1321, 'unsold': 6146, 'players': 4504, 'base': 1056, 'responding': 4919, 'diwali': 2031, 'died': 1983, 'accident': 657, 'a30': 628, 'divert': 2029, 'via': 6236, 'wadebridge': 6298, 'brilliant': 1290, 'poor': 4560, 'apps': 870, 'varaya': 6212, 'elaya': 2202, 'die': 1982, 'requests': 4903, 'factory': 2372, 'nitros': 4114, 'building': 1326, 'coat': 1615, 'sick': 5258, 'wear': 6365, 'leg': 3485, 'hurts': 3066, 'musta': 4002, 'overdid': 4321, 'mon': 3921, 'kanji': 3353, 'upgrdcentre': 6161, '9153': 609, '26th': 311, 'july': 3332, 'superior': 5657, 'department': 1935, 'ours': 4307, 'waheed': 6300, 'fathima': 2411, 'hr': 3040, 'conform': 1692, 'weirdest': 6393, 'auto': 976, 'celebrate': 1463, 'such': 5618, 'magical': 3690, 'sight': 5263, 'worlds': 6518, 'dressed': 2103, 'oooooh': 4259, 'elaborating': 2200, 'safety': 5030, 'aspects': 932, 'issues': 3235, 'sam': 5041, 'thirtyeight': 5863, 'pence': 4415, 'true': 6037, 'easier': 2158, 'announcement': 823, '0800': 39, '542': 456, '0825': 51, 'threats': 5880, 'sales': 5037, 'executive': 2336, 'shifad': 5203, 'raised': 4756, 'complaint': 1668, 'lit': 3552, 'fire': 2482, 'safe': 5029, 'daddy': 1847, 'wkend': 6483, 'journey': 3319, 'terrible': 5797, 'huge': 3049, 'marking': 3735, 'angry': 816, '2waxsto': 342, 'medical': 3791, 'insurance': 3192, 'deliver': 1921, 'major': 3703, 'mmmm': 3889, 'lick': 3508, 'hppnss': 3039, 'tear': 5764, 'sorrow': 5413, 'forevr': 2551, 'goodfriend': 2746, 'belongs': 1130, 'pray': 4612, 'fated': 2409, 'shoranur': 5227, 'incident': 3139, 'hands': 2854, 'fuelled': 2624, 'concern': 1680, 'prior': 4650, 'grief': 2797, 'chain': 1476, 'pass': 4384, 'violence': 6255, 'women': 6498, 'despite': 1952, 'cramps': 1770, 'specially': 5442, '3000': 350, 'award': 996, '08712402050': 92, 'lines': 3538, '10ppm': 219, 'ag': 725, 'promo': 4679, 'advice': 706, 'gary': 2661, 'split': 5467, 'ptbo': 4698, 'stupid': 5594, 'suggestion': 5632, 'lands': 3438, 'helps': 2930, 'forgt': 2559, 'previous': 4638, 'favorite': 2418, 'oyster': 4335, 'sashimi': 5058, 'stomach': 5546, 'rumbling': 5010, 'bonus': 1227, 'caller': 1384, '09058095201': 153, 'fool': 2540, 'cheat': 1504, 'others': 4299, 'lemme': 3490, 'throw': 5886, 'smoking': 5356, 'awesome': 999, 'matric': 3762, 'railway': 4752, 'nan': 4031, 'sonathaya': 5404, 'soladha': 5384, 'boss': 1243, 'accordin': 663, 'discussed': 2020, 'yest': 6605, 'kb': 3361, 'beerage': 1111, 'pickle': 4468, 'tacos': 5713, '08712400200': 89, 'worries': 6520, 'byatch': 1359, 'whassup': 6416, 'progress': 4670, 'continue': 1713, '0796xxxxxx': 37, 'prizeawaiting': 4655, 'contents': 1712, 'eight': 2194, 'panic': 4354, 'someday': 5391, 'gek1510': 2677, 'lasagna': 3448, 'vodka': 6272, 'informed': 3168, 'directly': 2005, 'lindsay': 3533, 'sighs': 5262, 'bars': 1055, 'blue': 1214, 'heron': 2939, 'waliking': 6310, 'allowed': 775, 'thnx': 5869, 'nowadays': 4164, 'showrooms': 5247, 'city': 1565, 'shaping': 5188, 'cps': 1764, 'causing': 1452, 'outages': 4310, 'conserve': 1701, 'cartoon': 1436, 'listening': 3550, 'temple': 5788, 'church': 1561, 'puppy': 4707, 'noise': 4122, 'yunny': 6641, 'citylink': 1566, 'realise': 4800, 'exams': 2327, 'cars': 1434, 'repeat': 4888, 'andrews': 813, 'ouch': 4305, 'longer': 3591, 'computational': 1676, 'science': 5084, 'push': 4714, 'cooked': 1722, 'salmon': 5039, 'scraped': 5092, 'barrel': 1053, 'social': 5377, 'misfits': 3867, 'purity': 4710, 'smiling': 5350, 'reading': 4797, 'evng': 2314, 'idc': 3090, 'weaseling': 6367, 'twice': 6069, 'drinkin': 2106, 'okors': 4234, 'cherish': 1522, 'mojibiola': 3914, '09061790126': 167, 'drivby': 2109, '0quit': 207, 'edrunk': 2177, 'iff': 3103, 'pthis': 4699, 'senrd': 5143, 'dnot': 2035, 'dancce': 1852, 'drum': 2121, 'basq': 1061, 'ihave': 3108, '2nhite': 333, 'ros': 4984, 'xxxxxxx': 6576, 'contacted': 1707, 'dating': 1871, '09050000928': 137, 'pobox45w2tg150p': 4536, 'dollars': 2064, 'shoul': 5236, 'dub': 2130, 'je': 3281, 'buff': 1322, 'rubber': 5002, 'bluray': 1216, 'ummma': 6104, 'begin': 1118, 'qatar': 4723, 'mokka': 3915, 'jacket': 3260, 'multis': 3987, 'men': 3813, 'turn': 6062, 'heater': 2912, 'degrees': 1913, 'grinder': 2798, 'forfeit': 2552, 'butt': 1346, 'hang': 2857, 'starving': 5515, 'discreet': 2018, 'vip': 6257, '83110': 555, 'absolutly': 646, 'operate': 4267, 'list': 3548, 'buyers': 1350, '2morro': 327, 'passion': 4387, '09099726481': 202, 'dena': 1928, 'minmobsmorelkpobox177hp51fl': 3853, 'rooms': 4983, 'befor': 1113, 'activities': 678, 'red': 4840, 'blood': 1208, 'including': 3143, 'luvs': 3654, 'praying': 4613, 'god': 2729, 'appointment': 863, 'surrender': 5673, 'appy': 872, 'fizz': 2499, 'contains': 1709, 'denying': 1934, 'future': 2641, 'planned': 4497, 'result': 4929, 'present': 4627, 'speaking': 5438, 'expression': 2359, 'childish': 1535, 'sentiment': 5150, 'rowdy': 4992, 'ful': 2626, 'attitude': 961, 'romantic': 4976, 'shy': 5255, 'attractive': 962, 'irritating': 3223, 'swan': 5683, 'super': 5655, 'nalla': 4024, 'timing': 5915, 'least': 3477, 'gumby': 2822, 'cheese': 1519, 'pizza': 4489, 'inform': 3166, 'costing': 1740, 'offering': 4212, 'italian': 3237, 'dress': 2102, 'panties': 4359, 'totally': 5992, 'disagreeable': 2010, 'karnan': 3356, '6pm': 502, 'costume': 1742, 'changes': 1484, 'report': 4898, 'aint': 745, 'complaining': 1667, 'jolly': 3313, '30': 348, 'stretch': 5571, 'pussy': 4716, 'havenåõt': 2892, 'didnåõt': 1981, 'intend': 3194, 'knew': 3401, 'iwas': 3252, 'marine': 3732, 'thatåõs': 5830, 'itried2tell': 3242, 'urmom': 6179, 'careabout': 1420, 'jolt': 3314, 'remind': 4876, 'screamed': 5095, 'hallaq': 2846, 'loved': 3620, 'owned': 4332, 'possessive': 4574, 'passionate': 4388, '3d': 375, 'imp': 3125, 'flies': 2507, 'hittng': 2965, 'reflex': 4850, 'prevent': 4636, 'dehydration': 1915, 'fluids': 2521, 'donno': 2070, 'scorable': 5085, 'replied': 4893, 'epsilon': 2259, 'spiffing': 5456, 'workage': 6511, 'slept': 5324, 'openings': 4266, 'upcharge': 6155, 'predicting': 4617, 'inch': 3137, 'accumulation': 666, 'maangalyam': 3673, 'alaipayuthe': 759, 'splashmobile': 5465, '1000s': 212, 'subscrition': 5613, '300p': 353, 'operator': 4268, '087123002209am': 87, 'outstanding': 4317, 'invoices': 3209, 'three': 5881, 'headstart': 2904, '30ish': 356, 'desperate': 1951, 'rummer': 5011, 'grr': 2807, 'prescription': 4625, 'pharmacy': 4448, 'foreign': 2549, 'stamps': 5502, 'seen': 5124, 'vewy': 6235, 'lubly': 3645, 'subscriber': 5608, 'exp': 2344, '30apr': 355, '169': 261, '6031': 470, '9pm': 623, 'bud': 1319, 'piece': 4473, 'priscilla': 4651, 'bowl': 1250, 'watched': 6345, 'sux': 5678, 'snake': 5365, 'raiden': 4751, 'usc': 6185, 'payment': 4404, 'portal': 4567, 'explain': 2353, 'website': 6373, 'excuses': 2335, 'easily': 2159, 'forgets': 2554, 'santa': 5049, '09058094583': 151, 'testing': 5804, 'sayy': 5074, 'dearer': 1887, 'dem': 1925, 'entered': 2244, '09111032124': 204, 'pobox12n146tf150p': 4531, 'sao': 5050, 'pandy': 4353, 'mental': 3814, 'boo': 1228, 'enjoyin': 2237, 'yourjob': 6627, 'seemed': 5122, 'hunny': 3059, 'ure': 6172, 'iåõllspeak': 3256, '2u': 341, 'soonlots': 5411, 'loveme': 3623, 'xxxx': 6573, 'practicing': 4604, 'babies': 1017, 'arm': 895, 'weak': 6363, 'cuz': 1838, 'shot': 5235, '07808726822': 32, '02': 6, '09': 134, '03': 11, '0871': 82, '872': 582, '9758': 616, 'box95qu': 1260, 'fast': 2406, 'comedy': 1648, 'desparate': 1949, 'learned': 3476, 'fake': 2382, 'filling': 2459, 'holder': 2981, 'meal': 3780, 'following': 2535, 'pc': 4408, 'dining': 1998, 'experiencehttp': 2349, 'vouch4me': 6280, 'etlp': 2285, 'asp': 931, 'field': 2446, 'administrator': 693, '121': 230, '09094646899': 199, 'biggest': 1161, 'vu': 6286, 'bcm1896wc1n3xx': 1080, '7250i': 508, 'auction': 964, '86021': 570, 'w1jhl': 6292, 'massages': 3747, 'oil': 4225, 'fave': 2416, 'position': 4571, 'surfing': 5668, 'compass': 1663, 'map': 3725, 'soul': 5422, 'loose': 3601, 'gnun': 2725, 'way2sms': 6358, 'spree': 5486, '88039': 585, 'skilgme': 5305, 'tscs08714740323': 6050, '1winawk': 278, '50perweeksub': 448, 'needa': 4063, 'videophones': 6243, 'yours': 6628, '09063458130': 170, 'videochat': 6242, 'java': 3276, 'dload': 2034, 'polyph': 4553, 'noline': 4129, 'rentl': 4885, 'amy': 808, 'intelligent': 3193, 'woman': 6496, 'surya': 5676, 'pokkiri': 4547, 'mary': 3744, 'flirting': 2513, 'paperwork': 4364, 'texted': 5811, 'nervous': 4075, 'knowing': 3404, 'fired': 2483, '448712404000': 408, '08712404000': 96, 'created': 1780, 'web': 6369, 'asjesus': 922, 'wrote': 6546, 'effects': 2186, 'gorgeous': 2757, 'brighten': 1289, 'monkey': 3925, 'asshole': 935, 'heehee': 2917, 'gopalettan': 2756, 'participate': 4376, 'admin': 692, 'enjoyed': 2236, '61610': 475, '08712400602450p': 90, 'provided': 4694, 'tones2you': 5966, 'receipts': 4818, 'ûówell': 6662, 'round': 4987, 'barring': 1054, 'sudden': 5622, 'influx': 3164, 'hustle': 3069, 'forth': 2564, 'during': 2143, 'moved': 3953, 'harlem': 2878, 'doggy': 2055, 'cmon': 1609, 'fantasy': 2401, 'sticky': 5539, 'replies': 4894, 'figure': 2453, 'sathya': 5061, 'single': 5283, 'considering': 1703, 'cutting': 1837, 'suite': 5633, 'xavier': 6563, 'warning': 6336, 'samantha': 5042, 'guitar': 2821, 'impress': 3131, 'doug': 2083, 'realizes': 4804, 'anymore': 840, 'casualty': 1444, 'stuff42moro': 5591, 'includes': 3142, 'sheets': 5195, 'thinking': 5859, 'shhhhh': 5202, '083': 52, '6089': 471, 'piss': 4484, 'talking': 5731, 'backwards': 1022, 'hire': 2959, 'hitman': 2963, 'gran': 2776, 'onlyfound': 4254, 'afew': 710, 'cusoon': 1824, 'honi': 2998, 'sapna': 5051, 'aunty': 973, 'manege': 3721, 'hogidhe': 2979, 'chinnu': 1547, 'swalpa': 5682, 'agidhane': 733, 'sec': 5107, 'epi': 2258, 'walked': 6313, 'doesnåõt': 2049, 'secretly': 5111, 'fancies': 2396, '09065394973': 178, 'datebox1282essexcm61xn': 1869, 'anti': 837, 'medicine': 3792, 'secret': 5110, 'admirer': 694, 'reveal': 4940, 'thinks': 5860, '09058094599': 152, 'sweetheart': 5690, 'sugar': 5629, 'plum': 4519, 'loverboy': 3625, 'smacks': 5340, 'oi': 4223, 'cabin': 1364, 'apartment': 851, 'printer': 4648, 'groovy': 2801, 'groovying': 2802, 'bless': 1194, 'bootydelious': 1236, '32': 361, 'banks': 1044, 'fees': 2431, 'fixed': 2496, 'dhoni': 1968, 'hlday': 2968, 'looked': 3595, 'horrible': 3014, 'camp': 1397, 'amrca': 805, 'serena': 5152, 'hmph': 2975, 'baller': 1035, 'aathi': 632, 'wana': 6324, 'sometme': 5400, 'converted': 1717, 'combine': 1646, 'parts': 4381, 'interview': 3200, 'sonyericsson': 5408, 'dvd': 2146, '4qf2': 432, 'lambu': 3431, 'ji': 3295, 'batchlor': 1064, 'alrite': 782, 'confirmed': 1691, 'oni': 4248, 'spreadsheet': 5485, 'track': 6001, 'whose': 6439, 'smoke': 5352, 'determine': 1958, 'smokes': 5354, 'entire': 2247, 'salam': 5034, 'wahleykkum': 6301, 'sharing': 5190, 'grace': 2773, 'tayseer': 5752, 'tissco': 5923, 'joined': 3307, 'inshah': 3183, 'allah': 772, 'rakhesh': 4762, 'visitor': 6266, 'nationwide': 4040, 'newport': 4091, 'lodging': 3576, 'deep': 1905, 'sigh': 5261, 'lecture': 3482, 'mumhas': 3989, 'beendropping': 1109, 'theplace': 5847, 'adress': 700, 'adore': 697, 'grand': 2777, 'prix': 4653, 'missions': 3875, 'nigeria': 4102, 'arabian': 880, 'steed': 5531, 'mmmmmm': 3890, 'funeral': 2635, 'although': 786, 'baig': 1028, 'watches': 6346, 'gave': 2666, 'touched': 5994, 'tlp': 5930, 'reward': 4945, 'completing': 1671, 'stoners': 5548, 'own': 4331, 'disturb': 2026, '1000call': 211, '09071512432': 196, '300603t': 352, 'csbcm4235wc1n3xx': 1798, 'callcost150ppmmobilesvary': 1381, 'maxå': 3771, 'understanding': 6122, 'surely': 5667, 'hcl': 2896, 'requires': 4905, 'freshers': 2596, 'process': 4663, 'needed': 4064, 'salary': 5035, 'upto': 6168, 'suman': 5640, 'telephonic': 5776, 'indyarocks': 3161, 'joys': 3321, 'lifeis': 3513, 'daywith': 1877, 'thoughts': 5876, 'somewheresomeone': 5402, 'cares': 1426, 'tosend': 5988, 'greeting': 2795, 'earn': 2155, 'pouch': 4586, 'haul': 2885, 'ten': 5789, 'billion': 1164, 'blank': 1189, 'custom': 1827, 'officer': 4215, 'cann': 1405, 'asa': 916, 'flights': 2509, '0871277810710p': 99, 'id': 3089, 'bored': 1238, 'james': 3266, 'farting': 2404, 'salt': 5040, 'rub': 5001, 'wounds': 6531, 'gimme': 2704, 'payed': 4401, 'suganya': 5628, 'compliments': 1674, '400': 393, 'proze': 4696, 'norcorp': 4139, 'sucks': 5621, 'aren': 885, 'forward': 2566, 'collected': 1632, 'dough': 2084, 'control': 1716, '09058091854': 146, 'revealed': 4941, 'box385': 1256, 'm6': 3667, '6wu': 504, 'agree': 735, 'ipad': 3213, 'macho': 3679, 'identification': 3094, 'prestige': 4632, 'flat': 2503, '50s': 451, 'alot': 779, 'stability': 5495, 'tranquility': 6008, 'vibrant': 6237, 'colourful': 1639, '7ish': 526, 'tallent': 5735, 'wasting': 6342, 'vco': 6221, 'rays': 4781, 'cloud': 1598, 'river': 4963, 'appreciate': 865, 'sacrifice': 5025, 'audrie': 968, 'autocorrect': 977, 'multiply': 3986, 'numbers': 4176, 'independently': 3154, 'count': 1749, 'division': 2030, 'places': 4493, 'showed': 5244, 'released': 4865, 'cosign': 1737, 'option': 4276, 'juliana': 3330, 'stu': 5581, 'truble': 6035, 'evone': 2316, 'hates': 2884, 'av': 978, 'bck': 1078, 'remain': 4869, 'unconvinced': 6117, 'elaborate': 2199, 'willpower': 6455, '07801543489': 29, 'latests': 3456, 'llc': 3563, 'ny': 4186, 'usa': 6183, 'mt': 3971, 'msgrcvd18': 3967, 'takin': 5725, 'linear': 3535, 'algebra': 768, 'dying': 2148, 'weather': 6368, 'vitamin': 6268, 'nasty': 4035, 'filthyguys': 2465, 'rude': 5003, 'slo': 5332, '4msgs': 430, 'em': 2210, 'wtc': 6549, 'weiyi': 6396, 'shanil': 5186, 'exchanged': 2330, 'uncut': 6118, 'diamond': 1971, 'dino': 2000, 'virgins': 6260, '4fil': 424, 'sexual': 5169, 'theirs': 5837, '69911': 493, 'bb': 1074, 'bf': 1150, 'certainly': 1472, 'puts': 4718, 'perspective': 4440, 'themob': 5842, 'premium': 4621, 'pink': 4481, 'panther': 4358, 'sugababes': 5627, 'zebra': 6646, 'animation': 817, 'badass': 1024, 'hoody': 3001, 'maggi': 3689, 'mee': 3794, 'textin': 5812, '0871277810810': 100, 'housewives': 3030, '0871750': 112, '77': 518, 'landlines': 3437, 'shirt': 5212, 'pants': 4360, 'madam': 3681, 'shelf': 5197, 'egg': 2189, 'become': 1099, 'slob': 5333, 'complexities': 1672, 'freely': 2587, 'taxes': 5747, 'outrageous': 4314, 'auntie': 971, 'huai': 3046, 'juan': 3326, 'nigh': 4103, '07734396839': 22, 'ibh': 3077, 'nokia6600': 4126, 'txtauction': 6079, '81151': 545, '4t': 433, 'jaya': 3278, 'laid': 3429, 'dogging': 2054, 'largest': 3447, '69696': 491, 'ec2a': 2169, '3lp': 380, 'hw': 3071, 'realy': 4806, 'mising': 3868, 'survey': 5675, '80160': 539, 'txt43': 6077, 'europe': 2289, 'scenario': 5078, '86888': 574, 'subscribe6gbp': 5606, 'mnth': 3892, '3hrs': 379, 'txtstop': 6084, 'studies': 5586, 'anyones': 842, 'lect': 3481, 'google': 2755, 'qet': 4725, 'yupz': 6644, 'slots': 5334, 'weekends': 6385, '2geva': 320, 'satanic': 5060, 'imposter': 3130, 'destiny': 1955, 'teresa': 5793, 'received': 4820, 'package': 4340, 'dec': 1890, 'thot': 5872, 'ld': 3468, 'bam': 1037, 'aid': 741, 'usmle': 6193, 'sickness': 5259, 'calculation': 1372, 'units': 6134, 'expensive': 2347, 'accent': 652, '4years': 440, 'dental': 1931, 'nmde': 4116, 'woodland': 6506, 'avenue': 988, 'somewhere': 5401, 'parish': 4371, 'magazine': 3688, 'telephone': 5775, 'running': 5014, 'managed': 3713, 'oxygen': 4334, 'resort': 4914, 'roller': 4975, 'bhaji': 1153, 'cricketer': 1787, 'sachin': 5022, 'tough': 5995, 'role': 4974, 'miracle': 3862, 'young': 6621, 'moms': 3920, 'checkup': 1513, 'aka': 755, 'pap': 4361, 'smear': 5345, 'whore': 6437, 'unbelievable': 6108, 'call09050000327': 1377, 'rstm': 4997, 'sw7': 5680, '3ss': 387, 'shant': 5187, 'jia': 3296, 'detroit': 1959, '2find': 318, 'ke': 3362, 'qi': 4726, 'izzit': 3254, 'suddenly': 5623, 'machan': 3677, '08452810071': 57, 'urgnt': 6176, 'webadres': 6371, 'geting': 2691, 'slip': 5329, '900': 607, '09061701851': 159, 'k61': 3342, '12hours': 237, 'lookin': 3596, '09066362231': 185, '07xxxxxxxxx': 38, '06': 16, 'explicit': 2354, 'sex': 5168, 'secs': 5113, '02073162414': 9, 'barred': 1052, 'twat': 6067, 'dungerees': 2140, 'decking': 1899, 'punch': 4704, 'ran': 4766, 'the4th': 5833, 'october': 4202, 'lives': 3559, 'stubborn': 5582, 'sucker': 5619, 'hospitals': 3018, 'suckers': 5620, 'added': 686, 'their': 5836, 'fullonsms': 2629, 'salad': 5033, 'desert': 1945, 'beers': 1112, 'spoons': 5476, 'xchat': 6564, 'macha': 3676, 'mindset': 3848, 'shorts': 5234, '077xxx': 28, '09066362206': 184, 'box97n7qp': 1261, 'complete': 1669, 'gist': 2711, 'bec': 1095, 'couple': 1753, 'tomorro': 5960, '3mobile': 383, 'chatlines': 1500, 'inclu': 3140, 'cust': 1825, 'servs': 5159, 'l8er': 3415, 'mega': 3799, 'bill': 1163, 'giv': 2712, 'bailiff': 1029, 'ain': 744, 'answerin': 830, 'reasonable': 4809, 'sleepy': 5323, 'creepy': 1784, 'eta': 2282, 'okday': 4228, 'grins': 2799, 'muhommad': 3984, 'penny': 4418, 'itåõs': 3248, 'deserve': 1946, 'tight': 5904, 'lined': 3536, 'heat': 2911, 'applyed': 862, 'eachother': 2151, 'tonght': 5967, 'mmm': 3888, '08719181503': 130, 'noncomittal': 4130, 'sts': 5580, 'ticket': 5901, 'timings': 5916, '8am': 600, 'hubby': 3047, 'satisfy': 5063, '89938': 599, 'strings': 5573, 'action': 674, 'rec': 4815, '50ea': 445, 'otbox': 4297, '731': 510, 'la1': 3419, '7ws': 530, 'playin': 4505, 'poker': 4546, 'hyde': 3072, 'mel': 3803, 'opps': 4273, 'confused': 1693, 'tt': 6054, 'spook': 5474, 'halloween': 2847, 'logo': 3579, '08701417012150p': 65, 'lingo': 3540, 'nights': 4105, 'iåõm': 3257, 'knackered': 3399, 'dreading': 2098, 'thou': 5873, 'denis': 1929, 'mina': 3844, 'size': 5301, 'elephant': 2206, 'tablets': 5712, 'shove': 5241, 'um': 6101, 'save': 5068, 'orno': 4292, 'ended': 2222, 'sunny': 5651, 'bay': 1073, 'mrng': 3961, 'jeremiah': 3287, 'enuff': 2254, 'mb': 3775, '930': 610, 'math': 3757, '84128': 563, 'american': 795, 'pie': 4472, 'singing': 5282, '09066358361': 182, 'y87': 6580, 'virtual': 6261, 'hug': 3048, 'returned': 4936, 'weightloss': 6391, 'ebay': 2168, 'båõday': 1362, 'webpage': 6372, 'wud': 6554, 'fffff': 2442, 'kadeem': 3343, 'sweetie': 5691, 'fixes': 2498, 'spelling': 5450, 'sometimes': 5399, 'diff': 1986, 'language': 3440, 'polyphonic': 4554, '087018728737': 68, 'toppoly': 5982, 'tune': 6061, 'pole': 4548, 'guild': 2819, 'flight': 2508, 'thinked': 5857, 'knows': 3406, 'menu': 3817, 'pig': 4476, 'clover': 1599, 'iouri': 3211, 'wylie': 6559, 'ryan': 5020, 'art': 910, 'training': 6006, 'student': 5584, 'books': 1233, 'impressively': 3132, 'sensible': 5145, 'boring': 1240, 'slightly': 5328, 'disastrous': 2014, 'darlings': 1863, 'wld': 6489, 'spell': 5448, '2yrs': 347, 'messenger': 3825, 'slippers': 5330, 'free2day': 2584, 'george': 2687, '89080': 594, 'saucy': 5066, 'celeb': 1462, 'pocketbabe': 4540, '0870241182716': 69, 'gained': 2644, 'kg': 3377, 'tests': 5805, 'pressure': 4631, 'limits': 3531, 'arrange': 903, 'transport': 6013, '07732584351': 21, 'rodger': 4971, 'burns': 1339, 'åè10': 6651, 'evey': 2310, 'electricity': 2205, 'fml': 2527, 'lady': 3427, 'womdarfull': 6497, 'inconvenient': 3147, 'six': 5300, 'chances': 1481, 'csh11': 1799, '87575': 584, '6days': 496, 'tsandcs': 6048, 'hl': 2967, 'positions': 4572, 'kama': 3350, 'sutra': 5677, 'nw': 4184, 'hme': 2971, 'northampton': 4145, 'afraid': 717, 'battery': 1070, 'adewale': 690, 'egbon': 2188, 'blake': 1187, 'explicitly': 2355, 'nora': 4138, 'goodmate': 2748, 'sary': 5057, 'asusual': 944, 'cheered': 1516, 'franyxxxxx': 2578, 'b4u': 1010, '27': 312, 'marsms': 3741, 'b4utele': 1011, '08717168528': 111, 'plm': 4516, 'decision': 1897, 'decide': 1893, 'simpler': 5276, 'less': 3495, '09050001808': 138, 'm95': 3670, 'valid12hrs': 6207, 'swatch': 5685, 'dare': 1858, 'approaching': 867, 'sankranti': 5048, 'republic': 4901, 'shivratri': 5218, 'ugadi': 6092, 'fools': 2542, 'independence': 3153, 'teachers': 5760, 'childrens': 1538, 'ganesh': 2651, 'festival': 2437, 'dasara': 1866, 'mornings': 3940, 'afternoons': 723, 'evenings': 2294, 'rememberi': 4873, 'wishing': 6471, 'raj': 4757, 'expect': 2345, 'presents': 4628, 'nicky': 4100, 'intention': 3195, 'visitors': 6267, 'embarassed': 2212, 'waaaat': 6297, 'lololo': 3585, 'form': 2560, 'clark': 1572, 'utter': 6197, 'waste': 6340, 'armand': 896, 'blind': 1199, 'rodds1': 4970, 'aberdeen': 636, 'united': 6133, 'kingdom': 3393, 'img': 3120, 'icmb3cktz8r7': 3087, 'hide': 2948, 'breeze': 1282, 'bright': 1288, 'fresh': 2595, 'flower': 2519, 'twittering': 6073, 'birds': 1171, 'sha': 5175, 'drug': 2119, 'cedar': 1460, 'key': 3373, 'aeronautics': 708, 'professors': 4666, 'wer': 6405, 'calld': 1382, 'aeroplane': 709, 'aftr': 724, 'plane': 4495, 'students': 5585, 'dey': 1965, 'hurried': 3062, 'bawling': 1072, 'failure': 2380, 'failing': 2378, '80488': 542, 'status': 5521, 'frequently': 2594, 'guilty': 2820, 'baaaaabe': 1014, 'misss': 3876, 'youuuuu': 6630, 'teach': 5759, 'nap': 4033, 'possibility': 4575, 'app': 856, 'eh': 2192, 'spun': 5488, 'spk': 5462, 'wrld': 6542, 'sofa': 5378, 'gota': 2761, '0a': 206, 'allow': 774, 'companies': 1660, 'responsible': 4922, 'suppliers': 5659, 'reunion': 4939, 'bcum': 1084, '09050000332': 136, 'toshiba': 5989, 'portege': 4568, 'm100': 3663, '0789xxxxxxx': 35, 'pocay': 4538, 'wocay': 6494, '4eva': 422, 'promise': 4676, '2morrowxxxx': 329, 'brison': 1296, 'names': 4029, 'name1': 4027, 'name2': 4028, 'mobno': 3902, 'adam': 683, '07123456789': 20, 'txtno': 6082, 'ads': 702, 'cherthala': 1523, 'cochin': 1617, 'bfore': 1152, 'tmorow': 5932, 'engaged': 2229, 'teju': 5772, 'recycling': 4839, 'earning': 2156, 'freezing': 2590, 'weird': 6392, 'hero': 2937, 'apt': 875, 'opportunity': 4271, 'kerala': 3370, 'sang': 5046, 'uptown': 6169, '80': 532, 'indicate': 3159, 'compensation': 1664, 'ideas': 3093, 'fish': 2488, 'memory': 3812, 'spirit': 5460, 'praveesh': 4611, 'delicious': 1920, 'abi': 637, 'cleared': 1583, 'birla': 1172, 'soft': 5379, 'exactly': 2325, 'chechi': 1506, 'meive': 3802, 'hardly': 2876, 'gotany': 2762, 'stayin': 5524, 'wed': 6374, 'rugby': 5005, 'ham': 2848, 'law': 3462, 'alive': 770, 'sleeps': 5321, 'blu': 1213, 'concert': 1681, 'november': 4162, '09061104276': 157, 'smsco': 5359, '75max': 514, 'gloucesterroad': 2721, 'uup': 6198, 'tuition': 6059, '330': 364, 'hm': 2970, '1120': 221, '1205': 228, '44': 404, '7732584351': 519, 'deliveredtomorrow': 1923, '300': 349, 'thin': 5853, 'fault': 2414, 'arguments': 891, 'fed': 2424, 'himso': 2956, '2go': 321, 'boltblue': 1225, 'mono': 3928, 'poly3': 4552, 'cha': 1473, 'slide': 5326, 'jamz': 3268, 'toxic': 5999, 'ideal': 3092, 'path': 4394, 'appear': 859, 'front': 2616, 'paths': 4395, 'borderline': 1237, 'maid': 3696, 'murderer': 3997, 'murdered': 3996, 'public': 4701, 'govt': 2768, 'instituitions': 3190, 'closed': 1593, '74355': 511, 'sum': 5638, 'lucyxx': 3649, 'tp': 6000, 'correctly': 1734, 'affidavit': 715, 'twiggs': 6070, 'courtroom': 1757, 'lovers': 3626, 'becz': 1102, 'undrstndng': 6124, 'avoids': 992, 'suffer': 5625, 'thread': 5879, 'erutupalam': 2270, 'thandiyachu': 5819, 'newest': 4090, 'ûïharry': 6660, 'potter': 4585, 'phoenix': 4454, 'harry': 2879, 'among': 800, 'readers': 4796, 'dorothy': 2077, 'kiefer': 3385, 'granite': 2781, 'explosive': 2356, 'members': 3808, 'nasdaq': 4034, 'symbol': 5702, 'cdgt': 1458, 'tog': 5946, 'mth': 3973, 'aiyo': 752, 'goin2bed': 2735, 'only1more': 4253, 'persons': 4439, 'maaaan': 3672, 'resizing': 4910, 'complacent': 1666, 'greatness': 2792, 'oranges': 4281, 'upd8': 6156, 'freefone': 2586, '2stoptx': 339, 'setting': 5161, 'computer': 1677, 'ding': 1997, 'fassyole': 2405, 'blacko': 1185, 'londn': 3586, 'poyyarikatur': 4594, 'kolathupalayam': 3409, 'unjalur': 6136, 'erode': 2265, 'juicy': 3328, 'theoretically': 5845, 'ripped': 4961, 'clubmoby': 1603, '08717509990': 114, 'pix': 4487, 'downloads': 2088, 'female': 2435, 'throwing': 5888, 'africa': 718, 'avin': 989, 'silver': 5272, 'infact': 3162, 'iåõd': 3255, 'drinks': 2108, 'indian': 3157, 'walmart': 6319, 'mouse': 3950, 'desk': 1948, 'aptitude': 876, 'videos': 6244, 'shsex': 5251, 'netun': 4081, 'fgkslpopw': 2444, 'fgkslpo': 2443, '09090204448': 198, 'minded': 3847, 'aå': 1006, 'minapn': 3845, 'ls278bb': 3639, 'ignoring': 3107, 'friendships': 2606, 'grow': 2805, 'prepare': 4623, 'pleasured': 4514, 'ey': 2362, 'calm': 1392, 'downon': 2089, 'theacusations': 5834, 'itxt': 3246, 'iwana': 3251, 'wotu': 6527, 'thew': 5850, 'haventcn': 2891, 'ages': 732, 'up4': 6154, 'nething': 4080, 'recharged': 4827, 'wow': 6532, 'cam': 1393, 'w8in': 6295, '4utxt': 438, '82242': 550, 'hlp': 2969, '08712317606': 88, 'msg150p': 3965, '2rcv': 338, '2price': 337, '100txt': 214, 'tooth': 5978, '2optout': 336, 'd3wv': 1842, 'bet': 1141, 'chasing': 1497, 'greetings': 2796, 'classes': 1575, 'diet': 1985, 'everyday': 2302, 'fatty': 2413, 'toa': 5939, 'payoh': 4406, 'midnight': 3835, 'appeal': 858, 'thriller': 5883, 'director': 2006, 'mac': 3675, 'mouth': 3951, 'lions': 3545, 'lionm': 3543, 'lionp': 3544, '3gbp': 378, 'rates': 4775, 'south': 5429, 'african': 719, 'soil': 5381, 'donate': 2068, 'unicef': 6130, 'asian': 921, 'tsunami': 6052, 'disaster': 2013, 'fund': 2633, '864233': 572, 'weigh': 6388, 'breathe': 1278, 'regret': 4858, 'wewa': 6414, '130': 241, 'iriver': 3219, '255': 307, '128': 236, 'adult': 703, 'parties': 4378, 'dislikes': 2021, 'ho': 2977, 'contribute': 1715, 'greatly': 2791, 'appreciated': 866, 'genius': 2681, 'bottom': 1247, 'ending': 2223, '4882': 418, 'matches': 3754, '09064019014': 174, 'importantly': 3128, 'neft': 4069, 'transaction': 6009, 'credited': 1782, 'beneficiary': 1135, 'diesel': 1984, 'conveying': 1719, 'wavering': 6356, 'decisions': 1898, 'coping': 1727, 'individual': 3160, 'heal': 2905, 'flying': 2524, 'monkeys': 3927, 'incomm': 3145, 'error': 2268, 'haunt': 2886, 'sorted': 5417, 'promoting': 4680, 'hex': 2942, 'joke': 3308, 'bigger': 1160, 'younger': 6622, 'mahal': 3693, 'stopped': 5555, 'tomarrow': 5957, 'court': 1756, 'stand': 5503, 'forwarding': 2568, 'tms': 5935, 'widelive': 6443, 'index': 3155, 'wml': 6490, '820554ad0a1705572711': 549, 'trueåác': 6039, 'ringtoneåá': 4960, 'lolnice': 3584, 'opposite': 4272, 'repairs': 4887, 'ovulation': 4327, 'followin': 2534, '850': 566, '650': 482, 'aunt': 970, 'nike': 4108, 'coimbatore': 1623, 'vikky': 6249, 'olave': 4237, 'mandara': 3718, 'kano': 3354, 'trishul': 6032, 'attending': 960, 'talks': 5732, 'financial': 2469, 't91': 5708, 'gbp': 2669, '09057039994': 145, 'holding': 2982, 'realize': 4802, 'cannot': 1407, '09061702893': 160, 'stuffed': 5592, 'bleh': 1193, 'writhing': 6538, '2mro': 330, 'cld': 1579, 'prefer': 4619, 'nosh': 4148, 'stuck': 5583, 'audrey': 967, 'capital': 1411, 'ladies': 3426, 'lie': 3511, 'responce': 4917, 'happend': 2864, 'faggot': 2375, 'bishan': 1175, 'strike': 5572, 'bird': 1170, 'antelope': 834, 'toplay': 5981, 'fieldof': 2447, 'selfindependence': 5130, 'contention': 1711, 'random': 4767, 'total': 5991, 'disappointment': 2012, 'craziest': 1775, 'reasons': 4810, 'tee': 5770, 'cheery': 1518, 'bye': 1360, 'handsome': 2856, 'finding': 2471, 'mummy': 3990, 'queen': 4729, 'wedding': 6376, '15': 248, '26': 309, '54': 455, 'resubmit': 4928, 'expiry': 2352, 'x2': 6560, 'biz': 1181, 'pongal': 4556, 'bridgwater': 1286, 'banter': 1045, 'nannys': 4032, 'turns': 6064, 'stereo': 5533, 'mi': 3830, 'unknown': 6138, 'visa': 6262, 'gucci': 2812, 'bags': 1026, 'canåõt': 1410, 'isnåõt': 3233, 'shite': 5215, 'kip': 3394, 'doubt': 2082, 'none': 4131, 'sleepwell': 5322, 'treatin': 6024, 'treacle': 6021, '2006': 287, 'fifa': 2448, 'cup': 1819, '87239': 583, 'annoncement': 821, '07046744435': 18, 'becomes': 1100, 'habit': 2831, 'follow': 2532, 'limited': 3529, 'sez': 5172, 'arab': 879, 'evry1': 2320, 'eshxxxxxxxxxxx': 2275, 'misbehaved': 3865, 'slap': 5315, 'urself': 6181, 'werethe': 6408, 'monkeespeople': 3924, 'monkeyaround': 3926, 'howdy': 3033, 'recognise': 4830, 'tim': 5910, 'bollox': 1224, 'tol': 5952, 'ummifying': 6103, 'durban': 2142, '85222': 569, 'winnersclub': 6463, '84': 560, 'm26': 3664, '3uz': 388, 'gbp1': 2670, 'fink': 2480, '09099726553': 203, 'promised': 4677, 'carlie': 1427, 'minmobsmore': 3852, 'lkpobox177hp51fl': 3561, 'repent': 4889, 'beads': 1089, 'basket': 1060, 'alto18': 787, 'wave': 6355, '44345': 406, 'jos': 3317, 'poop': 4559, 'gpu': 2769, 'makin': 3706, 'weirdy': 6395, 'brownies': 1309, 'cookies': 1723, 'finishes': 2478, 'youphone': 6623, 'athome': 947, 'youwanna': 6631, 'southern': 5430, 'california': 1375, 'didntgive': 1980, 'bellearlier': 1127, 'sporadically': 5477, 'bc': 1077, 'garments': 2660, 'searching': 5104, 'potential': 4584, 'talent': 5727, 'horse': 3015, 'ate': 946, 'chicken': 1530, 'breather': 1280, 'granted': 2782, 'fulfil': 2627, 'blessing': 1196, 'exhausted': 2339, 'cuddle': 1812, 'timi': 5913, 'clearing': 1585, 'sender': 5139, 'spoken': 5471, 'pee': 4414, 'dats': 1872, 'dogg': 2052, 'nimbomsons': 4109, 'obviously': 4196, 'ranjith': 4772, 'cal': 1370, 'drpd': 2118, 'deeraj': 1908, 'deepak': 1906, '5min': 462, 'plural': 4522, 'noun': 4160, 'research': 4906, 'sweater': 5687, 'mango': 3722, 'smoked': 5353, 'shell': 5198, 'unconsciously': 6116, 'avoiding': 991, 'unhappy': 6128, 'lingerie': 3539, 'bridal': 1285, 'petticoatdreams': 4445, 'superb': 5656, 'selection': 5128, 'brought': 1307, 'weddingfriend': 6377, 'acknowledgement': 670, 'astoundingly': 942, 'tactless': 5715, 'faggy': 2376, 'demand': 1926, 'oath': 4193, 'fo': 2529, 'addie': 688, 'tues': 6057, 'watchin': 6347, 'lido': 3510, 'kaila': 3344, 'romcapspam': 4977, 'presence': 4626, 'outgoing': 4313, 'bringing': 1293, 'breath': 1277, 'sunshine': 5652, 'hypertension': 3074, 'expressoffer': 2360, '80062': 535, 'power': 4592, 'lo': 3566, 'tessy': 5802, 'favor': 2417, 'wishes': 6469, 'nimya': 4110, 'shijas': 5204, 'ride': 4953, 'urination': 6177, 'truly': 6041, 'memorable': 3810, 'slaaaaave': 5313, 'summon': 5644, 'nver': 4181, 'somtimes': 5403, 'occupy': 4199, 'hearts': 2910, 'fren': 2591, 'ela': 2198, 'il': 3112, 'xy': 6579, 'swimsuit': 5693, 'newspapers': 4093, 'bahamas': 1027, 'callfreefone': 1387, '08081560665': 50, 'cruise': 1794, 'ofå': 4221, '07786200117': 27, '3650': 367, '09066382422': 192, '3mins': 382, '300603': 351, 'bcm4284': 1081, 'wc1n3xx': 6361, 'smashed': 5344, 'driver': 2111, 'dent': 1930, 'goal': 2728, 'henry': 2933, 'liverpool': 3558, 'scores': 5087, 'yards': 6588, 'bergkamp': 1137, 'margin': 3731, '78': 520, 'prof': 4665, 'passed': 4385, 'papers': 4363, 'sem': 5133, 'enna': 2239, 'kalaachutaarama': 3346, 'joking': 3312, 'evry': 2319, 'emotion': 2218, 'dsn': 2127, 'prayrs': 4614, 'othrwise': 4302, 'deduct': 1904, 'jeans': 3283, 'prometazine': 4674, 'syrup': 5704, '5mls': 463, 'feed': 2426, 'rocks': 4969, 'beyond': 1149, 'mushy': 3998, 'embarrassed': 2214, 'fireplace': 2484, 'icon': 3088, 'sry': 5493, 'jst': 3323, 'nosy': 4149, 'reacting': 4793, 'freaked': 2581, '08718738002': 127, '48922': 419, 'abiola': 639, 'snickering': 5369, 'chords': 1553, 'mention': 3815, 'served': 5156, '4the': 435, '4mths': 431, 'mobilesdirect': 3899, '08000938767': 43, 'or2stoptxt': 4279, 'reality': 4801, 'geeeee': 2676, 'wee': 6380, 'cultures': 1817, 'module': 3911, 'paris': 4370, '69101': 488, 'rtf': 4998, 'sphosting': 5454, 'asthma': 940, 'attack': 955, 'eggs': 2190, 'korean': 3411, '08006344447': 48, '1b6a5ecef91ff9': 267, '37819': 370, 'true18': 6038, '0430': 13, 'jul': 3329, '05': 14, '2004': 285, '89545': 596, '087187262701': 121, '50gbp': 446, 'mtmsg18': 3976, 'everyso': 2305, 'panicks': 4355, 'starts': 5514, 'bein': 1122, 'indians': 3158, 'kane': 3352, 'shud': 5252, 'laugh': 3458, 'spacebucks': 5434, 'honestly': 2993, 'promptly': 4682, 'keys': 3375, 'burnt': 1340, 'meat': 3788, 'supreme': 5664, 'sparkling': 5436, 'breaks': 1276, '45': 410, '0121': 4, '2025050': 290, 'shortbreaks': 5231, 'org': 4289, 'tkts': 5928, '09058099801': 156, 'b4190604': 1008, '7876150ppm': 522, 'pride': 4642, 'kid': 3382, 'grownup': 2806, 'messy': 3826, 'elsewhere': 2209, 'mandan': 3717, 'hmv': 2976, 'genuine': 2686, '100percent': 213, 'callin': 1388, 'bruv': 1313, 'ignorant': 3105, 'difference': 1987, 'versus': 6232, 'soiree': 5382, 'wkly': 6486, '80878': 543, '08715705022': 110, '1x150p': 279, 'unconscious': 6115, 'adults': 704, 'abnormally': 642, '09066364349': 187, 'box434sk38wp150ppm18': 1259, 'attracts': 963, 'shanghai': 5185, '21st': 294, 'cya': 1840, 'roommates': 4982, 'dogbreath': 2051, 'sounding': 5424, 'reception': 4824, 'near': 4052, 'hasn': 2882, 'hockey': 2978, 'elections': 2204, 'ubi': 6091, '67441233': 486, 'irene': 3218, 'ere': 2261, 'bus8': 1342, '65': 481, '61': 473, '66': 483, '382': 372, 'cres': 1785, 'tech': 5768, '6ph': 501, '5wkg': 469, 'billy': 1166, 'jogging': 3303, 'file': 2456, 'gokila': 2737, '08717895698': 116, 'mobstorequiz10ppm': 3905, 'emigrated': 2216, 'hopeful': 3007, 'def': 1909, 'gifts': 2702, 'cliff': 1588, 'morphine': 3941, 'tip': 5917, 'unnecessarily': 6142, 'hostile': 3021, 'unintentionally': 6131, 'trains': 6007, 'bhaskar': 1154, 'entirely': 2248, 'understood': 6123, '087104711148': 83, 'possession': 4573, 'property': 4688, 'lastest': 3450, 'stereophonics': 5534, 'marley': 3736, 'dizzee': 2033, 'racal': 4745, 'libertines': 3506, 'strokes': 5575, 'nookii': 4132, 'click': 1587, 'bookmark': 1232, '82468': 552, 'packing': 4341, 'offline': 4218, 'anjola': 818, 'unclaimed': 6110, '09066368327': 188, 'closingdate04': 1596, 'claimcode': 1569, 'm39m51': 3666, '50pmmorefrommobile2bremoved': 450, 'mobypobox734ls27yf': 3907, 'ahold': 740, 'crying': 1796, 'imprtant': 3133, 'tomorw': 5962, '08712402902': 94, 'gibbs': 2699, 'mike': 3839, 'hussey': 3068, 'atten': 957, 'inperialmusic': 3179, 'listening2the': 3551, 'byåóleafcutter': 1361, 'johnåó': 3305, 'insects': 3181, 'molested': 3916, 'plumbing': 4521, 'remixed': 4880, 'evil': 2312, 'acid': 669, 'songs': 5406, 'goggles': 2732, 'mc': 3776, 'cud': 1811, '30pm': 357, 'contacts': 1708, 'purple': 4711, 'thnk': 5867, 'lyk': 3661, 'green': 2793, 'yelow': 6599, 'brown': 1308, 'color': 1637, 'subscribers': 5609, 'replying': 4896, 'country': 1751, 'algarve': 767, 'ansr': 828, 'tyrone': 6090, 'length': 3491, 'fringe': 2607, 'distract': 2025, 'accidentally': 658, 'deleted': 1918, 'resend': 4907, 'nearer': 4053, 'srsly': 5492, 'yi': 6610, 'yetty': 6608, 'jesus': 3291, 'noisy': 4123, 'letters': 3502, 'keeps': 3366, 'petey': 4443, 'noiåõm': 4124, 'avent': 987, 'nit': 4112, 'js': 3322, 'stitch': 5541, 'trouser': 6034, 'fires': 2485, 'speed': 5446, 'bday': 1087, 'virgin': 6259, 'sumfing': 5641, 'accidant': 656, 'tookplace': 5975, 'ghodbandar': 2697, 'rd': 4786, 'moves': 3954, 'slovely': 5335, 'remembered': 4872, 'necessary': 4057, 'perfect': 4424, 'wasted': 6341, 'applebees': 860, 'thinkthis': 5861, 'dangerous': 1856, 'nooooooo': 4134, 'death': 1889, 'cable': 1365, 'outage': 4309, 'honeymoon': 2997, 'outfit': 4312, 'mountain': 3949, 'deer': 1907, 'flatter': 2504, 'pints': 4482, 'carlin': 1428, 'dismissial': 2022, 'perf': 4423, 'wrongly': 6545, 'åð': 6652, 'lil': 3526, 'beverage': 1146, 'pist': 4486, 'gang': 2652, 'adventure': 705, 'anna': 819, 'nagar': 4020, 'jap': 3273, 'lou': 3613, 'lancaster': 3433, 'neway': 4089, 'couldnåõt': 1748, 'tlk': 5929, 'scratching': 5093, 'dumb': 2138, 'mystery': 4013, 'solved': 5387, 'opened': 4263, 'batch': 1063, 'apologize': 854, 'admit': 696, 'nutter': 4180, 'cutter': 1836, 'ctter': 1807, 'cttergg': 1808, 'cttargg': 1806, 'ctargg': 1802, 'ctagg': 1801, 'ie': 3101, 'burden': 1334, 'fa': 2367, '2005': 286, '08452810075over18': 59, 'lara': 3444, 'chachi': 1474, 'pl': 4490, 'tiz': 5927, 'kanagu': 3351, 'famamus': 2390, 'textbuddy': 5809, 'gaytextbuddy': 2668, '89693': 598, '08715500022': 109, 'rpl': 4994, 'cnl': 1611, 'receipt': 4817, 'olympics': 4240, 'crashed': 1773, 'cuddled': 1813, 'ba': 1012, 'dao': 1857, 'realized': 4803, 'accomodations': 662, 'cave': 1453, 'offered': 4211, 'embarassing': 2213, 'answering': 831, 'fever': 2440, 'vomitin': 6277, 'middle': 3834, 'ttyl': 6055, 'amazing': 792, 'weight': 6390, 'effect': 2185, 'gee': 2674, 'aust': 974, 'bk': 1182, 'taj': 5720, 'lesser': 3496, 'known': 3405, 'facts': 2373, 'mumtaz': 3991, 'shahjahan': 5178, 'wifes': 6446, 'killed': 3386, 'husband': 3067, 'arises': 893, 'hari': 2877, 'yoyyooo': 6634, 'permissions': 4430, 'usb': 6184, 'sh': 5174, 'cried': 1788, 'uhhhhrmm': 6095, 'smokin': 5355, 'youåõre': 6632, 'chic': 1529, 'common': 1657, 'declare': 1900, 'knocking': 3402, 'chad': 1475, 'gymnastics': 2829, 'christians': 1558, 'staff': 5498, 'staying': 5525, 'calicut': 1374, 'glo': 2718, 'above': 644, 'hitter': 2964, '08718730555': 125, 'commercial': 1656, 'boost': 1234, 'borrow': 1242, 'beside': 1138, 'keeping': 3365, 'accept': 653, 'dear1': 1886, 'best1': 1140, 'clos1': 1590, 'lvblefrnd': 3658, 'jstfrnd': 3324, 'cutefrnd': 1833, 'lifpartnr': 3515, 'swtheart': 5700, 'bstfrnd': 1315, 'enemy': 2226, 'wasnåõt': 6339, 'spouse': 5483, 'pmt': 4527, 'sumthin': 5645, '4give': 426, 'shldxxxx': 5220, '09064017295': 173, 'k52': 3341, 'prolly': 4673, 'burger': 1335, 'footy': 2546, 'stadium': 5497, 'sept': 5151, 'large': 3446, 'coca': 1616, 'cola': 1626, 'adi': 691, 'entey': 2246, 'nattil': 4041, 'kittum': 3398, 'lanre': 3441, 'fakeye': 2383, 'eckankar': 2171, 'giggle': 2703, 'possibly': 4577, 'person2die': 4435, 'nvq': 4183, 'flip': 2511, 'breaking': 1275, 'cstore': 1800, 'garden': 2657, 'bulbs': 1328, 'seeds': 5118, '33': 363, 'scotsman': 5090, 'go2': 2727, 'notxt': 4159, 'refilled': 4848, 'successfully': 5617, 'inr': 3180, 'keralacircle': 3371, 'prepaid': 4622, 'kr': 3412, 'matthew': 3765, '09063440451': 168, 'lux': 3655, 'tenerife': 5791, 'ppm150': 4598, 'box334': 1255, 'gotto': 2767, '220cm2': 297, 'dudette': 2134, 'nottingham': 4158, '63miles': 480, '40mph': 397, 'drastic': 2096, 'jazz': 3280, 'zoom': 6649, '87131': 580, '0845': 55, '2814032': 314, '3xå': 391, '150pw': 255, 'eå': 2366, 'nd': 4049, 'hep': 2934, 'immunisation': 3124, 'kidz': 3384, 'screaming': 5096, 'naked': 4023, 'rhode': 4948, 'bong': 1226, 'upstairs': 6167, 'hectic': 2915, 'swoop': 5698, 'aldrine': 763, 'rtm': 4999, 'err': 2267, '8pm': 604, 'panren': 4356, 'paru': 4383, 'gentle': 2683, 'honeybee': 2996, 'sweetest': 5689, 'laughed': 3459, 'havnt': 2895, 'crack': 1768, 'jokes': 3310, 'gm': 2722, 'abj': 640, 'prediction': 4618, 'mistakes': 3880, 'chill': 1540, '6hrs': 497, 'surgical': 5669, 'emergency': 2215, 'unfolds': 6126, 'mix': 3884, 'html': 3044, 'gbp4': 2671, 'mfl': 3829, 'ew': 2322, 'abbey': 634, 'bitching': 1178, 'acted': 673, 'stalking': 5501, 'funk': 2636, 'tones2u': 5965, 'enjoying': 2238, 'nokia6650': 4127, 'ctxt': 1809, 'mtmsg': 3975, 'aslamalaikkum': 929, 'insha': 3182, 'tohar': 5948, 'beeen': 1106, 'muht': 3985, 'albi': 760, 'mufti': 3983, 'mahfuuz': 3695, '09061749602': 165, '528': 453, 'hp20': 3038, '1yf': 280, 'killing': 3387, 'spotty': 5482, 'province': 4695, 'sterling': 5535, 'cts': 1805, 'employee': 2219, 'sentence': 5148, 'concentrate': 1679, 'educational': 2179, 'remembrs': 4875, 'everytime': 2308, '40': 392, 'tattoos': 5743, 'bcums': 1085, 'affection': 713, 'kettoda': 3372, 'manda': 3716, 'icic': 3085, 'robs': 4967, 'avenge': 986, '1stchoice': 273, '08707808226': 78, 'resubbing': 4927, 'approve': 868, 'panalam': 4352, 'posts': 4582, 'postponed': 4581, 'stocked': 5543, 'mila': 3840, 'age23': 730, 'blonde': 1207, 'mtalk': 3972, '69866': 492, '30pp': 358, '5free': 459, 'increments': 3151, 'help08718728876': 2928, 'recorder': 4834, 'canname': 1406, 'australia': 975, 'mquiz': 3959, 'tonights': 5970, 'record': 4832, 'increase': 3149, 'desparately': 1950, 'teaching': 5761, 'purpose': 4712, '75': 512, 'homeowners': 2990, 'tenants': 5790, 'previously': 4639, 'refused': 4853, '1956669': 266, 'broke': 1301, 'sarcastic': 5054, 'tellmiss': 5780, 'chastity': 1498, 'device': 1963, 'beatings': 1092, 'lounge': 3615, 'watts': 6354, 'fill': 2457, 'tank': 5737, 'stressed': 5570, 'depressed': 1940, 'trouble': 6033, 'sozi': 5431, 'culdnt': 1816, 'talkbut': 5729, 'wannatell': 6326, 'wenwecan': 6404, 'properly': 4687, 'marvel': 3743, 'ultimate': 6100, 'spider': 5455, '83338': 557, '8ball': 601, 'dai': 1848, 'naal': 4017, 'eruku': 2269, 'maintain': 3702, 'cr': 1765, 'closer': 1594, 'protect': 4693, 'sib': 5257, 'sensitive': 5146, 'passwords': 4391, 'pin': 4480, 'password': 4390, 'gosh': 2758, 'spose': 5481, 'bx420': 1356, 'ip4': 3212, '5we': 468, 'pop': 4562, 'eviction': 2311, 'spiral': 5459, 'michael': 3832, 'riddance': 4952, 'mcfly': 3778, 'ab': 633, 'sara': 5053, 'jorge': 3316, 'shock': 5221, 'smith': 5351, 'switch': 5696, 'instructions': 3191, 'ploughing': 4517, 'pile': 4478, 'ironing': 3220, 'chinky': 1546, 'desires': 1947, 'liver': 3557, 'pierre': 4475, 'cardin': 1418, 'tscs087147403231winawk': 6051, '50perwksub': 449, '08715203656': 107, '42049': 399, 'empty': 2220, 'handed': 2851, 'teams': 5763, 'jokin': 3311, 'notixiquating': 4157, 'laxinorficated': 3463, 'bambling': 1038, 'entropication': 2250, 'oblisingately': 4194, 'opted': 4275, 'masteriastering': 3749, 'amplikater': 804, 'fidalfication': 2445, 'champlaxigating': 1479, 'atrocious': 952, 'wotz': 6528, 'junna': 3336, 'tirupur': 5921, 'sorta': 5416, 'blown': 1212, 'recently': 4823, 'smsservices': 5362, 'yourinclusive': 6626, 'bangbabes': 1042, 'bangb': 1041, 'monthly': 3931, '6months': 500, 'finishing': 2479, 'topic': 5980, 'shattered': 5191, 'picked': 4466, 'loyal': 3635, 'customers': 1829, '09066380611': 191, 'raji': 4758, 'rct': 4783, 'thnq': 5868, 'adrian': 701, 'rgds': 4947, 'vatian': 6219, 'ijust': 3109, 'talked': 5730, 'stuffs': 5593, 'headset': 2903, 'adp': 699, 'thinl': 5862, 'seeking': 5120, 'uses': 6189, 'sptv': 5487, 'jersey': 3289, 'devils': 1964, 'wings': 6460, 'incorrect': 3148, 'coco': 1620, 'browsin': 1311, 'compulsory': 1675, 'hunt': 3060, 'minor': 3856, 'shindig': 5206, 'unsubscribed': 6149, 'hunks': 3058, 'gotbabes': 2763, 'subscriptions': 5611, 'prince': 4644, 'charming': 1494, '07808247860': 31, '08719899229': 133, '40411': 395, '08712402972': 95, 'wondar': 6500, 'flim': 2510, 'shb': 5192, 'sd': 5100, 'sore': 5412, '125gift': 235, 'bold': 1222, 'caroline': 1431, 'legs': 3487, 'chillin': 1542, 'torch': 5984, 'occasion': 4197, 'celebrated': 1464, 'reflection': 4849, 'values': 6211, 'affections': 714, 'traditions': 6003, 'resent': 4908, 'queries': 4730, 'customersqueries': 1830, 'netvision': 4082, 'incredible': 3150, 'blow': 1211, 'o2fwd': 4192, '18p': 263, 'ive': 3250, 'quiteamuzing': 4739, 'thatåõscool': 5831, 'dull': 2137, 'lotta': 3610, 'childporn': 1536, 'owl': 4330, 'licks': 3509, 'loooooool': 3600, 'couch': 1744, 'celebration': 1465, 'rents': 4886, 'andre': 812, 'virgil': 6258, 'germany': 2688, '0844': 53, '861': 571, '85': 565, 'prepayment': 4624, 'telediscount': 5774, 'attended': 959, '1mega': 269, 'pixels': 4488, '3optical': 384, '5digital': 458, 'dooms': 2073, 'perpetual': 4431, 'dd': 1879, 't4get2text': 5707, 'semi': 5135, 'apart': 850, 'yetunde': 6609, 'foley': 2530, 'exciting': 2332, 'prizes': 4656, 'eye': 2363, '82050': 548, 'elaine': 2201, 'yeesh': 6595, 'involve': 3210, 'imposed': 3129, 'laughs': 3461, 'dehydrated': 1914, 'feelin': 2428, 'lnly': 3565, 'owe': 4328, 'gsex': 2808, '2667': 310, 'wc1n': 6360, '3xx': 390, '49': 420, 'bundle': 1331, 'deals': 1884, 'avble': 984, 'mf': 3828, 'pubs': 4702, 'frankie': 2576, 'bennys': 1136, 'warner': 6335, 'loxahatchee': 3634, 'tree': 6026, 'burning': 1338, 'sorts': 5418, 'outbid': 4311, 'simonwatson5120': 5274, 'shinco': 5205, 'plyr': 4524, 'bid': 1157, 'smsrewards': 5361, 'notifications': 4155, 'jas': 3274, 'subscribed': 5607, 'follows': 2536, 'subsequent': 5614, 'wks': 6488, 'painting': 4349, '08707500020': 76, 'prominent': 4675, 'bite': 1179, 'cheek': 1514, 'weighed': 6389, 'woohoo': 6507, 'ft': 2618, 'combination': 1645, 'raglan': 4750, 'edward': 2180, 'behind': 1121, 'cricket': 1786, 'closeby': 1592, 'unfortunately': 6127, 'arent': 886, 'cakes': 1369, 'upon': 6164, 'mailed': 3699, 'varma': 6215, 'regarding': 4854, 'kindly': 3391, 'cleaning': 1581, 'hate': 2883, 'tortilla': 5986, 'soup': 5427, 'yummmm': 6638, 'aww': 1000, 'nearly': 4054, 'jez': 3294, 'todo': 5945, 'workand': 6512, 'whilltake': 6431, 'ay': 1003, 'wkg': 6485, 'cheyyamo': 1527, 'fujitsu': 2625, 'ibm': 3080, 'hp': 3037, 'avalarr': 982, 'hollalater': 2986, 'tension': 5792, 'machi': 3678, 'unni': 6143, 'sipix': 5287, '09061221066': 158, 'fromm': 2615, '28': 313, 'nvm': 4182, 'dial': 1970, '08712300220': 86, 'bx526': 1357, 'lobby': 3571, 'thout': 5878, 'eastenders': 2161, 'dot': 2079, 'compare': 1662, 'herself': 2940, 'violet': 6256, 'tulip': 6060, 'lily': 3527, 'wkent': 6484, '150p16': 252, 'every1': 2299, 'ava': 979, 'goodtime': 2754, 'oli': 4239, 'melnite': 3805, 'ifink': 3104, 'everythin': 2306, 'l8rs': 3417, 'mails': 3700, 'yogasana': 6616, 'steam': 5530, 'stripes': 5574, 'skirt': 5309, 'ooh': 4257, '4got': 427, 'dancing': 1853, 'moseley': 3942, 'weds': 6379, 'kicks': 3381, 'dentist': 1932, 'lately': 3453, 'skye': 5311, 'peoples': 4420, 'trips': 6031, 'colours': 1640, 'darker': 1860, 'styling': 5597, 'innocent': 3177, 'terror': 5799, 'cruel': 1793, 'decent': 1892, 'joker': 3309, 'rounder': 4988, 'required': 4904, 'cooking': 1724, 'goods': 2753, 'revealing': 4942, 'tiwary': 5926, 'rcb': 4782, 'battle': 1071, 'bang': 1040, 'kochi': 3408, 'pounded': 4588, 'route': 4990, 'pt2': 4697, 'txtin': 6080, '4info': 429, 'dippeditinadew': 2003, 'lovingly': 3630, 'itwhichturnedinto': 3245, 'gifted': 2701, 'tomeandsaid': 5958, 'promotion': 4681, '8714714': 581, 'buzzzz': 1354, 'buzz': 1353, 'chest': 1525, 'vibrator': 6238, 'shake': 5180, 'practising': 4605, 'curtsey': 1823, 'crossing': 1791, 'batt': 1069, 'scrounge': 5098, 'hasbro': 2881, 'august': 969, 'jump': 3333, 'hoops': 3003, 'slice': 5325, 'breadstick': 1273, '08714712379': 103, 'mobsi': 3904, '391784': 373, 'rushing': 5018, 'rush': 5017, 'pack': 4339, 'cereals': 1470, 'gari': 2659, '9ja': 622, 'crammed': 1769, '3750': 369, '7250': 507, 'skint': 5307, 'fancied': 2395, 'bevies': 1147, 'waz': 6359, 'gona': 2741, 'othrs': 4301, 'spoon': 5475, 'bin': 1168, 'watchng': 6349, 'planet': 4496, 'comfey': 1650, 'prasanth': 4610, 'ettans': 2286, 'kfc': 3376, 'meals': 3781, 'gravy': 2787, 'voda': 6270, '7634': 516, 'quoting': 4743, '7684': 517, 'standard': 5504, 'jelly': 3285, 'arr': 902, 'oscar': 4295, 'trauma': 6015, 'swear': 5686, 'spelled': 5449, 'caps': 1413, 'yelling': 6597, 'mess': 3820, 'bullshit': 1329, 'wuld': 6555, 'everyboy': 2301, 'xxxxxxxx': 6577, 'goodo': 2752, 'potato': 4583, 'ratio': 4777, 'hor': 3011, 'florida': 2517, 'holla': 2985, 'bike': 1162, 'chgs': 1528, 'dual': 2129, 'flirtparty': 2514, 'replys150': 4897, 'flow': 2518, 'developed': 1962, 'ovarian': 4319, 'cysts': 1841, 'shrink': 5250, 'shining': 5207, 'signing': 5267, 'neighbors': 4071, 'neshanth': 4076, 'smartcall': 5343, '68866': 487, 'subscriptn3gbp': 5612, '08448714184': 54, 'landlineonly': 3436, 'barely': 1049, 'sane': 5045, 'helping': 2929, 'sn': 5364, 'pobox202': 4532, 'nr31': 4166, '7zs': 531, '450pw': 413, 'idiot': 3097, 'girlie': 2709, 'belive': 1125, 'uploaded': 6163, 'wishin': 6470, 'delhi': 1919, 'profile': 4667, 'bpo': 1266, 'dileep': 1994, 'muchand': 3981, 'venugopal': 6227, 'mentioned': 3816, 'buzy': 1352, 'esplanade': 2278, 'pobox84': 4537, 'm263uz': 3665, 'subs': 5603, 'nose': 4147, 'essay': 2279, 'sleepin': 5318, 'honesty': 2994, 'silently': 5270, 'drms': 2114, 'stage': 5499, 'dedicated': 1903, 'dedicate': 1902, 'valuable': 6208, 'wildlife': 6452, 'want2come': 6328, 'that2worzels': 5828, 'wizzle': 6481, 'nic': 4096, 'checkin': 1510, '09066660100': 195, '2309': 298, 'firmware': 2486, 'destination': 1954, 'normally': 4144, 'maths': 3760, 'chapter': 1487, 'anthony': 836, 'photoshop': 4459, 'caught': 1450, 'broken': 1302, 'jade': 3263, 'paul': 4397, 'barmed': 1050, 'musthu': 4003, 'yck': 6591, 'thts': 5893, 'wright': 6536, 'fly': 2523, 'fix': 2494, 'ceiling': 1461, 'dawns': 1874, 'refreshed': 4852, '09058097189': 154, 'ls15hb': 3638, 'rejected': 4860, 'meatballs': 3789, 'chit': 1548, 'logon': 3581, '8883': 590, 'cm': 1606, '4217': 400, 'w1a': 6290, '6zf': 505, '118p': 224, 'mas': 3745, 'mallika': 3711, 'sherawat': 5200, 'url': 6178, 'fridge': 2601, 'instantly': 3188, '69969': 494, 'bcmsfwc1n3xx': 1082, 'lib': 3505, 'wamma': 6321, 'doggin': 2053, 'uks': 6099, 'dogs': 2056, 'shame': 5183, 'wall': 6316, 'dust': 2145, '21870000': 293, 'mailbox': 3698, 'messaging': 3823, 'alert': 764, '09056242159': 144, 'retrieve': 4934, 'infra': 3169, 'returning': 4937, 'okey': 4230, 'doke': 2061, 'laying': 3464, 'treated': 6023, 'cashto': 1441, '08000407165': 40, 'getstop': 2693, '88222': 587, 'php': 4460, 'sun0819': 5647, 'general': 2679, 'defer': 1911, 'admission': 695, '09061743811': 164, 'abta': 649, '326': 362, 'cw25wx': 1839, 'engin': 2232, 'mys': 4011, 'mapquest': 3726, 'dogwood': 2057, '85069': 568, 'usher': 6191, 'britney': 1299, 'brolly': 1303, '2mrw': 331, 'franxx': 2577, '79': 523, '08704439680ts': 74, 'build': 1325, 'snowman': 5374, 'angels': 815, 'snowball': 5373, 'fights': 2452, 'literally': 3553, 'recorded': 4833, 'jerry': 3288, 'irritates': 3222, 'fails': 2379, 'express': 2358, 'brah': 1267, 'ta': 5709, 'jobs': 3301, 'timin': 5914, 'wtlp': 6553, 'sip': 5286, 'films': 2462, 'captain': 1414, 'vijaykanth': 6248, 'drunken': 2124, 'lovly': 3631, 'success': 5615, 'pansy': 4357, 'jungle': 3335, 'blackberry': 1184, 'buyer': 1349, '4a': 421, 'yeovil': 6601, 'motor': 3947, 'max': 3768, 'table': 5710, 'occupied': 4198, 'value': 6209, 'brisk': 1295, 'walks': 6315, 'dearly': 1888, 'solve': 5386, 'questioned': 4733, 'murder': 3995, 'cook': 1721, 'gardener': 2658, 'vegetables': 6225, 'neighbour': 4072, 'marriage': 3738, 'arrested': 905, 'lasting': 3451, 'sections': 5114, 'clearer': 1584, 'breathing': 1281, 'neck': 4059, 'bothering': 1246, 'printed': 4647, 'sculpture': 5099, '09061743810': 163, 'anywhere': 849, 'hunting': 3061, 'ditto': 2028, 'peace': 4410, 'com1win150ppmx3age16': 1642, 'catching': 1448, 'advise': 707, 'recent': 4822, 'review': 4944, '1500': 250, '09066368470': 189, '449071512431': 409, '1250': 234, '09071512433': 197, '050703': 15, 'callcost': 1380, 'mobilesvary': 3900, 'msn': 3970, 'hook': 3002, 'predicte': 4616, 'natalie': 4037, '165': 260, 'natalie2k9': 4038, 'yalru': 6583, 'lyfu': 3660, 'astne': 941, 'innu': 3178, 'mundhe': 3992, 'lyf': 3659, 'ali': 769, 'halla': 2845, 'bilo': 1167, 'edhae': 2176, 'ovr': 4325, 'vargu': 6213, 'meow': 3818, 'easter': 2162, 'n9dx': 4015, 'achan': 667, 'amma': 798, 'documents': 2042, 'submitted': 5601, 'stapati': 5506, 'maturity': 3767, '09066649731from': 194, 'scenery': 5079, 'whereare': 6425, 'friendsare': 2604, 'thekingshead': 5838, 'canlove': 1404, '08002986030': 46, 'hack': 2832, 'backdoor': 1021, 'fraction': 2574, 'neo69': 4074, '09050280520': 143, 'subscribe': 5605, 'dps': 2091, 'bcm': 1079, '8027': 541, 'delay': 1917, 'necessarily': 4056, 'headin': 2900, 'hhahhaahahah': 2946, 'rofl': 4972, 'wtf': 6550, 'nig': 4101, 'leonardo': 3493, 'cozy': 1763, 'blogging': 1203, 'magicalsongs': 3691, 'blogspot': 1204, 'yay': 6590, 'wenever': 6402, 'notified': 4156, 'marketing': 3734, '84122': 562, '08450542832': 56, 'smsing': 5360, 'lakhs': 3430, 'selflessness': 5131, '08708800282': 79, 'arrived': 907, 'okmail': 4233, 'dave': 1873, '09061743806': 162, 'tcs': 5757, 'box326': 1254, 'printing': 4649, 'handing': 2852, 'approx': 869, '07090298926': 19, '9307622': 611, 'wisdom': 6466, '125': 233, 'freeentry': 2585, 'xt': 6568, 'placement': 4492, 'amrita': 806, 'tease': 5766, 'grave': 2785, '730': 509, 'lag': 3428, 'skype': 5312, 'dentists': 1933, '08718726970': 122, 'siva': 5299, 'tats': 5742, 'alfie': 766, 'm8s': 3669, 'charity': 1491, 'nokias': 4128, 'polys': 4555, '08701417012': 64, 'profit': 4668, 'transfered': 6011, 'dang': 1855, 'score': 5086, 'motivating': 3946, 'hoping': 3010, 'andros': 814, 'steal': 5529, 'sliding': 5327, 'thus': 5897, 'si': 5256, 'oreo': 4287, 'truffles': 6040, 'pimples': 4479, 'outsider': 4316, 'dorm': 2076, 'humans': 3054, 'natural': 4042, 'windows': 6458, 'logoff': 3580, 'squishy': 5491, 'mwahs': 4007, 'coveragd': 1760, 'vasai': 6217, 'swollen': 5697, 'glands': 2717, 'throat': 5884, 'ammo': 799, 'ak': 754, 'reache': 4790, 'wi': 6441, 'nz': 4190, 'tai': 5718, 'feng': 2436, 'reservations': 4909, 'nordstrom': 4140, 'figuring': 2455, 'conference': 1686, 'everyones': 2304, 'babysitting': 1019, 'dobby': 2038, 'escape': 2273, 'kavalan': 3360, 'steak': 5528, 'ben': 1133, 'senor': 5142, 'cutie': 1835, 'wales': 6309, 'hills': 2953, 'hon': 2991, 'balloon': 1036, 'tops': 5983, 'passport': 4389, 'sth': 5538, 'specs': 5445, 'px3748': 4722, 'bids': 1158, 'shipping': 5211, 'partnership': 4380, 'invest': 3203, 'reliant': 4866, 'performance': 4425, 'calculated': 1371, 'current': 1821, 'secured': 5115, 'unsecured': 6145, '195': 265, '6669': 484, 'cme': 1608, 'hos': 3016, '2morow': 326, 'blessed': 1195, '89105': 595, '08700621170150p': 62, 'humanities': 3053, 'modules': 3912, 'heåõs': 2944, '2getha': 319, 'kalainar': 3347, 'thenampet': 5844, 'raise': 4755, 'cthen': 1803, 'conclusion': 1682, 'references': 4846, 'mostly': 3944, 'sports': 5479, 'footbl': 2545, 'crckt': 1778, 'constant': 1704, 'milk': 3842, 'anyways': 848, 'jide': 3298, 'visiting': 6265, 'okies': 4232, 'skip': 5308, 'blah': 1186, 'lovin': 3628, 'bits': 1180, 'pieces': 4474, 'propose': 4689, 'seing': 5126, 'funky': 2637, 'asssssholeeee': 937, 'reaction': 4794, 'wa': 6296, 'openin': 4264, 'formal': 2561, '80086': 537, 'txttowin': 6085, 'wating': 6352, 'collecting': 1633, 'configure': 1688, 'settings': 5162, 'dodgey': 2044, 'expecting': 2346, 'recovery': 4836, 'mathews': 3759, 'tait': 5719, 'edwards': 2181, 'anderson': 811, 'arnt': 900, 'xxxxxxxxxxxxxx': 6578, 'prices': 4641, 'inner': 3175, 'tigress': 5905, 'chik': 1532, 'filthy': 2464, 'filth': 2463, '69669': 490, 'saristar': 5055, 'e14': 2149, '9yt': 626, '08701752560': 67, '450p': 412, 'stop2': 5552, 'grateful': 2784, 'happier': 2869, 'daaaaa': 1844, 'miiiiiiissssssssss': 3838, 'wnevr': 6492, 'fal': 2384, 'vth': 6285, 'fals': 2389, 'yen': 6600, 'madodu': 3683, 'nav': 4046, 'pretsorginta': 4633, 'nammanna': 4030, 'pretsovru': 4634, 'alwa': 788, 'eveb': 2291, 'cudnt': 1815, 'drove': 2117, 'ctla': 1804, 'ente': 2242, 'ishtamayoo': 3228, 'bakrid': 1032, 'mobs': 3903, 'breathe1': 1279, 'crazyin': 1777, 'sleepingwith': 5320, 'finest': 2473, 'ymca': 6613, 'pobox365o4w45wq': 4535, 'docs': 2040, 'appointments': 864, 'shoving': 5242, 'necesity': 4055, 'witout': 6479, 'colleg': 1635, 'wth': 6551, 'functions': 2632, 'events': 2296, 'espe': 2276, 'cared': 1421, 'irritated': 3221, '4wrd': 439, 'wthout': 6552, 'takecare': 5722, 'gender': 2678, 'wither': 6475, '23f': 299, '23g': 300, 'youdoing': 6619, 'shiny': 5208, 'warming': 6334, 'btwn': 1317, 'sum1': 5639, 'gaps': 2654, 'sppok': 5484, 'lamp': 3432, 'propsd': 4691, 'gv': 2826, 'lv': 3657, 'lttrs': 3644, 'threw': 5882, 'thm': 5866, 'aproach': 874, 'dt': 2128, 'truck': 6036, 'speeding': 5447, 'wn': 6491, 'saved': 5069, 'shouted': 5239, 'thy': 5899, 'lived': 3556, 'happily': 2870, '2gthr': 322, 'drinking': 2107, 'evrydy': 2321, 'brainless': 1269, 'doll': 2062, 'vehicle': 6226, 'sariyag': 5056, 'madoke': 3684, 'barolla': 1051, 'tick': 5900, 'fundamentals': 2634, 'eighth': 2195, 'tex': 5806, 'mecause': 3790, 'werebored': 6407, 'okden': 4229, 'uin': 6096, 'soundåõs': 5426, 'likeyour': 3524, 'gr8fun': 2771, 'updat': 6157, 'countinlots': 1750, 'xxxxx': 6574, '08718738034': 128, 'dose': 2078, 'tablet': 5711, 'quarter': 4728, 'noooooooo': 4135, 'fair': 2381, 'bao': 1046, 'sugardad': 5630, 'forgiven': 2556, 'fan': 2394, 'ambitious': 793, '0871277810910p': 101, 'formatting': 2562, '09065174042': 176, '07821230901': 33, '07742676969': 23, '786': 521, 'unredeemed': 6144, '08719180248': 129, '45239': 414, 'cashbin': 1439, 'alaikkum': 758, 'pleasure': 4513, 'respectful': 4916, 'ujhhhhhhh': 6097, 'shipped': 5210, 'sandiago': 5044, 'parantella': 4367, 'lane': 3439, 'simpsons': 5278, '2007': 288, 'band': 1039, 'relaxing': 4864, '7am': 524, '5ish': 460, 'castor': 1443, 'dip': 2002, 'str8': 5563, 'classic': 1576, '200p': 289, 'excused': 2334, '62220cncl': 476, 'stopcs': 5554, '08717890890å': 115, 'classmates': 1577, 'raining': 4754, 'shore': 5228, 'hont': 2999, 'urfeeling': 6173, 'bettersn': 1144, 'probthat': 4662, 'overdose': 4322, 'lovejen': 3621, 'amk': 797, 'telugu': 5784, 'sexychat': 5171, 'chatting': 1501, 'signal': 5265, 'unusual': 6152, 'grandma': 2779, 'parade': 4366, 'miwa': 3883, 'allday': 773, '9755': 615, 'abeg': 635, 'sponsors': 5472, 'event': 2295, '0776xxxxxxx': 25, 'msgrcvdhg': 3968, '18yrs': 264, 'buttons': 1347, 'judgemental': 3327, 'fridays': 2600, 'randomlly': 4768, 'opening': 4265, 'di': 1969, 'esaplanade': 2271, 'everywhere': 2309, 'dirt': 2008, 'floor': 2516, 'flowing': 2520, 'chores': 1554, 'exist': 2340, 'hail': 2838, 'mist': 3878, 'goodnoon': 2751, '0089': 3, 'four': 2571, 'digits': 1992, '09063442151': 169, 'ûªm': 6657, 'ûªt': 6658, 'pure': 4709, 'hearted': 2909, 'enemies': 2225, 'smiley': 5349, 'uh': 6094, 'heads': 2902, 'missy': 3877, 'ccna': 1456, 'arranging': 904, 'lightly': 3518, 'checkboxes': 1508, 'moments': 3919, 'pocy': 4542, 'nothin': 4152, 'hanger': 2858, '30th': 359, 'areyouunique': 887, 'heaven': 2913, 'xclusive': 6565, 'clubsaisai': 1604, 'speciale': 5440, 'zouk': 6650, 'nichols': 4098, 'roses': 4986, '07946746291': 36, '07880867867': 34, 'scary': 5077, 'crash': 1772, '24m': 303, 'suppose': 5662, 'dr': 2092, 'appt': 871, 'ericsson': 2263, 'salesman': 5038, 'amigos': 796, 'burn': 1337, 'punj': 4706, 'lock': 3575, 'keypad': 3374, 'canteen': 1409, 'pisces': 4483, 'aquarius': 877, '3miles': 381, 'stories': 5559, 'spiritual': 5461, 'gamb': 2647, 'offense': 4209, 'sport': 5478, 'connection': 1698, 'coincidence': 1624, 'shouting': 5240, 'nachos': 4018, 'cocksuckers': 1619, 'ipads': 3214, 'worthless': 6525, 'garbage': 2656, 'novelty': 4161, 'toilet': 5949, 'stolen': 5545, 'cops': 1728, 'envy': 2257, 'tbs': 5754, 'persolvo': 4433, 'forå': 2569, '38': 371, 'kath': 3359, 'manchester': 3715, 'flood': 2515, 'toledo': 5954, 'fishrman': 2490, 'dark': 1859, 'sack': 5023, 'stones': 5549, 'strtd': 5578, 'throwin': 5887, 'in2': 3135, '1stone': 274, 'nowhere': 4165, 'ikno': 3111, 'doesdiscount': 2046, 'shitinnit': 5216, 'cousin': 1758, 'hairdressers': 2841, 'beforehand': 1115, 'gmw': 2723, 'connected': 1697, 'pookie': 4557, 'ups': 6165, '3days': 376, '2wks': 343, 'usps': 6194, 'bribe': 1284, 'nipost': 4111, 'function': 2631, 'loud': 3614, 'spontaneously': 5473, 'goodevening': 2745, 'rayman': 4780, 'golf': 2740, 'arcade': 881, 'activ8': 675, 'termsapply': 5796, 'dizzamn': 2032, 'suitemates': 5635, 'stash': 5516, 'dry': 2125, 'sitter': 5296, 'kaitlyn': 3345, 'lov': 3617, 'otside': 4303, 'maga': 3687, 'doc': 2039, 'fiting': 2492, 'load': 3567, 'mj': 3885, 'cashed': 1440, 'announced': 822, 'blog': 1202, '2nights': 334, 'uve': 6199, 'wildest': 6451, 'bold2': 1223, 'luton': 3652, '0125698789': 5, 'tiime': 5907, 'tears': 5765, 'low': 3632, 'bbd': 1075, 'dvg': 2147, 'vinobanagar': 6253, 'becausethey': 1098, '09058098002': 155, 'pobox1': 4530, 'w14rg': 6289, 'faded': 2374, 'glory': 2720, 'ralphs': 4764, 'replacement': 4891, 'murali': 3994, 'finn': 2481, 'runs': 5015, 'dusk': 2144, 'puzzles': 4721, 'randy': 4770, 'antha': 835, 'corrct': 1732, 'dane': 1854, '88800': 589, '89034': 593, '08718711108': 118, 'props': 4690, 'arithmetic': 894, 'percentages': 4422, 'sunlight': 5650, 'plate': 4500, 'leftovers': 3484, 'disturbing': 2027, 'hamster': 2849, '1pm': 271, 'xam': 6562, '1thing': 275, 'answr': 833, '09066368753': 190, '97n7qp': 617, 'fills': 2460, 'curious': 1820, 'mandy': 3719, 'sullivan': 5637, 'hotmix': 3025, 'fm': 2526, 'chosen': 1555, '09041940223': 135, 'transferred': 6012, 'replacing': 4892, 'exact': 2324, 'ovulate': 4326, '3wks': 389, 'fret': 2597, 'û_thanks': 6656, 'specialisation': 5441, 'labor': 3423, 'shakara': 5179, 'beggar': 1116, 'reassuring': 4812, 'onluy': 4251, 'matters': 3764, 'offcampus': 4208, '087147123779am': 102, 'french': 2592, 'fooled': 2541, 'twins': 6072, 'disappeared': 2011, 'infront': 3170, 'payments': 4405, 'fedex': 2425, '09066364311': 186, 'ee': 2182, 'poortiyagi': 4561, 'odalebeku': 4203, 'hanumanji': 2862, 'hanuman': 2861, 'bajarangabali': 1030, 'maruti': 3742, 'pavanaputra': 4398, 'sankatmochan': 5047, 'ramaduth': 4765, 'mahaveer': 3694, 'janarige': 3270, 'ivatte': 3249, 'kalisidare': 3348, 'olage': 4236, 'ondu': 4245, 'keluviri': 3367, 'maretare': 3729, 'inde': 3152, 'dodda': 2043, 'problum': 4661, 'nalli': 4025, 'siguviri': 5268, 'idu': 3100, 'matra': 3761, 'neglet': 4070, 'western': 6411, 'sen': 5137, 'finance': 2468, 'guai': 2810, 'passes': 4386, '08704439680': 73, 'booking': 1231, 'challenge': 1477, 'immed': 3122, 'hai': 2837, 'rajitha': 4760, 'ranju': 4773, 'needy': 4067, 'pouts': 4591, 'stomps': 5547, 'feet': 2432, 'videosound': 6245, 'gold': 2738, 'videosounds': 6246, 'musicnews': 4000, '09701213186': 205, 'unmits': 6141, 'miserable': 3866, 'massive': 3748, 'gut': 2823, 'wrenching': 6535, 'shirts': 5213, 'nudist': 4172, 'themed': 5840, '09061790121': 166, '09066612661': 193, 'eh74rr': 2193, '0870737910216yrs': 75, '07781482378': 26, 'praps': 4608, 'helloooo': 2925, 'welcomes': 6398, 'begging': 1117, 'jetton': 3293, 'reassurance': 4811, 'gent': 2682, '09064012160': 172, 'ûªve': 6659, 'instant': 3187, '08715203028': 105, '9th': 625, 'sday': 5101, 'deus': 1960, 'officially': 4217, 'philosophical': 4451, 'hole': 2983, 'nuerologist': 4173, 'ystrday': 6637, 'fans': 2398, '0870141701216': 66, 'norm': 4141, '4txt': 436, '120p': 229, 'rumour': 5012, 'child': 1534, 'teenager': 5771, 'dessert': 1953, 'suntec': 5653, 'airtel': 748, 'lyricalladie': 3662, '910': 608, 'hmmross': 2974, 'hype': 3073, 'plaza': 4508, '700': 506, 'studio': 5587, 'taken': 5723, 'bedrm': 1104, 'roomate': 4980, 'graduated': 2774, 'kickboxing': 3380, 'bar': 1047, 'satsgettin': 5064, '47per': 417, 'vid': 6240, 'finishd': 2476, 'sized': 5302, 'taught': 5745, 'becaus': 1096, 'hes': 2941, 'verifying': 6230, 'prabu': 4601, 'response': 4920, 'powerful': 4593, 'weapon': 6364, 'exposed': 2357, 'vomiting': 6278, 'clear': 1582, 'copies': 1726, '09058094565': 150, 'weirdo': 6394, 'symptoms': 5703, 'beloved': 1132, 'escalator': 2272, 'related': 4861, 'trade': 6002, 'arul': 913, 'host': 3019, 'based': 1057, 'idps': 3099, 'linux': 3542, 'systems': 5706, 'pours': 4590, 'bloomberg': 1210, 'center': 1468, '447797706009': 407, 'careers': 1423, '09065394514': 177, '545': 457, '2years': 346, 'strain': 5565, 'dime': 1995, 'gives': 2714, 'practical': 4602, 'grab': 2772, 'tagged': 5716, 'triple': 6030, 'echo': 2170, 'trash': 6014, 'maps': 3727, 'ofcourse': 4206, 'forgive': 2555, '08712103738': 85, 'affair': 711, 'pleassssssseeeeee': 4512, 'sportsx': 5480, 'saeed': 5028, 'football': 2544, 'sky': 5310, 'gamestar': 2650, 'active': 677, '250k': 306, 'scoring': 5088, 'register': 4856, '88088': 586, 'blastin': 1192, 'tsunamis': 6053, 'occur': 4200, 'rajnikant': 4761, 'ocean': 4201, 'asda': 918, 'counts': 1752, 'uncomfortable': 6113, 'sabarish': 5021, 'wesley': 6409, 'mag': 3686, 'avo': 990, '1225': 231, '50award': 444, '3100': 360, 'crap': 1771, 'boggy': 1221, 'biatch': 1156, 'someplace': 5393, 'wise': 6467, 'pears': 4413, '09061743386': 161, '116': 223, 'somerset': 5394, 'rdy': 4787, 'ship': 5209, 'loneliness': 3588, 'tirunelvali': 5920, 'swiss': 5695, 'directors': 2007, 'lac': 3424, 'crore': 1789, 'deposited': 1939, 'taxless': 5749, 'roads': 4965, 'suply': 5658, 'projects': 4672, 'citizen': 1564, 'imf': 3119, 'blocked': 1201, 'politicians': 4550, 'rights': 4955, 'corrupt': 1735, 'itna': 3241, 'karo': 3357, 'ki': 3378, 'pura': 4708, 'padhe': 4343, 'dramatic': 2095, 'schools': 5083, 'weåõve': 6415, 'mint': 3858, 'plumbers': 4520, 'wrench': 6534, 'wiskey': 6472, 'brandy': 1271, 'rum': 5009, 'gin': 2706, 'scotch': 5089, 'shampain': 5184, 'kudi': 3413, 'yarasu': 6587, 'dhina': 1967, 'vaazhthukkal': 6202, 'jam': 3265, 'bread': 1272, 'hannaford': 2860, 'wheat': 6420, 'chex': 1526, 'slippery': 5331, 'nus': 4178, 'edu': 2178, 'sg': 5173, 'phyhcmk': 4462, 'pc1323': 4409, 'hrishi': 3041, 'soryda': 5420, 'sory': 5419}\n"
          ]
        }
      ]
    },
    {
      "cell_type": "code",
      "source": [
        "vectorizer.get_feature_names_out()"
      ],
      "metadata": {
        "colab": {
          "base_uri": "https://localhost:8080/"
        },
        "id": "ZMrpWBAq93mi",
        "outputId": "fc39d7b6-ee1e-475e-b559-c57720d5b2e3"
      },
      "execution_count": null,
      "outputs": [
        {
          "output_type": "execute_result",
          "data": {
            "text/plain": [
              "array(['00', '000', '008704050406', ..., 'ûïharry', 'ûò', 'ûówell'],\n",
              "      dtype=object)"
            ]
          },
          "metadata": {},
          "execution_count": 117
        }
      ]
    },
    {
      "cell_type": "markdown",
      "source": [
        "**Converting sparse matrix X to numpy array**"
      ],
      "metadata": {
        "id": "ySEVEs7ybSUw"
      }
    },
    {
      "cell_type": "code",
      "source": [
        "X_train_vector = X_train_vector.toarray()\n",
        "X_cv_vector = X_cv_vector.toarray()\n",
        "X_test_vector = X_test_vector.toarray()"
      ],
      "metadata": {
        "id": "rUww230GHg4y"
      },
      "execution_count": null,
      "outputs": []
    },
    {
      "cell_type": "markdown",
      "source": [
        "### Multinomial Naive Bayes"
      ],
      "metadata": {
        "id": "OIC_-8z6RuCW"
      }
    },
    {
      "cell_type": "markdown",
      "source": [
        "**Tuning the hyperparameter alpha**"
      ],
      "metadata": {
        "id": "9AT0DuEsbcAV"
      }
    },
    {
      "cell_type": "code",
      "source": [
        "alpha_list = [0.00001, 0.0001, 0.001, 0.1, 1]"
      ],
      "metadata": {
        "id": "UikFCBvVP2tf"
      },
      "execution_count": null,
      "outputs": []
    },
    {
      "cell_type": "code",
      "source": [
        "train_acc = []\n",
        "cv_acc = []\n",
        "for alpha in alpha_list:\n",
        "  mnb = MultinomialNB(alpha = alpha)\n",
        "  mnb.fit(X_train_vector, y_train)\n",
        "\n",
        "  y_train_pred = mnb.predict(X_train_vector)\n",
        "  y_cv_pred = mnb.predict(X_cv_vector)\n",
        "\n",
        "  train_acc.append(accuracy_score(y_train, y_train_pred))\n",
        "  cv_acc.append(accuracy_score(y_cv, y_cv_pred))\n",
        "\n",
        "plt.plot(alpha_list, train_acc, label = 'train')\n",
        "plt.plot(alpha_list, cv_acc, label = 'cv')\n",
        "plt.xscale('log')\n",
        "plt.legend()\n",
        "plt.show()"
      ],
      "metadata": {
        "colab": {
          "base_uri": "https://localhost:8080/",
          "height": 434
        },
        "id": "dUGMnF_1QC63",
        "outputId": "6c62c421-7176-4bbe-e2d0-8d20e2ebd594"
      },
      "execution_count": null,
      "outputs": [
        {
          "output_type": "display_data",
          "data": {
            "text/plain": [
              "<Figure size 640x480 with 1 Axes>"
            ],
            "image/png": "[encoded data removed]"
          },
          "metadata": {}
        }
      ]
    },
    {
      "cell_type": "markdown",
      "source": [
        "**We see that at `alpha = 0.1`, weare getting high train and cross validaion accuracy**"
      ],
      "metadata": {
        "id": "n6K3pT9Ebj9Q"
      }
    },
    {
      "cell_type": "markdown",
      "source": [
        "**Fitting the model**"
      ],
      "metadata": {
        "id": "V9FobLUCbyCG"
      }
    },
    {
      "cell_type": "code",
      "source": [
        "mnb = MultinomialNB(alpha = 0.1)\n",
        "mnb.fit(X_train_vector, y_train)"
      ],
      "metadata": {
        "colab": {
          "base_uri": "https://localhost:8080/",
          "height": 74
        },
        "id": "TskU_RbLNLih",
        "outputId": "be65fb04-a3fa-4ee3-f70c-92ff067f481f"
      },
      "execution_count": null,
      "outputs": [
        {
          "output_type": "execute_result",
          "data": {
            "text/plain": [
              "MultinomialNB(alpha=0.1)"
            ],
            "text/html": [
              "<style>#sk-container-id-4 {color: black;background-color: white;}#sk-container-id-4 pre{padding: 0;}#sk-container-id-4 div.sk-toggleable {background-color: white;}#sk-container-id-4 label.sk-toggleable__label {cursor: pointer;display: block;width: 100%;margin-bottom: 0;padding: 0.3em;box-sizing: border-box;text-align: center;}#sk-container-id-4 label.sk-toggleable__label-arrow:before {content: \"▸\";float: left;margin-right: 0.25em;color: #696969;}#sk-container-id-4 label.sk-toggleable__label-arrow:hover:before {color: black;}#sk-container-id-4 div.sk-estimator:hover label.sk-toggleable__label-arrow:before {color: black;}#sk-container-id-4 div.sk-toggleable__content {max-height: 0;max-width: 0;overflow: hidden;text-align: left;background-color: #f0f8ff;}#sk-container-id-4 div.sk-toggleable__content pre {margin: 0.2em;color: black;border-radius: 0.25em;background-color: #f0f8ff;}#sk-container-id-4 input.sk-toggleable__control:checked~div.sk-toggleable__content {max-height: 200px;max-width: 100%;overflow: auto;}#sk-container-id-4 input.sk-toggleable__control:checked~label.sk-toggleable__label-arrow:before {content: \"▾\";}#sk-container-id-4 div.sk-estimator input.sk-toggleable__control:checked~label.sk-toggleable__label {background-color: #d4ebff;}#sk-container-id-4 div.sk-label input.sk-toggleable__control:checked~label.sk-toggleable__label {background-color: #d4ebff;}#sk-container-id-4 input.sk-hidden--visually {border: 0;clip: rect(1px 1px 1px 1px);clip: rect(1px, 1px, 1px, 1px);height: 1px;margin: -1px;overflow: hidden;padding: 0;position: absolute;width: 1px;}#sk-container-id-4 div.sk-estimator {font-family: monospace;background-color: #f0f8ff;border: 1px dotted black;border-radius: 0.25em;box-sizing: border-box;margin-bottom: 0.5em;}#sk-container-id-4 div.sk-estimator:hover {background-color: #d4ebff;}#sk-container-id-4 div.sk-parallel-item::after {content: \"\";width: 100%;border-bottom: 1px solid gray;flex-grow: 1;}#sk-container-id-4 div.sk-label:hover label.sk-toggleable__label {background-color: #d4ebff;}#sk-container-id-4 div.sk-serial::before {content: \"\";position: absolute;border-left: 1px solid gray;box-sizing: border-box;top: 0;bottom: 0;left: 50%;z-index: 0;}#sk-container-id-4 div.sk-serial {display: flex;flex-direction: column;align-items: center;background-color: white;padding-right: 0.2em;padding-left: 0.2em;position: relative;}#sk-container-id-4 div.sk-item {position: relative;z-index: 1;}#sk-container-id-4 div.sk-parallel {display: flex;align-items: stretch;justify-content: center;background-color: white;position: relative;}#sk-container-id-4 div.sk-item::before, #sk-container-id-4 div.sk-parallel-item::before {content: \"\";position: absolute;border-left: 1px solid gray;box-sizing: border-box;top: 0;bottom: 0;left: 50%;z-index: -1;}#sk-container-id-4 div.sk-parallel-item {display: flex;flex-direction: column;z-index: 1;position: relative;background-color: white;}#sk-container-id-4 div.sk-parallel-item:first-child::after {align-self: flex-end;width: 50%;}#sk-container-id-4 div.sk-parallel-item:last-child::after {align-self: flex-start;width: 50%;}#sk-container-id-4 div.sk-parallel-item:only-child::after {width: 0;}#sk-container-id-4 div.sk-dashed-wrapped {border: 1px dashed gray;margin: 0 0.4em 0.5em 0.4em;box-sizing: border-box;padding-bottom: 0.4em;background-color: white;}#sk-container-id-4 div.sk-label label {font-family: monospace;font-weight: bold;display: inline-block;line-height: 1.2em;}#sk-container-id-4 div.sk-label-container {text-align: center;}#sk-container-id-4 div.sk-container {/* jupyter's `normalize.less` sets `[hidden] { display: none; }` but bootstrap.min.css set `[hidden] { display: none !important; }` so we also need the `!important` here to be able to override the default hidden behavior on the sphinx rendered scikit-learn.org. See: https://github.com/scikit-learn/scikit-learn/issues/21755 */display: inline-block !important;position: relative;}#sk-container-id-4 div.sk-text-repr-fallback {display: none;}</style><div id=\"sk-container-id-4\" class=\"sk-top-container\"><div class=\"sk-text-repr-fallback\"><pre>MultinomialNB(alpha=0.1)</pre><b>In a Jupyter environment, please rerun this cell to show the HTML representation or trust the notebook. <br />On GitHub, the HTML representation is unable to render, please try loading this page with nbviewer.org.</b></div><div class=\"sk-container\" hidden><div class=\"sk-item\"><div class=\"sk-estimator sk-toggleable\"><input class=\"sk-toggleable__control sk-hidden--visually\" id=\"sk-estimator-id-4\" type=\"checkbox\" checked><label for=\"sk-estimator-id-4\" class=\"sk-toggleable__label sk-toggleable__label-arrow\">MultinomialNB</label><div class=\"sk-toggleable__content\"><pre>MultinomialNB(alpha=0.1)</pre></div></div></div></div></div>"
            ]
          },
          "metadata": {},
          "execution_count": 141
        }
      ]
    },
    {
      "cell_type": "code",
      "source": [
        "y_test_pred = mn_nb.predict(X_test_vector)\n",
        "accuracy_score(y_test, y_test_pred)"
      ],
      "metadata": {
        "colab": {
          "base_uri": "https://localhost:8080/"
        },
        "id": "6ouRZOerNqLn",
        "outputId": "343c9080-4852-47f8-ce20-da428f3e1973"
      },
      "execution_count": null,
      "outputs": [
        {
          "output_type": "execute_result",
          "data": {
            "text/plain": [
              "0.9596412556053812"
            ]
          },
          "metadata": {},
          "execution_count": 142
        }
      ]
    },
    {
      "cell_type": "markdown",
      "source": [
        "**We get an accuracy of 95.9% with multinomial naive bayes**"
      ],
      "metadata": {
        "id": "NMd939MYb8RA"
      }
    },
    {
      "cell_type": "markdown",
      "source": [
        "### Logistic Regression"
      ],
      "metadata": {
        "id": "kNney5fgR0fT"
      }
    },
    {
      "cell_type": "code",
      "source": [
        "X_train_vector_lr = np.concatenate((X_train_vector, X_cv_vector))\n",
        "y_train_lr = np.concatenate((y_train, y_cv))\n",
        "X_train_vector_lr.shape, y_train_lr.shape"
      ],
      "metadata": {
        "colab": {
          "base_uri": "https://localhost:8080/"
        },
        "id": "GSh417Oy088v",
        "outputId": "02ad1b1a-066b-416a-9318-92e1c89b1261"
      },
      "execution_count": null,
      "outputs": [
        {
          "output_type": "execute_result",
          "data": {
            "text/plain": [
              "((4457, 6663), (4457,))"
            ]
          },
          "metadata": {},
          "execution_count": 198
        }
      ]
    },
    {
      "cell_type": "markdown",
      "source": [
        "**Implementing a Grid search for hyperparameters C and penalty**"
      ],
      "metadata": {
        "id": "LrlAl-R0cK24"
      }
    },
    {
      "cell_type": "code",
      "source": [
        "parameters = {'C': [0.001, 0.01, 0.1, 1, 10, 100, 1000], 'penalty': ['l1', 'l2', 'elasticnet']}"
      ],
      "metadata": {
        "id": "G6XwZgJ3Vaxf"
      },
      "execution_count": null,
      "outputs": []
    },
    {
      "cell_type": "code",
      "source": [
        "search = GridSearchCV(LogisticRegression(random_state = seed), parameters,  n_jobs = -1)\n",
        "search.fit(X_train_vector_lr, y_train_lr)\n",
        "print(search.best_params_)"
      ],
      "metadata": {
        "colab": {
          "base_uri": "https://localhost:8080/"
        },
        "id": "4PyrV9iUWA6n",
        "outputId": "51a40c3d-8885-4155-8c83-adac28eb3dd3"
      },
      "execution_count": null,
      "outputs": [
        {
          "output_type": "stream",
          "name": "stderr",
          "text": [
            "/usr/local/lib/python3.10/dist-packages/sklearn/model_selection/_validation.py:378: FitFailedWarning: \n",
            "70 fits failed out of a total of 105.\n",
            "The score on these train-test partitions for these parameters will be set to nan.\n",
            "If these failures are not expected, you can try to debug them by setting error_score='raise'.\n",
            "\n",
            "Below are more details about the failures:\n",
            "--------------------------------------------------------------------------------\n",
            "35 fits failed with the following error:\n",
            "Traceback (most recent call last):\n",
            "  File \"/usr/local/lib/python3.10/dist-packages/sklearn/model_selection/_validation.py\", line 686, in _fit_and_score\n",
            "    estimator.fit(X_train, y_train, **fit_params)\n",
            "  File \"/usr/local/lib/python3.10/dist-packages/sklearn/linear_model/_logistic.py\", line 1162, in fit\n",
            "    solver = _check_solver(self.solver, self.penalty, self.dual)\n",
            "  File \"/usr/local/lib/python3.10/dist-packages/sklearn/linear_model/_logistic.py\", line 54, in _check_solver\n",
            "    raise ValueError(\n",
            "ValueError: Solver lbfgs supports only 'l2' or 'none' penalties, got l1 penalty.\n",
            "\n",
            "--------------------------------------------------------------------------------\n",
            "35 fits failed with the following error:\n",
            "Traceback (most recent call last):\n",
            "  File \"/usr/local/lib/python3.10/dist-packages/sklearn/model_selection/_validation.py\", line 686, in _fit_and_score\n",
            "    estimator.fit(X_train, y_train, **fit_params)\n",
            "  File \"/usr/local/lib/python3.10/dist-packages/sklearn/linear_model/_logistic.py\", line 1162, in fit\n",
            "    solver = _check_solver(self.solver, self.penalty, self.dual)\n",
            "  File \"/usr/local/lib/python3.10/dist-packages/sklearn/linear_model/_logistic.py\", line 54, in _check_solver\n",
            "    raise ValueError(\n",
            "ValueError: Solver lbfgs supports only 'l2' or 'none' penalties, got elasticnet penalty.\n",
            "\n",
            "  warnings.warn(some_fits_failed_message, FitFailedWarning)\n",
            "/usr/local/lib/python3.10/dist-packages/sklearn/model_selection/_search.py:952: UserWarning: One or more of the test scores are non-finite: [       nan 0.86381           nan        nan 0.86381           nan\n",
            "        nan 0.86403421        nan        nan 0.95669701        nan\n",
            "        nan 0.97621683        nan        nan 0.98025522        nan\n",
            "        nan 0.98160152        nan]\n",
            "  warnings.warn(\n"
          ]
        },
        {
          "output_type": "stream",
          "name": "stdout",
          "text": [
            "{'C': 1000, 'penalty': 'l2'}\n"
          ]
        },
        {
          "output_type": "stream",
          "name": "stderr",
          "text": [
            "/usr/local/lib/python3.10/dist-packages/sklearn/linear_model/_logistic.py:458: ConvergenceWarning: lbfgs failed to converge (status=1):\n",
            "STOP: TOTAL NO. of ITERATIONS REACHED LIMIT.\n",
            "\n",
            "Increase the number of iterations (max_iter) or scale the data as shown in:\n",
            "    https://scikit-learn.org/stable/modules/preprocessing.html\n",
            "Please also refer to the documentation for alternative solver options:\n",
            "    https://scikit-learn.org/stable/modules/linear_model.html#logistic-regression\n",
            "  n_iter_i = _check_optimize_result(\n"
          ]
        }
      ]
    },
    {
      "cell_type": "code",
      "source": [
        "search.best_params_"
      ],
      "metadata": {
        "colab": {
          "base_uri": "https://localhost:8080/"
        },
        "id": "6JEe7ign3EFu",
        "outputId": "580377af-1773-482f-b960-fd5ef8add32f"
      },
      "execution_count": null,
      "outputs": [
        {
          "output_type": "execute_result",
          "data": {
            "text/plain": [
              "{'C': 1000, 'penalty': 'l2'}"
            ]
          },
          "metadata": {},
          "execution_count": 201
        }
      ]
    },
    {
      "cell_type": "markdown",
      "source": [
        "**Fitting the model with best parameters: `C = 1000` and `penalty = 'l2'`**"
      ],
      "metadata": {
        "id": "1de1YF1GcXTX"
      }
    },
    {
      "cell_type": "code",
      "source": [
        "logr = LogisticRegression(max_iter = 500, C = 1000, penalty = 'l2', random_state = seed)\n",
        "logr.fit(X_train_vector_lr, y_train_lr)"
      ],
      "metadata": {
        "colab": {
          "base_uri": "https://localhost:8080/",
          "height": 74
        },
        "id": "Gva0PaCQR3fy",
        "outputId": "878a90f9-5f1a-4323-d3f4-e8e0014ff57b"
      },
      "execution_count": null,
      "outputs": [
        {
          "output_type": "execute_result",
          "data": {
            "text/plain": [
              "LogisticRegression(C=1000, max_iter=500, random_state=42)"
            ],
            "text/html": [
              "<style>#sk-container-id-15 {color: black;background-color: white;}#sk-container-id-15 pre{padding: 0;}#sk-container-id-15 div.sk-toggleable {background-color: white;}#sk-container-id-15 label.sk-toggleable__label {cursor: pointer;display: block;width: 100%;margin-bottom: 0;padding: 0.3em;box-sizing: border-box;text-align: center;}#sk-container-id-15 label.sk-toggleable__label-arrow:before {content: \"▸\";float: left;margin-right: 0.25em;color: #696969;}#sk-container-id-15 label.sk-toggleable__label-arrow:hover:before {color: black;}#sk-container-id-15 div.sk-estimator:hover label.sk-toggleable__label-arrow:before {color: black;}#sk-container-id-15 div.sk-toggleable__content {max-height: 0;max-width: 0;overflow: hidden;text-align: left;background-color: #f0f8ff;}#sk-container-id-15 div.sk-toggleable__content pre {margin: 0.2em;color: black;border-radius: 0.25em;background-color: #f0f8ff;}#sk-container-id-15 input.sk-toggleable__control:checked~div.sk-toggleable__content {max-height: 200px;max-width: 100%;overflow: auto;}#sk-container-id-15 input.sk-toggleable__control:checked~label.sk-toggleable__label-arrow:before {content: \"▾\";}#sk-container-id-15 div.sk-estimator input.sk-toggleable__control:checked~label.sk-toggleable__label {background-color: #d4ebff;}#sk-container-id-15 div.sk-label input.sk-toggleable__control:checked~label.sk-toggleable__label {background-color: #d4ebff;}#sk-container-id-15 input.sk-hidden--visually {border: 0;clip: rect(1px 1px 1px 1px);clip: rect(1px, 1px, 1px, 1px);height: 1px;margin: -1px;overflow: hidden;padding: 0;position: absolute;width: 1px;}#sk-container-id-15 div.sk-estimator {font-family: monospace;background-color: #f0f8ff;border: 1px dotted black;border-radius: 0.25em;box-sizing: border-box;margin-bottom: 0.5em;}#sk-container-id-15 div.sk-estimator:hover {background-color: #d4ebff;}#sk-container-id-15 div.sk-parallel-item::after {content: \"\";width: 100%;border-bottom: 1px solid gray;flex-grow: 1;}#sk-container-id-15 div.sk-label:hover label.sk-toggleable__label {background-color: #d4ebff;}#sk-container-id-15 div.sk-serial::before {content: \"\";position: absolute;border-left: 1px solid gray;box-sizing: border-box;top: 0;bottom: 0;left: 50%;z-index: 0;}#sk-container-id-15 div.sk-serial {display: flex;flex-direction: column;align-items: center;background-color: white;padding-right: 0.2em;padding-left: 0.2em;position: relative;}#sk-container-id-15 div.sk-item {position: relative;z-index: 1;}#sk-container-id-15 div.sk-parallel {display: flex;align-items: stretch;justify-content: center;background-color: white;position: relative;}#sk-container-id-15 div.sk-item::before, #sk-container-id-15 div.sk-parallel-item::before {content: \"\";position: absolute;border-left: 1px solid gray;box-sizing: border-box;top: 0;bottom: 0;left: 50%;z-index: -1;}#sk-container-id-15 div.sk-parallel-item {display: flex;flex-direction: column;z-index: 1;position: relative;background-color: white;}#sk-container-id-15 div.sk-parallel-item:first-child::after {align-self: flex-end;width: 50%;}#sk-container-id-15 div.sk-parallel-item:last-child::after {align-self: flex-start;width: 50%;}#sk-container-id-15 div.sk-parallel-item:only-child::after {width: 0;}#sk-container-id-15 div.sk-dashed-wrapped {border: 1px dashed gray;margin: 0 0.4em 0.5em 0.4em;box-sizing: border-box;padding-bottom: 0.4em;background-color: white;}#sk-container-id-15 div.sk-label label {font-family: monospace;font-weight: bold;display: inline-block;line-height: 1.2em;}#sk-container-id-15 div.sk-label-container {text-align: center;}#sk-container-id-15 div.sk-container {/* jupyter's `normalize.less` sets `[hidden] { display: none; }` but bootstrap.min.css set `[hidden] { display: none !important; }` so we also need the `!important` here to be able to override the default hidden behavior on the sphinx rendered scikit-learn.org. See: https://github.com/scikit-learn/scikit-learn/issues/21755 */display: inline-block !important;position: relative;}#sk-container-id-15 div.sk-text-repr-fallback {display: none;}</style><div id=\"sk-container-id-15\" class=\"sk-top-container\"><div class=\"sk-text-repr-fallback\"><pre>LogisticRegression(C=1000, max_iter=500, random_state=42)</pre><b>In a Jupyter environment, please rerun this cell to show the HTML representation or trust the notebook. <br />On GitHub, the HTML representation is unable to render, please try loading this page with nbviewer.org.</b></div><div class=\"sk-container\" hidden><div class=\"sk-item\"><div class=\"sk-estimator sk-toggleable\"><input class=\"sk-toggleable__control sk-hidden--visually\" id=\"sk-estimator-id-17\" type=\"checkbox\" checked><label for=\"sk-estimator-id-17\" class=\"sk-toggleable__label sk-toggleable__label-arrow\">LogisticRegression</label><div class=\"sk-toggleable__content\"><pre>LogisticRegression(C=1000, max_iter=500, random_state=42)</pre></div></div></div></div></div>"
            ]
          },
          "metadata": {},
          "execution_count": 207
        }
      ]
    },
    {
      "cell_type": "code",
      "source": [
        "y_test_pred = logr.predict(X_test_vector)\n",
        "accuracy_score(y_test, y_test_pred)"
      ],
      "metadata": {
        "colab": {
          "base_uri": "https://localhost:8080/"
        },
        "id": "igvR-cc4SCug",
        "outputId": "ac39a380-d56e-466c-c187-df524735b580"
      },
      "execution_count": null,
      "outputs": [
        {
          "output_type": "execute_result",
          "data": {
            "text/plain": [
              "0.9856502242152466"
            ]
          },
          "metadata": {},
          "execution_count": 208
        }
      ]
    },
    {
      "cell_type": "markdown",
      "source": [
        "**We get an accuracy of 98.5% with Logistic Regression**"
      ],
      "metadata": {
        "id": "XjQKQge8cju7"
      }
    },
    {
      "cell_type": "markdown",
      "source": [
        "### Support Vector Machine"
      ],
      "metadata": {
        "id": "fImiPbsRTrX3"
      }
    },
    {
      "cell_type": "markdown",
      "source": [
        "**Tuning the hyperparameter C**"
      ],
      "metadata": {
        "id": "7tBqEU9ucs5l"
      }
    },
    {
      "cell_type": "code",
      "source": [
        "C_list = [0.1, 1, 10, 100, 1000]"
      ],
      "metadata": {
        "id": "zHnsAaP-Zj23"
      },
      "execution_count": null,
      "outputs": []
    },
    {
      "cell_type": "code",
      "source": [
        "train_acc = []\n",
        "cv_acc = []\n",
        "for C in C_list:\n",
        "  svc = SVC(C = C, random_state=seed)\n",
        "  svc.fit(X_train_vector, y_train)\n",
        "  train_acc.append(svc.score(X_train_vector, y_train))\n",
        "  cv_acc.append(svc.score(X_cv_vector, y_cv))\n",
        "\n",
        "plt.plot(C_list, train_acc, label = 'train')\n",
        "plt.plot(C_list, cv_acc, label = 'cv')\n",
        "plt.xscale('log')\n",
        "plt.legend()\n",
        "plt.show()"
      ],
      "metadata": {
        "colab": {
          "base_uri": "https://localhost:8080/",
          "height": 434
        },
        "id": "3fraw5WZZ_va",
        "outputId": "d596c335-b55a-439f-ceaf-4583526dcac2"
      },
      "execution_count": null,
      "outputs": [
        {
          "output_type": "display_data",
          "data": {
            "text/plain": [
              "<Figure size 640x480 with 1 Axes>"
            ],
            "image/png": "[encoded data removed]"
          },
          "metadata": {}
        }
      ]
    },
    {
      "cell_type": "markdown",
      "source": [
        "**We observe that at `C = 1` we get high train as well as validation accuracy**"
      ],
      "metadata": {
        "id": "HthsqwzkcypG"
      }
    },
    {
      "cell_type": "markdown",
      "source": [
        "**Implementing a Grid search for gamma and kernel**"
      ],
      "metadata": {
        "id": "IB2VIdhqdBdk"
      }
    },
    {
      "cell_type": "code",
      "source": [
        "parameters = {'gamma' : [1, 0.1, 0.01, 0.001, 0.0001], 'kernel' : ['rbf', 'poly', 'sigmoid', 'linear']}"
      ],
      "metadata": {
        "id": "7lGvKRyGZOnM"
      },
      "execution_count": null,
      "outputs": []
    },
    {
      "cell_type": "code",
      "source": [
        "search = GridSearchCV(SVC(random_state = seed, C = 1), parameters, n_jobs = -1)\n",
        "search.fit(X_train_vector, y_train)"
      ],
      "metadata": {
        "colab": {
          "base_uri": "https://localhost:8080/",
          "height": 117
        },
        "id": "NsFtIeNZaUsv",
        "outputId": "88c6c14b-12c4-4119-adf2-7c93111e1135"
      },
      "execution_count": null,
      "outputs": [
        {
          "output_type": "execute_result",
          "data": {
            "text/plain": [
              "GridSearchCV(estimator=SVC(C=1, random_state=42), n_jobs=-1,\n",
              "             param_grid={'gamma': [1, 0.1, 0.01, 0.001, 0.0001],\n",
              "                         'kernel': ['rbf', 'poly', 'sigmoid', 'linear']})"
            ],
            "text/html": [
              "<style>#sk-container-id-11 {color: black;background-color: white;}#sk-container-id-11 pre{padding: 0;}#sk-container-id-11 div.sk-toggleable {background-color: white;}#sk-container-id-11 label.sk-toggleable__label {cursor: pointer;display: block;width: 100%;margin-bottom: 0;padding: 0.3em;box-sizing: border-box;text-align: center;}#sk-container-id-11 label.sk-toggleable__label-arrow:before {content: \"▸\";float: left;margin-right: 0.25em;color: #696969;}#sk-container-id-11 label.sk-toggleable__label-arrow:hover:before {color: black;}#sk-container-id-11 div.sk-estimator:hover label.sk-toggleable__label-arrow:before {color: black;}#sk-container-id-11 div.sk-toggleable__content {max-height: 0;max-width: 0;overflow: hidden;text-align: left;background-color: #f0f8ff;}#sk-container-id-11 div.sk-toggleable__content pre {margin: 0.2em;color: black;border-radius: 0.25em;background-color: #f0f8ff;}#sk-container-id-11 input.sk-toggleable__control:checked~div.sk-toggleable__content {max-height: 200px;max-width: 100%;overflow: auto;}#sk-container-id-11 input.sk-toggleable__control:checked~label.sk-toggleable__label-arrow:before {content: \"▾\";}#sk-container-id-11 div.sk-estimator input.sk-toggleable__control:checked~label.sk-toggleable__label {background-color: #d4ebff;}#sk-container-id-11 div.sk-label input.sk-toggleable__control:checked~label.sk-toggleable__label {background-color: #d4ebff;}#sk-container-id-11 input.sk-hidden--visually {border: 0;clip: rect(1px 1px 1px 1px);clip: rect(1px, 1px, 1px, 1px);height: 1px;margin: -1px;overflow: hidden;padding: 0;position: absolute;width: 1px;}#sk-container-id-11 div.sk-estimator {font-family: monospace;background-color: #f0f8ff;border: 1px dotted black;border-radius: 0.25em;box-sizing: border-box;margin-bottom: 0.5em;}#sk-container-id-11 div.sk-estimator:hover {background-color: #d4ebff;}#sk-container-id-11 div.sk-parallel-item::after {content: \"\";width: 100%;border-bottom: 1px solid gray;flex-grow: 1;}#sk-container-id-11 div.sk-label:hover label.sk-toggleable__label {background-color: #d4ebff;}#sk-container-id-11 div.sk-serial::before {content: \"\";position: absolute;border-left: 1px solid gray;box-sizing: border-box;top: 0;bottom: 0;left: 50%;z-index: 0;}#sk-container-id-11 div.sk-serial {display: flex;flex-direction: column;align-items: center;background-color: white;padding-right: 0.2em;padding-left: 0.2em;position: relative;}#sk-container-id-11 div.sk-item {position: relative;z-index: 1;}#sk-container-id-11 div.sk-parallel {display: flex;align-items: stretch;justify-content: center;background-color: white;position: relative;}#sk-container-id-11 div.sk-item::before, #sk-container-id-11 div.sk-parallel-item::before {content: \"\";position: absolute;border-left: 1px solid gray;box-sizing: border-box;top: 0;bottom: 0;left: 50%;z-index: -1;}#sk-container-id-11 div.sk-parallel-item {display: flex;flex-direction: column;z-index: 1;position: relative;background-color: white;}#sk-container-id-11 div.sk-parallel-item:first-child::after {align-self: flex-end;width: 50%;}#sk-container-id-11 div.sk-parallel-item:last-child::after {align-self: flex-start;width: 50%;}#sk-container-id-11 div.sk-parallel-item:only-child::after {width: 0;}#sk-container-id-11 div.sk-dashed-wrapped {border: 1px dashed gray;margin: 0 0.4em 0.5em 0.4em;box-sizing: border-box;padding-bottom: 0.4em;background-color: white;}#sk-container-id-11 div.sk-label label {font-family: monospace;font-weight: bold;display: inline-block;line-height: 1.2em;}#sk-container-id-11 div.sk-label-container {text-align: center;}#sk-container-id-11 div.sk-container {/* jupyter's `normalize.less` sets `[hidden] { display: none; }` but bootstrap.min.css set `[hidden] { display: none !important; }` so we also need the `!important` here to be able to override the default hidden behavior on the sphinx rendered scikit-learn.org. See: https://github.com/scikit-learn/scikit-learn/issues/21755 */display: inline-block !important;position: relative;}#sk-container-id-11 div.sk-text-repr-fallback {display: none;}</style><div id=\"sk-container-id-11\" class=\"sk-top-container\"><div class=\"sk-text-repr-fallback\"><pre>GridSearchCV(estimator=SVC(C=1, random_state=42), n_jobs=-1,\n",
              "             param_grid={&#x27;gamma&#x27;: [1, 0.1, 0.01, 0.001, 0.0001],\n",
              "                         &#x27;kernel&#x27;: [&#x27;rbf&#x27;, &#x27;poly&#x27;, &#x27;sigmoid&#x27;, &#x27;linear&#x27;]})</pre><b>In a Jupyter environment, please rerun this cell to show the HTML representation or trust the notebook. <br />On GitHub, the HTML representation is unable to render, please try loading this page with nbviewer.org.</b></div><div class=\"sk-container\" hidden><div class=\"sk-item sk-dashed-wrapped\"><div class=\"sk-label-container\"><div class=\"sk-label sk-toggleable\"><input class=\"sk-toggleable__control sk-hidden--visually\" id=\"sk-estimator-id-11\" type=\"checkbox\" ><label for=\"sk-estimator-id-11\" class=\"sk-toggleable__label sk-toggleable__label-arrow\">GridSearchCV</label><div class=\"sk-toggleable__content\"><pre>GridSearchCV(estimator=SVC(C=1, random_state=42), n_jobs=-1,\n",
              "             param_grid={&#x27;gamma&#x27;: [1, 0.1, 0.01, 0.001, 0.0001],\n",
              "                         &#x27;kernel&#x27;: [&#x27;rbf&#x27;, &#x27;poly&#x27;, &#x27;sigmoid&#x27;, &#x27;linear&#x27;]})</pre></div></div></div><div class=\"sk-parallel\"><div class=\"sk-parallel-item\"><div class=\"sk-item\"><div class=\"sk-label-container\"><div class=\"sk-label sk-toggleable\"><input class=\"sk-toggleable__control sk-hidden--visually\" id=\"sk-estimator-id-12\" type=\"checkbox\" ><label for=\"sk-estimator-id-12\" class=\"sk-toggleable__label sk-toggleable__label-arrow\">estimator: SVC</label><div class=\"sk-toggleable__content\"><pre>SVC(C=1, random_state=42)</pre></div></div></div><div class=\"sk-serial\"><div class=\"sk-item\"><div class=\"sk-estimator sk-toggleable\"><input class=\"sk-toggleable__control sk-hidden--visually\" id=\"sk-estimator-id-13\" type=\"checkbox\" ><label for=\"sk-estimator-id-13\" class=\"sk-toggleable__label sk-toggleable__label-arrow\">SVC</label><div class=\"sk-toggleable__content\"><pre>SVC(C=1, random_state=42)</pre></div></div></div></div></div></div></div></div></div></div>"
            ]
          },
          "metadata": {},
          "execution_count": 176
        }
      ]
    },
    {
      "cell_type": "code",
      "source": [
        "print(search.best_params_)"
      ],
      "metadata": {
        "colab": {
          "base_uri": "https://localhost:8080/"
        },
        "id": "x1_0wjIrmZo0",
        "outputId": "372cb6cb-d4f8-4ce4-8396-23c2fac5f5b5"
      },
      "execution_count": null,
      "outputs": [
        {
          "output_type": "stream",
          "name": "stdout",
          "text": [
            "{'gamma': 1, 'kernel': 'sigmoid'}\n"
          ]
        }
      ]
    },
    {
      "cell_type": "markdown",
      "source": [
        "**Fitting the model with best parameters: `C = 1`, `gamma = 1` and `kernel = 'sigmoid'`**"
      ],
      "metadata": {
        "id": "cIfzod1AdLEt"
      }
    },
    {
      "cell_type": "code",
      "source": [
        "svc = SVC(C = 1, gamma = 1, kernel = 'sigmoid', random_state = seed)\n",
        "svc.fit(X_train_vector, y_train)"
      ],
      "metadata": {
        "colab": {
          "base_uri": "https://localhost:8080/",
          "height": 74
        },
        "id": "5OansadlTt2j",
        "outputId": "dce4c8b5-1c54-4bff-b1cd-9188616309e1"
      },
      "execution_count": null,
      "outputs": [
        {
          "output_type": "execute_result",
          "data": {
            "text/plain": [
              "SVC(C=1, gamma=1, kernel='sigmoid', random_state=42)"
            ],
            "text/html": [
              "<style>#sk-container-id-12 {color: black;background-color: white;}#sk-container-id-12 pre{padding: 0;}#sk-container-id-12 div.sk-toggleable {background-color: white;}#sk-container-id-12 label.sk-toggleable__label {cursor: pointer;display: block;width: 100%;margin-bottom: 0;padding: 0.3em;box-sizing: border-box;text-align: center;}#sk-container-id-12 label.sk-toggleable__label-arrow:before {content: \"▸\";float: left;margin-right: 0.25em;color: #696969;}#sk-container-id-12 label.sk-toggleable__label-arrow:hover:before {color: black;}#sk-container-id-12 div.sk-estimator:hover label.sk-toggleable__label-arrow:before {color: black;}#sk-container-id-12 div.sk-toggleable__content {max-height: 0;max-width: 0;overflow: hidden;text-align: left;background-color: #f0f8ff;}#sk-container-id-12 div.sk-toggleable__content pre {margin: 0.2em;color: black;border-radius: 0.25em;background-color: #f0f8ff;}#sk-container-id-12 input.sk-toggleable__control:checked~div.sk-toggleable__content {max-height: 200px;max-width: 100%;overflow: auto;}#sk-container-id-12 input.sk-toggleable__control:checked~label.sk-toggleable__label-arrow:before {content: \"▾\";}#sk-container-id-12 div.sk-estimator input.sk-toggleable__control:checked~label.sk-toggleable__label {background-color: #d4ebff;}#sk-container-id-12 div.sk-label input.sk-toggleable__control:checked~label.sk-toggleable__label {background-color: #d4ebff;}#sk-container-id-12 input.sk-hidden--visually {border: 0;clip: rect(1px 1px 1px 1px);clip: rect(1px, 1px, 1px, 1px);height: 1px;margin: -1px;overflow: hidden;padding: 0;position: absolute;width: 1px;}#sk-container-id-12 div.sk-estimator {font-family: monospace;background-color: #f0f8ff;border: 1px dotted black;border-radius: 0.25em;box-sizing: border-box;margin-bottom: 0.5em;}#sk-container-id-12 div.sk-estimator:hover {background-color: #d4ebff;}#sk-container-id-12 div.sk-parallel-item::after {content: \"\";width: 100%;border-bottom: 1px solid gray;flex-grow: 1;}#sk-container-id-12 div.sk-label:hover label.sk-toggleable__label {background-color: #d4ebff;}#sk-container-id-12 div.sk-serial::before {content: \"\";position: absolute;border-left: 1px solid gray;box-sizing: border-box;top: 0;bottom: 0;left: 50%;z-index: 0;}#sk-container-id-12 div.sk-serial {display: flex;flex-direction: column;align-items: center;background-color: white;padding-right: 0.2em;padding-left: 0.2em;position: relative;}#sk-container-id-12 div.sk-item {position: relative;z-index: 1;}#sk-container-id-12 div.sk-parallel {display: flex;align-items: stretch;justify-content: center;background-color: white;position: relative;}#sk-container-id-12 div.sk-item::before, #sk-container-id-12 div.sk-parallel-item::before {content: \"\";position: absolute;border-left: 1px solid gray;box-sizing: border-box;top: 0;bottom: 0;left: 50%;z-index: -1;}#sk-container-id-12 div.sk-parallel-item {display: flex;flex-direction: column;z-index: 1;position: relative;background-color: white;}#sk-container-id-12 div.sk-parallel-item:first-child::after {align-self: flex-end;width: 50%;}#sk-container-id-12 div.sk-parallel-item:last-child::after {align-self: flex-start;width: 50%;}#sk-container-id-12 div.sk-parallel-item:only-child::after {width: 0;}#sk-container-id-12 div.sk-dashed-wrapped {border: 1px dashed gray;margin: 0 0.4em 0.5em 0.4em;box-sizing: border-box;padding-bottom: 0.4em;background-color: white;}#sk-container-id-12 div.sk-label label {font-family: monospace;font-weight: bold;display: inline-block;line-height: 1.2em;}#sk-container-id-12 div.sk-label-container {text-align: center;}#sk-container-id-12 div.sk-container {/* jupyter's `normalize.less` sets `[hidden] { display: none; }` but bootstrap.min.css set `[hidden] { display: none !important; }` so we also need the `!important` here to be able to override the default hidden behavior on the sphinx rendered scikit-learn.org. See: https://github.com/scikit-learn/scikit-learn/issues/21755 */display: inline-block !important;position: relative;}#sk-container-id-12 div.sk-text-repr-fallback {display: none;}</style><div id=\"sk-container-id-12\" class=\"sk-top-container\"><div class=\"sk-text-repr-fallback\"><pre>SVC(C=1, gamma=1, kernel=&#x27;sigmoid&#x27;, random_state=42)</pre><b>In a Jupyter environment, please rerun this cell to show the HTML representation or trust the notebook. <br />On GitHub, the HTML representation is unable to render, please try loading this page with nbviewer.org.</b></div><div class=\"sk-container\" hidden><div class=\"sk-item\"><div class=\"sk-estimator sk-toggleable\"><input class=\"sk-toggleable__control sk-hidden--visually\" id=\"sk-estimator-id-14\" type=\"checkbox\" checked><label for=\"sk-estimator-id-14\" class=\"sk-toggleable__label sk-toggleable__label-arrow\">SVC</label><div class=\"sk-toggleable__content\"><pre>SVC(C=1, gamma=1, kernel=&#x27;sigmoid&#x27;, random_state=42)</pre></div></div></div></div></div>"
            ]
          },
          "metadata": {},
          "execution_count": 178
        }
      ]
    },
    {
      "cell_type": "code",
      "source": [
        "y_test_pred = svc.predict(X_test_vector)\n",
        "accuracy_score(y_test, y_test_pred)"
      ],
      "metadata": {
        "colab": {
          "base_uri": "https://localhost:8080/"
        },
        "id": "wi5ef_wxTyNg",
        "outputId": "9893e159-2fed-406d-d76d-4e5521ff724c"
      },
      "execution_count": null,
      "outputs": [
        {
          "output_type": "execute_result",
          "data": {
            "text/plain": [
              "0.9829596412556054"
            ]
          },
          "metadata": {},
          "execution_count": 181
        }
      ]
    },
    {
      "cell_type": "markdown",
      "source": [
        "**We get an accuracy of 98.2% with SVC**"
      ],
      "metadata": {
        "id": "oJS7AlnOdYAp"
      }
    }
  ]
}